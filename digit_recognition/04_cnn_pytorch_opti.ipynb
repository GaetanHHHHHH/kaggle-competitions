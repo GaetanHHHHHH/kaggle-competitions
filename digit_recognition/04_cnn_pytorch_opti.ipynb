{
 "cells": [
  {
   "cell_type": "code",
   "execution_count": 1,
   "id": "c41c5b7f",
   "metadata": {
    "_cell_guid": "b1076dfc-b9ad-4769-8c92-a6c4dae69d19",
    "_uuid": "8f2839f25d086af736a60e9eeb907d3b93b6e0e5",
    "execution": {
     "iopub.execute_input": "2024-08-26T17:43:15.505735Z",
     "iopub.status.busy": "2024-08-26T17:43:15.505324Z",
     "iopub.status.idle": "2024-08-26T17:43:22.120676Z",
     "shell.execute_reply": "2024-08-26T17:43:22.119770Z"
    },
    "papermill": {
     "duration": 6.628434,
     "end_time": "2024-08-26T17:43:22.123005",
     "exception": false,
     "start_time": "2024-08-26T17:43:15.494571",
     "status": "completed"
    },
    "tags": []
   },
   "outputs": [],
   "source": [
    "import numpy as np\n",
    "import pandas as pd\n",
    "import torch\n",
    "import torch.nn as nn\n",
    "import torch.optim as optim\n",
    "import torchvision.transforms as transforms\n",
    "import matplotlib.pyplot as plt\n",
    "from torch.utils.data import Dataset, DataLoader, TensorDataset\n",
    "from sklearn.model_selection import train_test_split\n",
    "from sklearn.metrics import accuracy_score"
   ]
  },
  {
   "cell_type": "code",
   "execution_count": 2,
   "id": "78a99d99",
   "metadata": {
    "execution": {
     "iopub.execute_input": "2024-08-26T17:43:22.141355Z",
     "iopub.status.busy": "2024-08-26T17:43:22.140890Z",
     "iopub.status.idle": "2024-08-26T17:43:28.003602Z",
     "shell.execute_reply": "2024-08-26T17:43:28.002603Z"
    },
    "papermill": {
     "duration": 5.874217,
     "end_time": "2024-08-26T17:43:28.005939",
     "exception": false,
     "start_time": "2024-08-26T17:43:22.131722",
     "status": "completed"
    },
    "tags": []
   },
   "outputs": [],
   "source": [
    "train_df = pd.read_csv('/kaggle/input/digit-recognizer/train.csv')\n",
    "test_df = pd.read_csv('/kaggle/input/digit-recognizer/test.csv')"
   ]
  },
  {
   "cell_type": "code",
   "execution_count": 3,
   "id": "fdb758b9",
   "metadata": {
    "execution": {
     "iopub.execute_input": "2024-08-26T17:43:28.024144Z",
     "iopub.status.busy": "2024-08-26T17:43:28.023790Z",
     "iopub.status.idle": "2024-08-26T17:43:28.111729Z",
     "shell.execute_reply": "2024-08-26T17:43:28.110935Z"
    },
    "papermill": {
     "duration": 0.099671,
     "end_time": "2024-08-26T17:43:28.114250",
     "exception": false,
     "start_time": "2024-08-26T17:43:28.014579",
     "status": "completed"
    },
    "tags": []
   },
   "outputs": [],
   "source": [
    "y = train_df['label'].values\n",
    "X = train_df.drop('label', axis=1).values"
   ]
  },
  {
   "cell_type": "markdown",
   "id": "776ab293",
   "metadata": {
    "papermill": {
     "duration": 0.008037,
     "end_time": "2024-08-26T17:43:28.131279",
     "exception": false,
     "start_time": "2024-08-26T17:43:28.123242",
     "status": "completed"
    },
    "tags": []
   },
   "source": [
    "## PyTorch implementation"
   ]
  },
  {
   "cell_type": "markdown",
   "id": "bc8067bf",
   "metadata": {
    "papermill": {
     "duration": 0.008006,
     "end_time": "2024-08-26T17:43:28.147506",
     "exception": false,
     "start_time": "2024-08-26T17:43:28.139500",
     "status": "completed"
    },
    "tags": []
   },
   "source": [
    "### Prepare dataset"
   ]
  },
  {
   "cell_type": "code",
   "execution_count": 4,
   "id": "f57dfabb",
   "metadata": {
    "execution": {
     "iopub.execute_input": "2024-08-26T17:43:28.165498Z",
     "iopub.status.busy": "2024-08-26T17:43:28.165104Z",
     "iopub.status.idle": "2024-08-26T17:43:28.564900Z",
     "shell.execute_reply": "2024-08-26T17:43:28.563879Z"
    },
    "papermill": {
     "duration": 0.411522,
     "end_time": "2024-08-26T17:43:28.567298",
     "exception": false,
     "start_time": "2024-08-26T17:43:28.155776",
     "status": "completed"
    },
    "tags": []
   },
   "outputs": [],
   "source": [
    "X_train, X_val, y_train, y_val = train_test_split(X, y, test_size=0.2, random_state=42)"
   ]
  },
  {
   "cell_type": "code",
   "execution_count": 5,
   "id": "685b301c",
   "metadata": {
    "execution": {
     "iopub.execute_input": "2024-08-26T17:43:28.585719Z",
     "iopub.status.busy": "2024-08-26T17:43:28.585346Z",
     "iopub.status.idle": "2024-08-26T17:43:28.791797Z",
     "shell.execute_reply": "2024-08-26T17:43:28.790789Z"
    },
    "papermill": {
     "duration": 0.218597,
     "end_time": "2024-08-26T17:43:28.794483",
     "exception": false,
     "start_time": "2024-08-26T17:43:28.575886",
     "status": "completed"
    },
    "tags": []
   },
   "outputs": [],
   "source": [
    "X_train = torch.tensor(X_train, dtype=torch.float32) / 255.0\n",
    "X_val = torch.tensor(X_val, dtype=torch.float32) / 255.0\n",
    "X_test = torch.tensor(test_df.values, dtype=torch.float32) / 255.0"
   ]
  },
  {
   "cell_type": "code",
   "execution_count": 6,
   "id": "77a4b8bf",
   "metadata": {
    "execution": {
     "iopub.execute_input": "2024-08-26T17:43:28.815774Z",
     "iopub.status.busy": "2024-08-26T17:43:28.815375Z",
     "iopub.status.idle": "2024-08-26T17:43:28.824393Z",
     "shell.execute_reply": "2024-08-26T17:43:28.823610Z"
    },
    "papermill": {
     "duration": 0.02146,
     "end_time": "2024-08-26T17:43:28.826335",
     "exception": false,
     "start_time": "2024-08-26T17:43:28.804875",
     "status": "completed"
    },
    "tags": []
   },
   "outputs": [],
   "source": [
    "X_train = X_train.view(-1, 1, 28, 28)\n",
    "X_val = X_val.view(-1, 1, 28, 28)\n",
    "X_test = X_test.view(-1, 1, 28, 28)"
   ]
  },
  {
   "cell_type": "code",
   "execution_count": 7,
   "id": "709b84fb",
   "metadata": {
    "execution": {
     "iopub.execute_input": "2024-08-26T17:43:28.845014Z",
     "iopub.status.busy": "2024-08-26T17:43:28.844021Z",
     "iopub.status.idle": "2024-08-26T17:43:28.849205Z",
     "shell.execute_reply": "2024-08-26T17:43:28.848399Z"
    },
    "papermill": {
     "duration": 0.016468,
     "end_time": "2024-08-26T17:43:28.851097",
     "exception": false,
     "start_time": "2024-08-26T17:43:28.834629",
     "status": "completed"
    },
    "tags": []
   },
   "outputs": [],
   "source": [
    "y_train = torch.tensor(y_train, dtype=torch.long)\n",
    "y_val = torch.tensor(y_val, dtype=torch.long)"
   ]
  },
  {
   "cell_type": "code",
   "execution_count": 8,
   "id": "3e0a8b38",
   "metadata": {
    "execution": {
     "iopub.execute_input": "2024-08-26T17:43:28.869347Z",
     "iopub.status.busy": "2024-08-26T17:43:28.868792Z",
     "iopub.status.idle": "2024-08-26T17:43:28.875648Z",
     "shell.execute_reply": "2024-08-26T17:43:28.874818Z"
    },
    "papermill": {
     "duration": 0.018128,
     "end_time": "2024-08-26T17:43:28.877541",
     "exception": false,
     "start_time": "2024-08-26T17:43:28.859413",
     "status": "completed"
    },
    "tags": []
   },
   "outputs": [],
   "source": [
    "# Needed for PyTorch, would've been easier to use PyTorch's own MNIST dataset in other circumstances\n",
    "class MNISTDataset(Dataset):\n",
    "    def __init__(self, images, labels, transform=None):\n",
    "        self.images = images\n",
    "        self.labels = labels\n",
    "        self.transform = transform\n",
    "\n",
    "    def __len__(self):\n",
    "        return len(self.images)\n",
    "\n",
    "    def __getitem__(self, idx):\n",
    "        image = self.images[idx]\n",
    "        label = self.labels[idx]\n",
    "\n",
    "        if self.transform:\n",
    "            image = self.transform(image)\n",
    "\n",
    "        return image, label"
   ]
  },
  {
   "cell_type": "code",
   "execution_count": 9,
   "id": "c890b616",
   "metadata": {
    "execution": {
     "iopub.execute_input": "2024-08-26T17:43:28.896099Z",
     "iopub.status.busy": "2024-08-26T17:43:28.895278Z",
     "iopub.status.idle": "2024-08-26T17:43:28.900492Z",
     "shell.execute_reply": "2024-08-26T17:43:28.899610Z"
    },
    "papermill": {
     "duration": 0.01671,
     "end_time": "2024-08-26T17:43:28.902541",
     "exception": false,
     "start_time": "2024-08-26T17:43:28.885831",
     "status": "completed"
    },
    "tags": []
   },
   "outputs": [],
   "source": [
    "transform = transforms.Compose([\n",
    "    transforms.RandomRotation(10),\n",
    "    transforms.RandomHorizontalFlip(),\n",
    "    transforms.ToTensor()\n",
    "])"
   ]
  },
  {
   "cell_type": "code",
   "execution_count": 10,
   "id": "0a2a5678",
   "metadata": {
    "execution": {
     "iopub.execute_input": "2024-08-26T17:43:28.922911Z",
     "iopub.status.busy": "2024-08-26T17:43:28.922510Z",
     "iopub.status.idle": "2024-08-26T17:43:28.927768Z",
     "shell.execute_reply": "2024-08-26T17:43:28.926905Z"
    },
    "papermill": {
     "duration": 0.017425,
     "end_time": "2024-08-26T17:43:28.929870",
     "exception": false,
     "start_time": "2024-08-26T17:43:28.912445",
     "status": "completed"
    },
    "tags": []
   },
   "outputs": [],
   "source": [
    "train_dataset = MNISTDataset(X_train, y_train)\n",
    "val_dataset = MNISTDataset(X_val, y_val)"
   ]
  },
  {
   "cell_type": "code",
   "execution_count": 11,
   "id": "bff4bc4e",
   "metadata": {
    "execution": {
     "iopub.execute_input": "2024-08-26T17:43:28.949814Z",
     "iopub.status.busy": "2024-08-26T17:43:28.949262Z",
     "iopub.status.idle": "2024-08-26T17:43:28.954063Z",
     "shell.execute_reply": "2024-08-26T17:43:28.953170Z"
    },
    "papermill": {
     "duration": 0.01671,
     "end_time": "2024-08-26T17:43:28.956387",
     "exception": false,
     "start_time": "2024-08-26T17:43:28.939677",
     "status": "completed"
    },
    "tags": []
   },
   "outputs": [],
   "source": [
    "train_loader = DataLoader(train_dataset, batch_size=64, shuffle=True)\n",
    "val_loader = DataLoader(val_dataset, batch_size=64, shuffle=False)"
   ]
  },
  {
   "cell_type": "markdown",
   "id": "df5ee700",
   "metadata": {
    "papermill": {
     "duration": 0.008932,
     "end_time": "2024-08-26T17:43:28.975503",
     "exception": false,
     "start_time": "2024-08-26T17:43:28.966571",
     "status": "completed"
    },
    "tags": []
   },
   "source": [
    "### Prepare model"
   ]
  },
  {
   "cell_type": "code",
   "execution_count": 12,
   "id": "faf40a96",
   "metadata": {
    "execution": {
     "iopub.execute_input": "2024-08-26T17:43:28.994576Z",
     "iopub.status.busy": "2024-08-26T17:43:28.993690Z",
     "iopub.status.idle": "2024-08-26T17:43:29.004197Z",
     "shell.execute_reply": "2024-08-26T17:43:29.003254Z"
    },
    "papermill": {
     "duration": 0.022829,
     "end_time": "2024-08-26T17:43:29.006702",
     "exception": false,
     "start_time": "2024-08-26T17:43:28.983873",
     "status": "completed"
    },
    "tags": []
   },
   "outputs": [],
   "source": [
    "class CNN(nn.Module):\n",
    "    def __init__(self, output_size=10):\n",
    "        super(CNN, self).__init__()\n",
    "        \n",
    "        # Convolutional layers\n",
    "        self.conv1 = nn.Conv2d(1, 32, kernel_size=3, stride=1, padding=1)  # Output: 32x28x28\n",
    "        self.bn1 = nn.BatchNorm2d(32)\n",
    "        \n",
    "        self.conv2 = nn.Conv2d(32, 64, kernel_size=3, stride=1, padding=1)  # Output: 64x28x28\n",
    "        self.bn2 = nn.BatchNorm2d(64)\n",
    "        \n",
    "        self.pool = nn.MaxPool2d(2, 2)  # Reduces each spatial dimension by 2, Output: 64x14x14\n",
    "        \n",
    "        # Fully connected layers after flattening\n",
    "        self.fc1 = nn.Linear(64 * 14 * 14, 128)\n",
    "        self.bn_fc1 = nn.BatchNorm1d(128)\n",
    "        \n",
    "        self.fc2 = nn.Linear(128, output_size)\n",
    "        \n",
    "        # Activation and dropout\n",
    "        self.relu = nn.ReLU()\n",
    "        self.dropout = nn.Dropout(0.6)\n",
    "        \n",
    "    def forward(self, x):\n",
    "        # Convolutional layers\n",
    "        x = self.relu(self.bn1(self.conv1(x)))\n",
    "        x = self.relu(self.bn2(self.conv2(x)))\n",
    "        x = self.pool(x)\n",
    "        \n",
    "        # Flatten the output from conv layers to feed into fully connected layers\n",
    "        x = x.view(x.size(0), -1)  # Reshape (batch_size, 64*14*14)\n",
    "        \n",
    "        # Fully connected layers\n",
    "        x = self.relu(self.bn_fc1(self.fc1(x)))\n",
    "        x = self.dropout(x)\n",
    "        x = self.fc2(x)\n",
    "        \n",
    "        return x"
   ]
  },
  {
   "cell_type": "markdown",
   "id": "330b89a6",
   "metadata": {
    "papermill": {
     "duration": 0.00926,
     "end_time": "2024-08-26T17:43:29.026010",
     "exception": false,
     "start_time": "2024-08-26T17:43:29.016750",
     "status": "completed"
    },
    "tags": []
   },
   "source": [
    "### Train model"
   ]
  },
  {
   "cell_type": "markdown",
   "id": "c7309b64",
   "metadata": {
    "papermill": {
     "duration": 0.008081,
     "end_time": "2024-08-26T17:43:29.042808",
     "exception": false,
     "start_time": "2024-08-26T17:43:29.034727",
     "status": "completed"
    },
    "tags": []
   },
   "source": [
    "Plot results to identify overfitting and tune hyperparameters."
   ]
  },
  {
   "cell_type": "code",
   "execution_count": 13,
   "id": "3950f415",
   "metadata": {
    "execution": {
     "iopub.execute_input": "2024-08-26T17:43:29.061209Z",
     "iopub.status.busy": "2024-08-26T17:43:29.060529Z",
     "iopub.status.idle": "2024-08-26T17:43:29.290317Z",
     "shell.execute_reply": "2024-08-26T17:43:29.289279Z"
    },
    "papermill": {
     "duration": 0.241597,
     "end_time": "2024-08-26T17:43:29.292669",
     "exception": false,
     "start_time": "2024-08-26T17:43:29.051072",
     "status": "completed"
    },
    "tags": []
   },
   "outputs": [],
   "source": [
    "device = torch.device('cuda' if torch.cuda.is_available() else 'cpu')\n",
    "model = CNN().to(device)\n",
    "criterion = nn.CrossEntropyLoss()\n",
    "optimizer = optim.Adam(model.parameters(), lr=0.00025, weight_decay=1e-4)\n",
    "scheduler = torch.optim.lr_scheduler.ReduceLROnPlateau(optimizer, mode='min', factor=0.1, patience=5)"
   ]
  },
  {
   "cell_type": "code",
   "execution_count": 14,
   "id": "8a1b30ca",
   "metadata": {
    "execution": {
     "iopub.execute_input": "2024-08-26T17:43:29.311533Z",
     "iopub.status.busy": "2024-08-26T17:43:29.311101Z",
     "iopub.status.idle": "2024-08-26T17:43:29.315529Z",
     "shell.execute_reply": "2024-08-26T17:43:29.314678Z"
    },
    "papermill": {
     "duration": 0.016228,
     "end_time": "2024-08-26T17:43:29.317552",
     "exception": false,
     "start_time": "2024-08-26T17:43:29.301324",
     "status": "completed"
    },
    "tags": []
   },
   "outputs": [],
   "source": [
    "num_epochs = 100"
   ]
  },
  {
   "cell_type": "code",
   "execution_count": 15,
   "id": "8a24f5db",
   "metadata": {
    "execution": {
     "iopub.execute_input": "2024-08-26T17:43:29.336368Z",
     "iopub.status.busy": "2024-08-26T17:43:29.335978Z",
     "iopub.status.idle": "2024-08-26T17:43:29.340333Z",
     "shell.execute_reply": "2024-08-26T17:43:29.339447Z"
    },
    "papermill": {
     "duration": 0.015997,
     "end_time": "2024-08-26T17:43:29.342341",
     "exception": false,
     "start_time": "2024-08-26T17:43:29.326344",
     "status": "completed"
    },
    "tags": []
   },
   "outputs": [],
   "source": [
    "best_val_acc = 0.0\n",
    "best_model_path = 'best_model.pth'"
   ]
  },
  {
   "cell_type": "code",
   "execution_count": 16,
   "id": "7857644d",
   "metadata": {
    "execution": {
     "iopub.execute_input": "2024-08-26T17:43:29.361505Z",
     "iopub.status.busy": "2024-08-26T17:43:29.360733Z",
     "iopub.status.idle": "2024-08-26T17:47:45.185492Z",
     "shell.execute_reply": "2024-08-26T17:47:45.184285Z"
    },
    "papermill": {
     "duration": 255.836719,
     "end_time": "2024-08-26T17:47:45.187633",
     "exception": false,
     "start_time": "2024-08-26T17:43:29.350914",
     "status": "completed"
    },
    "tags": []
   },
   "outputs": [
    {
     "name": "stdout",
     "output_type": "stream",
     "text": [
      "Epoch 1/100, Train Loss: 0.3601, Train Acc: 0.9375, Val Loss: 0.0939, Val Acc: 0.9833\n",
      "New best model saved at epoch 1 with validation accuracy: 0.9833\n",
      "Epoch 2/100, Train Loss: 0.1211, Train Acc: 0.9755, Val Loss: 0.0543, Val Acc: 0.9856\n",
      "New best model saved at epoch 2 with validation accuracy: 0.9856\n",
      "Epoch 3/100, Train Loss: 0.0804, Train Acc: 0.9821, Val Loss: 0.0424, Val Acc: 0.9890\n",
      "New best model saved at epoch 3 with validation accuracy: 0.9890\n",
      "Epoch 4/100, Train Loss: 0.0605, Train Acc: 0.9864, Val Loss: 0.0402, Val Acc: 0.9877\n",
      "Epoch 5/100, Train Loss: 0.0463, Train Acc: 0.9891, Val Loss: 0.0386, Val Acc: 0.9871\n",
      "Epoch 6/100, Train Loss: 0.0410, Train Acc: 0.9896, Val Loss: 0.0373, Val Acc: 0.9869\n",
      "Epoch 7/100, Train Loss: 0.0319, Train Acc: 0.9927, Val Loss: 0.0343, Val Acc: 0.9896\n",
      "New best model saved at epoch 7 with validation accuracy: 0.9896\n",
      "Epoch 8/100, Train Loss: 0.0311, Train Acc: 0.9919, Val Loss: 0.0325, Val Acc: 0.9898\n",
      "New best model saved at epoch 8 with validation accuracy: 0.9898\n",
      "Epoch 9/100, Train Loss: 0.0294, Train Acc: 0.9922, Val Loss: 0.0320, Val Acc: 0.9890\n",
      "Epoch 10/100, Train Loss: 0.0235, Train Acc: 0.9939, Val Loss: 0.0345, Val Acc: 0.9890\n",
      "Epoch 11/100, Train Loss: 0.0221, Train Acc: 0.9946, Val Loss: 0.0347, Val Acc: 0.9898\n",
      "Epoch 12/100, Train Loss: 0.0207, Train Acc: 0.9946, Val Loss: 0.0356, Val Acc: 0.9899\n",
      "New best model saved at epoch 12 with validation accuracy: 0.9899\n",
      "Epoch 13/100, Train Loss: 0.0198, Train Acc: 0.9947, Val Loss: 0.0342, Val Acc: 0.9894\n",
      "Epoch 14/100, Train Loss: 0.0178, Train Acc: 0.9953, Val Loss: 0.0315, Val Acc: 0.9899\n",
      "Epoch 15/100, Train Loss: 0.0165, Train Acc: 0.9955, Val Loss: 0.0356, Val Acc: 0.9895\n",
      "Epoch 16/100, Train Loss: 0.0150, Train Acc: 0.9965, Val Loss: 0.0355, Val Acc: 0.9890\n",
      "Epoch 17/100, Train Loss: 0.0152, Train Acc: 0.9960, Val Loss: 0.0330, Val Acc: 0.9902\n",
      "New best model saved at epoch 17 with validation accuracy: 0.9902\n",
      "Epoch 18/100, Train Loss: 0.0169, Train Acc: 0.9956, Val Loss: 0.0276, Val Acc: 0.9907\n",
      "New best model saved at epoch 18 with validation accuracy: 0.9907\n",
      "Epoch 19/100, Train Loss: 0.0140, Train Acc: 0.9961, Val Loss: 0.0323, Val Acc: 0.9904\n",
      "Epoch 20/100, Train Loss: 0.0144, Train Acc: 0.9962, Val Loss: 0.0322, Val Acc: 0.9906\n",
      "Epoch 21/100, Train Loss: 0.0118, Train Acc: 0.9970, Val Loss: 0.0335, Val Acc: 0.9893\n",
      "Epoch 22/100, Train Loss: 0.0132, Train Acc: 0.9963, Val Loss: 0.0338, Val Acc: 0.9895\n",
      "Epoch 23/100, Train Loss: 0.0113, Train Acc: 0.9971, Val Loss: 0.0316, Val Acc: 0.9904\n",
      "Epoch 24/100, Train Loss: 0.0113, Train Acc: 0.9971, Val Loss: 0.0354, Val Acc: 0.9883\n",
      "Epoch 25/100, Train Loss: 0.0099, Train Acc: 0.9978, Val Loss: 0.0301, Val Acc: 0.9913\n",
      "New best model saved at epoch 25 with validation accuracy: 0.9913\n",
      "Epoch 26/100, Train Loss: 0.0079, Train Acc: 0.9984, Val Loss: 0.0297, Val Acc: 0.9911\n",
      "Epoch 27/100, Train Loss: 0.0063, Train Acc: 0.9985, Val Loss: 0.0291, Val Acc: 0.9918\n",
      "New best model saved at epoch 27 with validation accuracy: 0.9918\n",
      "Epoch 28/100, Train Loss: 0.0064, Train Acc: 0.9983, Val Loss: 0.0296, Val Acc: 0.9917\n",
      "Epoch 29/100, Train Loss: 0.0059, Train Acc: 0.9990, Val Loss: 0.0290, Val Acc: 0.9915\n",
      "Epoch 30/100, Train Loss: 0.0057, Train Acc: 0.9988, Val Loss: 0.0289, Val Acc: 0.9918\n",
      "Epoch 31/100, Train Loss: 0.0052, Train Acc: 0.9990, Val Loss: 0.0291, Val Acc: 0.9920\n",
      "New best model saved at epoch 31 with validation accuracy: 0.9920\n",
      "Epoch 32/100, Train Loss: 0.0049, Train Acc: 0.9992, Val Loss: 0.0289, Val Acc: 0.9918\n",
      "Epoch 33/100, Train Loss: 0.0044, Train Acc: 0.9992, Val Loss: 0.0288, Val Acc: 0.9919\n",
      "Epoch 34/100, Train Loss: 0.0052, Train Acc: 0.9991, Val Loss: 0.0288, Val Acc: 0.9914\n",
      "Epoch 35/100, Train Loss: 0.0044, Train Acc: 0.9994, Val Loss: 0.0284, Val Acc: 0.9918\n",
      "Epoch 36/100, Train Loss: 0.0047, Train Acc: 0.9992, Val Loss: 0.0291, Val Acc: 0.9912\n",
      "Epoch 37/100, Train Loss: 0.0045, Train Acc: 0.9993, Val Loss: 0.0289, Val Acc: 0.9914\n",
      "Epoch 38/100, Train Loss: 0.0046, Train Acc: 0.9992, Val Loss: 0.0286, Val Acc: 0.9917\n",
      "Epoch 39/100, Train Loss: 0.0045, Train Acc: 0.9995, Val Loss: 0.0291, Val Acc: 0.9919\n",
      "Epoch 40/100, Train Loss: 0.0044, Train Acc: 0.9992, Val Loss: 0.0284, Val Acc: 0.9917\n",
      "Epoch 41/100, Train Loss: 0.0046, Train Acc: 0.9995, Val Loss: 0.0290, Val Acc: 0.9918\n",
      "Epoch 42/100, Train Loss: 0.0044, Train Acc: 0.9992, Val Loss: 0.0286, Val Acc: 0.9921\n",
      "New best model saved at epoch 42 with validation accuracy: 0.9921\n",
      "Epoch 43/100, Train Loss: 0.0045, Train Acc: 0.9994, Val Loss: 0.0286, Val Acc: 0.9920\n",
      "Epoch 44/100, Train Loss: 0.0048, Train Acc: 0.9992, Val Loss: 0.0294, Val Acc: 0.9911\n",
      "Epoch 45/100, Train Loss: 0.0049, Train Acc: 0.9991, Val Loss: 0.0292, Val Acc: 0.9913\n",
      "Epoch 46/100, Train Loss: 0.0045, Train Acc: 0.9994, Val Loss: 0.0290, Val Acc: 0.9915\n",
      "Epoch 47/100, Train Loss: 0.0045, Train Acc: 0.9991, Val Loss: 0.0283, Val Acc: 0.9921\n",
      "Epoch 48/100, Train Loss: 0.0049, Train Acc: 0.9991, Val Loss: 0.0288, Val Acc: 0.9917\n",
      "Epoch 49/100, Train Loss: 0.0048, Train Acc: 0.9991, Val Loss: 0.0289, Val Acc: 0.9915\n",
      "Epoch 50/100, Train Loss: 0.0046, Train Acc: 0.9993, Val Loss: 0.0292, Val Acc: 0.9917\n",
      "Epoch 51/100, Train Loss: 0.0047, Train Acc: 0.9992, Val Loss: 0.0288, Val Acc: 0.9919\n",
      "Epoch 52/100, Train Loss: 0.0046, Train Acc: 0.9994, Val Loss: 0.0287, Val Acc: 0.9919\n",
      "Epoch 53/100, Train Loss: 0.0051, Train Acc: 0.9989, Val Loss: 0.0288, Val Acc: 0.9918\n",
      "Epoch 54/100, Train Loss: 0.0044, Train Acc: 0.9994, Val Loss: 0.0291, Val Acc: 0.9914\n",
      "Epoch 55/100, Train Loss: 0.0044, Train Acc: 0.9994, Val Loss: 0.0285, Val Acc: 0.9920\n",
      "Epoch 56/100, Train Loss: 0.0048, Train Acc: 0.9992, Val Loss: 0.0287, Val Acc: 0.9917\n",
      "Epoch 57/100, Train Loss: 0.0047, Train Acc: 0.9993, Val Loss: 0.0291, Val Acc: 0.9919\n",
      "Epoch 58/100, Train Loss: 0.0042, Train Acc: 0.9993, Val Loss: 0.0287, Val Acc: 0.9919\n",
      "Epoch 59/100, Train Loss: 0.0040, Train Acc: 0.9996, Val Loss: 0.0289, Val Acc: 0.9915\n",
      "Epoch 60/100, Train Loss: 0.0044, Train Acc: 0.9994, Val Loss: 0.0289, Val Acc: 0.9917\n",
      "Epoch 61/100, Train Loss: 0.0048, Train Acc: 0.9991, Val Loss: 0.0293, Val Acc: 0.9919\n",
      "Epoch 62/100, Train Loss: 0.0046, Train Acc: 0.9993, Val Loss: 0.0288, Val Acc: 0.9918\n",
      "Epoch 63/100, Train Loss: 0.0047, Train Acc: 0.9991, Val Loss: 0.0287, Val Acc: 0.9919\n",
      "Epoch 64/100, Train Loss: 0.0052, Train Acc: 0.9991, Val Loss: 0.0284, Val Acc: 0.9915\n",
      "Epoch 65/100, Train Loss: 0.0047, Train Acc: 0.9993, Val Loss: 0.0289, Val Acc: 0.9917\n",
      "Epoch 66/100, Train Loss: 0.0050, Train Acc: 0.9990, Val Loss: 0.0289, Val Acc: 0.9917\n",
      "Epoch 67/100, Train Loss: 0.0050, Train Acc: 0.9991, Val Loss: 0.0288, Val Acc: 0.9917\n",
      "Epoch 68/100, Train Loss: 0.0046, Train Acc: 0.9993, Val Loss: 0.0288, Val Acc: 0.9914\n",
      "Epoch 69/100, Train Loss: 0.0044, Train Acc: 0.9992, Val Loss: 0.0286, Val Acc: 0.9918\n",
      "Epoch 70/100, Train Loss: 0.0047, Train Acc: 0.9994, Val Loss: 0.0286, Val Acc: 0.9917\n",
      "Epoch 71/100, Train Loss: 0.0045, Train Acc: 0.9992, Val Loss: 0.0292, Val Acc: 0.9917\n",
      "Epoch 72/100, Train Loss: 0.0043, Train Acc: 0.9995, Val Loss: 0.0290, Val Acc: 0.9914\n",
      "Epoch 73/100, Train Loss: 0.0052, Train Acc: 0.9990, Val Loss: 0.0284, Val Acc: 0.9920\n",
      "Epoch 74/100, Train Loss: 0.0042, Train Acc: 0.9995, Val Loss: 0.0284, Val Acc: 0.9917\n",
      "Epoch 75/100, Train Loss: 0.0049, Train Acc: 0.9991, Val Loss: 0.0290, Val Acc: 0.9914\n",
      "Epoch 76/100, Train Loss: 0.0051, Train Acc: 0.9991, Val Loss: 0.0289, Val Acc: 0.9918\n",
      "Epoch 77/100, Train Loss: 0.0044, Train Acc: 0.9994, Val Loss: 0.0289, Val Acc: 0.9915\n",
      "Epoch 78/100, Train Loss: 0.0048, Train Acc: 0.9992, Val Loss: 0.0289, Val Acc: 0.9918\n",
      "Epoch 79/100, Train Loss: 0.0045, Train Acc: 0.9992, Val Loss: 0.0285, Val Acc: 0.9918\n",
      "Epoch 80/100, Train Loss: 0.0046, Train Acc: 0.9991, Val Loss: 0.0291, Val Acc: 0.9915\n",
      "Epoch 81/100, Train Loss: 0.0048, Train Acc: 0.9991, Val Loss: 0.0293, Val Acc: 0.9917\n",
      "Epoch 82/100, Train Loss: 0.0045, Train Acc: 0.9990, Val Loss: 0.0295, Val Acc: 0.9913\n",
      "Epoch 83/100, Train Loss: 0.0047, Train Acc: 0.9992, Val Loss: 0.0287, Val Acc: 0.9918\n",
      "Epoch 84/100, Train Loss: 0.0045, Train Acc: 0.9994, Val Loss: 0.0291, Val Acc: 0.9917\n",
      "Epoch 85/100, Train Loss: 0.0045, Train Acc: 0.9993, Val Loss: 0.0286, Val Acc: 0.9919\n",
      "Epoch 86/100, Train Loss: 0.0047, Train Acc: 0.9991, Val Loss: 0.0294, Val Acc: 0.9920\n",
      "Epoch 87/100, Train Loss: 0.0048, Train Acc: 0.9992, Val Loss: 0.0286, Val Acc: 0.9917\n",
      "Epoch 88/100, Train Loss: 0.0049, Train Acc: 0.9990, Val Loss: 0.0290, Val Acc: 0.9917\n",
      "Epoch 89/100, Train Loss: 0.0044, Train Acc: 0.9992, Val Loss: 0.0289, Val Acc: 0.9919\n",
      "Epoch 90/100, Train Loss: 0.0047, Train Acc: 0.9991, Val Loss: 0.0292, Val Acc: 0.9915\n",
      "Epoch 91/100, Train Loss: 0.0047, Train Acc: 0.9992, Val Loss: 0.0290, Val Acc: 0.9918\n",
      "Epoch 92/100, Train Loss: 0.0045, Train Acc: 0.9994, Val Loss: 0.0288, Val Acc: 0.9918\n",
      "Epoch 93/100, Train Loss: 0.0046, Train Acc: 0.9993, Val Loss: 0.0292, Val Acc: 0.9915\n",
      "Epoch 94/100, Train Loss: 0.0046, Train Acc: 0.9991, Val Loss: 0.0289, Val Acc: 0.9917\n",
      "Epoch 95/100, Train Loss: 0.0052, Train Acc: 0.9987, Val Loss: 0.0290, Val Acc: 0.9915\n",
      "Epoch 96/100, Train Loss: 0.0047, Train Acc: 0.9991, Val Loss: 0.0288, Val Acc: 0.9920\n",
      "Epoch 97/100, Train Loss: 0.0048, Train Acc: 0.9991, Val Loss: 0.0290, Val Acc: 0.9917\n",
      "Epoch 98/100, Train Loss: 0.0044, Train Acc: 0.9994, Val Loss: 0.0287, Val Acc: 0.9915\n",
      "Epoch 99/100, Train Loss: 0.0045, Train Acc: 0.9991, Val Loss: 0.0289, Val Acc: 0.9917\n",
      "Epoch 100/100, Train Loss: 0.0045, Train Acc: 0.9993, Val Loss: 0.0284, Val Acc: 0.9921\n"
     ]
    }
   ],
   "source": [
    "train_losses = []\n",
    "val_losses = []\n",
    "train_accuracies = []\n",
    "val_accuracies = []\n",
    "\n",
    "for epoch in range(num_epochs):\n",
    "    # Training phase\n",
    "    model.train()\n",
    "    running_loss = 0.0\n",
    "    correct_train = 0\n",
    "    total_train = 0\n",
    "\n",
    "    for images, labels in train_loader:\n",
    "        images, labels = images.to(device), labels.to(device)\n",
    "        optimizer.zero_grad()\n",
    "        outputs = model(images)\n",
    "        loss = criterion(outputs, labels)\n",
    "        loss.backward()\n",
    "        optimizer.step()\n",
    "        \n",
    "        running_loss += loss.item()\n",
    "        _, predicted = torch.max(outputs, 1)\n",
    "        correct_train += (predicted == labels).sum().item()\n",
    "        total_train += labels.size(0)\n",
    "\n",
    "    train_acc = correct_train / total_train\n",
    "\n",
    "    # Validation phase\n",
    "    model.eval()\n",
    "    correct_val = 0\n",
    "    total_val = 0\n",
    "    val_loss = 0.0\n",
    "\n",
    "    with torch.no_grad():\n",
    "        for images, labels in val_loader:\n",
    "            images, labels = images.to(device), labels.to(device)\n",
    "            outputs = model(images)\n",
    "            loss = criterion(outputs, labels)\n",
    "            val_loss += loss.item()\n",
    "\n",
    "            _, predicted = torch.max(outputs, 1)\n",
    "            correct_val += (predicted == labels).sum().item()\n",
    "            total_val += labels.size(0)\n",
    "\n",
    "    val_acc = correct_val / total_val\n",
    "    val_loss /= len(val_loader)\n",
    "\n",
    "    print(f\"Epoch {epoch+1}/{num_epochs}, \"\n",
    "          f\"Train Loss: {running_loss/len(train_loader):.4f}, \"\n",
    "          f\"Train Acc: {train_acc:.4f}, \"\n",
    "          f\"Val Loss: {val_loss:.4f}, \"\n",
    "          f\"Val Acc: {val_acc:.4f}\")\n",
    "\n",
    "    train_losses.append(loss)\n",
    "    val_losses.append(val_loss)\n",
    "    train_accuracies.append(train_acc)\n",
    "    val_accuracies.append(val_acc)\n",
    "\n",
    "    if val_acc > best_val_acc:\n",
    "        best_val_acc = val_acc\n",
    "        torch.save(model.state_dict(), best_model_path)  # Save the best model\n",
    "        print(f\"New best model saved at epoch {epoch+1} with validation accuracy: {val_acc:.4f}\")\n",
    "    \n",
    "    scheduler.step(val_loss)"
   ]
  },
  {
   "cell_type": "code",
   "execution_count": 17,
   "id": "7cc934e2",
   "metadata": {
    "execution": {
     "iopub.execute_input": "2024-08-26T17:47:45.221283Z",
     "iopub.status.busy": "2024-08-26T17:47:45.220937Z",
     "iopub.status.idle": "2024-08-26T17:47:45.716845Z",
     "shell.execute_reply": "2024-08-26T17:47:45.715865Z"
    },
    "papermill": {
     "duration": 0.515597,
     "end_time": "2024-08-26T17:47:45.719455",
     "exception": false,
     "start_time": "2024-08-26T17:47:45.203858",
     "status": "completed"
    },
    "tags": []
   },
   "outputs": [
    {
     "data": {
      "image/png": "[encoded data removed]",
      "text/plain": [
       "<Figure size 1200x500 with 2 Axes>"
      ]
     },
     "metadata": {},
     "output_type": "display_data"
    }
   ],
   "source": [
    "epochs = range(1, num_epochs + 1)\n",
    "\n",
    "train_losses_cpu = [loss.cpu().numpy() for loss in train_losses]\n",
    "\n",
    "plt.figure(figsize=(12, 5))\n",
    "\n",
    "# Plot loss\n",
    "plt.subplot(1, 2, 1)\n",
    "plt.plot(epochs, train_losses_cpu, 'bo-', label='Training Loss')\n",
    "plt.plot(epochs, val_losses, 'ro-', label='Validation Loss')\n",
    "plt.title('Loss vs Epochs')\n",
    "plt.xlabel('Epochs')\n",
    "plt.ylabel('Loss')\n",
    "plt.legend()\n",
    "\n",
    "# Plot accuracy\n",
    "plt.subplot(1, 2, 2)\n",
    "plt.plot(epochs, train_accuracies, 'bo-', label='Training Accuracy')\n",
    "plt.plot(epochs, val_accuracies, 'ro-', label='Validation Accuracy')\n",
    "plt.title('Accuracy vs Epochs')\n",
    "plt.xlabel('Epochs')\n",
    "plt.ylabel('Accuracy')\n",
    "plt.legend()\n",
    "\n",
    "plt.tight_layout()\n",
    "plt.show()"
   ]
  },
  {
   "cell_type": "markdown",
   "id": "fb67f0a7",
   "metadata": {
    "papermill": {
     "duration": 0.016801,
     "end_time": "2024-08-26T17:47:45.753402",
     "exception": false,
     "start_time": "2024-08-26T17:47:45.736601",
     "status": "completed"
    },
    "tags": []
   },
   "source": [
    "### Evaluate model"
   ]
  },
  {
   "cell_type": "code",
   "execution_count": 18,
   "id": "9bdd5bf7",
   "metadata": {
    "execution": {
     "iopub.execute_input": "2024-08-26T17:47:45.789540Z",
     "iopub.status.busy": "2024-08-26T17:47:45.788832Z",
     "iopub.status.idle": "2024-08-26T17:47:45.823784Z",
     "shell.execute_reply": "2024-08-26T17:47:45.822738Z"
    },
    "papermill": {
     "duration": 0.056247,
     "end_time": "2024-08-26T17:47:45.826630",
     "exception": false,
     "start_time": "2024-08-26T17:47:45.770383",
     "status": "completed"
    },
    "tags": []
   },
   "outputs": [
    {
     "name": "stderr",
     "output_type": "stream",
     "text": [
      "/tmp/ipykernel_24/3837472470.py:2: FutureWarning: You are using `torch.load` with `weights_only=False` (the current default value), which uses the default pickle module implicitly. It is possible to construct malicious pickle data which will execute arbitrary code during unpickling (See https://github.com/pytorch/pytorch/blob/main/SECURITY.md#untrusted-models for more details). In a future release, the default value for `weights_only` will be flipped to `True`. This limits the functions that could be executed during unpickling. Arbitrary objects will no longer be allowed to be loaded via this mode unless they are explicitly allowlisted by the user via `torch.serialization.add_safe_globals`. We recommend you start setting `weights_only=True` for any use case where you don't have full control of the loaded file. Please open an issue on GitHub for any issues related to this experimental feature.\n",
      "  best_model.load_state_dict(torch.load(best_model_path))\n"
     ]
    },
    {
     "data": {
      "text/plain": [
       "<All keys matched successfully>"
      ]
     },
     "execution_count": 18,
     "metadata": {},
     "output_type": "execute_result"
    }
   ],
   "source": [
    "best_model = CNN()\n",
    "best_model.load_state_dict(torch.load(best_model_path))"
   ]
  },
  {
   "cell_type": "code",
   "execution_count": 19,
   "id": "6ede40e5",
   "metadata": {
    "execution": {
     "iopub.execute_input": "2024-08-26T17:47:45.862946Z",
     "iopub.status.busy": "2024-08-26T17:47:45.862041Z",
     "iopub.status.idle": "2024-08-26T17:47:45.866722Z",
     "shell.execute_reply": "2024-08-26T17:47:45.865712Z"
    },
    "papermill": {
     "duration": 0.024837,
     "end_time": "2024-08-26T17:47:45.868691",
     "exception": false,
     "start_time": "2024-08-26T17:47:45.843854",
     "status": "completed"
    },
    "tags": []
   },
   "outputs": [],
   "source": [
    "best_model.eval()\n",
    "correct = 0\n",
    "total = 0"
   ]
  },
  {
   "cell_type": "code",
   "execution_count": 20,
   "id": "ad4f92e0",
   "metadata": {
    "execution": {
     "iopub.execute_input": "2024-08-26T17:47:45.907137Z",
     "iopub.status.busy": "2024-08-26T17:47:45.906223Z",
     "iopub.status.idle": "2024-08-26T17:47:51.408447Z",
     "shell.execute_reply": "2024-08-26T17:47:51.406977Z"
    },
    "papermill": {
     "duration": 5.522695,
     "end_time": "2024-08-26T17:47:51.410586",
     "exception": false,
     "start_time": "2024-08-26T17:47:45.887891",
     "status": "completed"
    },
    "tags": []
   },
   "outputs": [
    {
     "name": "stdout",
     "output_type": "stream",
     "text": [
      "Accuracy: 99.21%\n"
     ]
    }
   ],
   "source": [
    "with torch.no_grad():\n",
    "    for images, labels in val_loader:\n",
    "        outputs = best_model(images)\n",
    "        _, predicted = torch.max(outputs, 1)\n",
    "        total += labels.size(0)\n",
    "        correct += (predicted == labels).sum().item()\n",
    "\n",
    "print(f'Accuracy: {100 * correct / total:.2f}%')"
   ]
  },
  {
   "cell_type": "markdown",
   "id": "23ca8a63",
   "metadata": {
    "papermill": {
     "duration": 0.01668,
     "end_time": "2024-08-26T17:47:51.444363",
     "exception": false,
     "start_time": "2024-08-26T17:47:51.427683",
     "status": "completed"
    },
    "tags": []
   },
   "source": [
    "### Grab submission"
   ]
  },
  {
   "cell_type": "code",
   "execution_count": 21,
   "id": "7e13ce26",
   "metadata": {
    "execution": {
     "iopub.execute_input": "2024-08-26T17:47:51.479333Z",
     "iopub.status.busy": "2024-08-26T17:47:51.478717Z",
     "iopub.status.idle": "2024-08-26T17:47:51.483436Z",
     "shell.execute_reply": "2024-08-26T17:47:51.482551Z"
    },
    "papermill": {
     "duration": 0.024469,
     "end_time": "2024-08-26T17:47:51.485470",
     "exception": false,
     "start_time": "2024-08-26T17:47:51.461001",
     "status": "completed"
    },
    "tags": []
   },
   "outputs": [],
   "source": [
    "test_dataset = TensorDataset(X_test)\n",
    "test_loader = DataLoader(test_dataset, batch_size=64, shuffle=False)"
   ]
  },
  {
   "cell_type": "code",
   "execution_count": 22,
   "id": "f9c0f396",
   "metadata": {
    "execution": {
     "iopub.execute_input": "2024-08-26T17:47:51.519978Z",
     "iopub.status.busy": "2024-08-26T17:47:51.519633Z",
     "iopub.status.idle": "2024-08-26T17:47:51.526084Z",
     "shell.execute_reply": "2024-08-26T17:47:51.525190Z"
    },
    "papermill": {
     "duration": 0.025969,
     "end_time": "2024-08-26T17:47:51.528060",
     "exception": false,
     "start_time": "2024-08-26T17:47:51.502091",
     "status": "completed"
    },
    "tags": []
   },
   "outputs": [
    {
     "data": {
      "text/plain": [
       "CNN(\n",
       "  (conv1): Conv2d(1, 32, kernel_size=(3, 3), stride=(1, 1), padding=(1, 1))\n",
       "  (bn1): BatchNorm2d(32, eps=1e-05, momentum=0.1, affine=True, track_running_stats=True)\n",
       "  (conv2): Conv2d(32, 64, kernel_size=(3, 3), stride=(1, 1), padding=(1, 1))\n",
       "  (bn2): BatchNorm2d(64, eps=1e-05, momentum=0.1, affine=True, track_running_stats=True)\n",
       "  (pool): MaxPool2d(kernel_size=2, stride=2, padding=0, dilation=1, ceil_mode=False)\n",
       "  (fc1): Linear(in_features=12544, out_features=128, bias=True)\n",
       "  (bn_fc1): BatchNorm1d(128, eps=1e-05, momentum=0.1, affine=True, track_running_stats=True)\n",
       "  (fc2): Linear(in_features=128, out_features=10, bias=True)\n",
       "  (relu): ReLU()\n",
       "  (dropout): Dropout(p=0.6, inplace=False)\n",
       ")"
      ]
     },
     "execution_count": 22,
     "metadata": {},
     "output_type": "execute_result"
    }
   ],
   "source": [
    "best_model.eval()"
   ]
  },
  {
   "cell_type": "code",
   "execution_count": 23,
   "id": "8575d400",
   "metadata": {
    "execution": {
     "iopub.execute_input": "2024-08-26T17:47:51.563440Z",
     "iopub.status.busy": "2024-08-26T17:47:51.563148Z",
     "iopub.status.idle": "2024-08-26T17:48:09.816278Z",
     "shell.execute_reply": "2024-08-26T17:48:09.815287Z"
    },
    "papermill": {
     "duration": 18.274367,
     "end_time": "2024-08-26T17:48:09.819361",
     "exception": false,
     "start_time": "2024-08-26T17:47:51.544994",
     "status": "completed"
    },
    "tags": []
   },
   "outputs": [],
   "source": [
    "all_predictions = []\n",
    "\n",
    "with torch.no_grad():\n",
    "    for inputs in test_loader:\n",
    "        inputs = inputs[0] \n",
    "        outputs = best_model(inputs)\n",
    "        _, predictions = torch.max(outputs, 1)\n",
    "        all_predictions.append(predictions.numpy())"
   ]
  },
  {
   "cell_type": "code",
   "execution_count": 24,
   "id": "15d729e5",
   "metadata": {
    "execution": {
     "iopub.execute_input": "2024-08-26T17:48:09.871557Z",
     "iopub.status.busy": "2024-08-26T17:48:09.871070Z",
     "iopub.status.idle": "2024-08-26T17:48:09.878482Z",
     "shell.execute_reply": "2024-08-26T17:48:09.877453Z"
    },
    "papermill": {
     "duration": 0.038168,
     "end_time": "2024-08-26T17:48:09.882693",
     "exception": false,
     "start_time": "2024-08-26T17:48:09.844525",
     "status": "completed"
    },
    "tags": []
   },
   "outputs": [],
   "source": [
    "all_predictions = np.concatenate(all_predictions)\n",
    "\n",
    "predictions_list = all_predictions.tolist()"
   ]
  },
  {
   "cell_type": "code",
   "execution_count": 25,
   "id": "db91ab45",
   "metadata": {
    "execution": {
     "iopub.execute_input": "2024-08-26T17:48:09.925071Z",
     "iopub.status.busy": "2024-08-26T17:48:09.923985Z",
     "iopub.status.idle": "2024-08-26T17:48:09.942187Z",
     "shell.execute_reply": "2024-08-26T17:48:09.941275Z"
    },
    "papermill": {
     "duration": 0.038627,
     "end_time": "2024-08-26T17:48:09.944267",
     "exception": false,
     "start_time": "2024-08-26T17:48:09.905640",
     "status": "completed"
    },
    "tags": []
   },
   "outputs": [],
   "source": [
    "submission = pd.DataFrame(predictions_list)\n",
    "submission.index.name='ImageId'\n",
    "submission.index+=1\n",
    "submission.columns=['Label']"
   ]
  },
  {
   "cell_type": "code",
   "execution_count": 26,
   "id": "89fca563",
   "metadata": {
    "execution": {
     "iopub.execute_input": "2024-08-26T17:48:09.982596Z",
     "iopub.status.busy": "2024-08-26T17:48:09.980289Z",
     "iopub.status.idle": "2024-08-26T17:48:10.023619Z",
     "shell.execute_reply": "2024-08-26T17:48:10.022644Z"
    },
    "papermill": {
     "duration": 0.064414,
     "end_time": "2024-08-26T17:48:10.026608",
     "exception": false,
     "start_time": "2024-08-26T17:48:09.962194",
     "status": "completed"
    },
    "tags": []
   },
   "outputs": [],
   "source": [
    "submission.to_csv('submission.csv', index=\"ImageId\")"
   ]
  }
 ],
 "metadata": {
  "kaggle": {
   "accelerator": "gpu",
   "dataSources": [
    {
     "databundleVersionId": 861823,
     "sourceId": 3004,
     "sourceType": "competition"
    }
   ],
   "dockerImageVersionId": 30761,
   "isGpuEnabled": true,
   "isInternetEnabled": true,
   "language": "python",
   "sourceType": "notebook"
  },
  "kernelspec": {
   "display_name": "Python 3",
   "language": "python",
   "name": "python3"
  },
  "language_info": {
   "codemirror_mode": {
    "name": "ipython",
    "version": 3
   },
   "file_extension": ".py",
   "mimetype": "text/x-python",
   "name": "python",
   "nbconvert_exporter": "python",
   "pygments_lexer": "ipython3",
   "version": "3.10.14"
  },
  "papermill": {
   "default_parameters": {},
   "duration": 299.830628,
   "end_time": "2024-08-26T17:48:12.566861",
   "environment_variables": {},
   "exception": null,
   "input_path": "__notebook__.ipynb",
   "output_path": "__notebook__.ipynb",
   "parameters": {},
   "start_time": "2024-08-26T17:43:12.736233",
   "version": "2.6.0"
  }
 },
 "nbformat": 4,
 "nbformat_minor": 5
}
