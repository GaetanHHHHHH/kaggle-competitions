{
 "cells": [
  {
   "cell_type": "markdown",
   "id": "3a09a8fe",
   "metadata": {
    "papermill": {
     "duration": 0.007594,
     "end_time": "2024-03-29T07:57:33.951605",
     "exception": false,
     "start_time": "2024-03-29T07:57:33.944011",
     "status": "completed"
    },
    "tags": []
   },
   "source": [
    "# Setup"
   ]
  },
  {
   "cell_type": "markdown",
   "id": "a7e24cb4",
   "metadata": {
    "papermill": {
     "duration": 0.006794,
     "end_time": "2024-03-29T07:57:33.965516",
     "exception": false,
     "start_time": "2024-03-29T07:57:33.958722",
     "status": "completed"
    },
    "tags": []
   },
   "source": [
    "## Configs"
   ]
  },
  {
   "cell_type": "code",
   "execution_count": 1,
   "id": "25151dee",
   "metadata": {
    "execution": {
     "iopub.execute_input": "2024-03-29T07:57:33.981078Z",
     "iopub.status.busy": "2024-03-29T07:57:33.980354Z",
     "iopub.status.idle": "2024-03-29T07:57:33.990321Z",
     "shell.execute_reply": "2024-03-29T07:57:33.989602Z"
    },
    "papermill": {
     "duration": 0.019743,
     "end_time": "2024-03-29T07:57:33.992148",
     "exception": false,
     "start_time": "2024-03-29T07:57:33.972405",
     "status": "completed"
    },
    "tags": []
   },
   "outputs": [],
   "source": [
    "INFERENCE_MAX_LENGTH = 2048\n",
    "model_path = '/kaggle/input/3-deberta-fine-tuned-training/deberta3base_1024'"
   ]
  },
  {
   "cell_type": "markdown",
   "id": "a3bbcb92",
   "metadata": {
    "papermill": {
     "duration": 0.006713,
     "end_time": "2024-03-29T07:57:34.005967",
     "exception": false,
     "start_time": "2024-03-29T07:57:33.999254",
     "status": "completed"
    },
    "tags": []
   },
   "source": [
    "## Imports"
   ]
  },
  {
   "cell_type": "code",
   "execution_count": 2,
   "id": "3852e79a",
   "metadata": {
    "execution": {
     "iopub.execute_input": "2024-03-29T07:57:34.021019Z",
     "iopub.status.busy": "2024-03-29T07:57:34.020467Z",
     "iopub.status.idle": "2024-03-29T07:57:52.481381Z",
     "shell.execute_reply": "2024-03-29T07:57:52.480623Z"
    },
    "papermill": {
     "duration": 18.47095,
     "end_time": "2024-03-29T07:57:52.483681",
     "exception": false,
     "start_time": "2024-03-29T07:57:34.012731",
     "status": "completed"
    },
    "tags": []
   },
   "outputs": [
    {
     "name": "stderr",
     "output_type": "stream",
     "text": [
      "2024-03-29 07:57:44.259821: E external/local_xla/xla/stream_executor/cuda/cuda_dnn.cc:9261] Unable to register cuDNN factory: Attempting to register factory for plugin cuDNN when one has already been registered\n",
      "2024-03-29 07:57:44.259925: E external/local_xla/xla/stream_executor/cuda/cuda_fft.cc:607] Unable to register cuFFT factory: Attempting to register factory for plugin cuFFT when one has already been registered\n",
      "2024-03-29 07:57:44.385956: E external/local_xla/xla/stream_executor/cuda/cuda_blas.cc:1515] Unable to register cuBLAS factory: Attempting to register factory for plugin cuBLAS when one has already been registered\n"
     ]
    }
   ],
   "source": [
    "import json\n",
    "import pandas as pd\n",
    "import numpy as np\n",
    "from itertools import chain\n",
    "from pathlib import Path\n",
    "\n",
    "import torch\n",
    "from transformers import AutoTokenizer, Trainer, TrainingArguments, AutoModelForTokenClassification, DataCollatorForTokenClassification\n",
    "from datasets import Dataset"
   ]
  },
  {
   "cell_type": "markdown",
   "id": "a2042e1f",
   "metadata": {
    "papermill": {
     "duration": 0.006933,
     "end_time": "2024-03-29T07:57:52.498026",
     "exception": false,
     "start_time": "2024-03-29T07:57:52.491093",
     "status": "completed"
    },
    "tags": []
   },
   "source": [
    "# Data (pre)processing"
   ]
  },
  {
   "cell_type": "code",
   "execution_count": 3,
   "id": "966b4883",
   "metadata": {
    "execution": {
     "iopub.execute_input": "2024-03-29T07:57:52.513333Z",
     "iopub.status.busy": "2024-03-29T07:57:52.512758Z",
     "iopub.status.idle": "2024-03-29T07:57:52.524798Z",
     "shell.execute_reply": "2024-03-29T07:57:52.524127Z"
    },
    "papermill": {
     "duration": 0.02182,
     "end_time": "2024-03-29T07:57:52.526738",
     "exception": false,
     "start_time": "2024-03-29T07:57:52.504918",
     "status": "completed"
    },
    "tags": []
   },
   "outputs": [],
   "source": [
    "test_data = json.load(open(\"/kaggle/input/pii-detection-removal-from-educational-data/test.json\"))"
   ]
  },
  {
   "cell_type": "markdown",
   "id": "7881618c",
   "metadata": {
    "papermill": {
     "duration": 0.006736,
     "end_time": "2024-03-29T07:57:52.541570",
     "exception": false,
     "start_time": "2024-03-29T07:57:52.534834",
     "status": "completed"
    },
    "tags": []
   },
   "source": [
    "## Tokenization"
   ]
  },
  {
   "cell_type": "code",
   "execution_count": 4,
   "id": "b81bd2e1",
   "metadata": {
    "execution": {
     "iopub.execute_input": "2024-03-29T07:57:52.556783Z",
     "iopub.status.busy": "2024-03-29T07:57:52.556534Z",
     "iopub.status.idle": "2024-03-29T07:57:52.562868Z",
     "shell.execute_reply": "2024-03-29T07:57:52.562047Z"
    },
    "papermill": {
     "duration": 0.016184,
     "end_time": "2024-03-29T07:57:52.564676",
     "exception": false,
     "start_time": "2024-03-29T07:57:52.548492",
     "status": "completed"
    },
    "tags": []
   },
   "outputs": [],
   "source": [
    "def tokenize(data, tokenizer):\n",
    "    \n",
    "    text, token_map = [], []\n",
    "    idx = 0\n",
    "    \n",
    "    for tok, ws in zip(data[\"tokens\"], data[\"trailing_whitespace\"]):\n",
    "        \n",
    "        text.append(tok)\n",
    "        token_map.extend([idx] * len(tok))\n",
    "        \n",
    "        if ws:\n",
    "            text.append(\" \")\n",
    "            token_map.append(-1)\n",
    "            \n",
    "        idx += 1\n",
    "        \n",
    "    tokenized = tokenizer(\"\".join(text), return_offsets_mapping=True, truncation=True, max_length=INFERENCE_MAX_LENGTH)\n",
    "    \n",
    "        \n",
    "    return {**tokenized, \"token_map\": token_map}"
   ]
  },
  {
   "cell_type": "code",
   "execution_count": 5,
   "id": "d92d8ffb",
   "metadata": {
    "execution": {
     "iopub.execute_input": "2024-03-29T07:57:52.579651Z",
     "iopub.status.busy": "2024-03-29T07:57:52.579408Z",
     "iopub.status.idle": "2024-03-29T07:57:52.603424Z",
     "shell.execute_reply": "2024-03-29T07:57:52.602774Z"
    },
    "papermill": {
     "duration": 0.033733,
     "end_time": "2024-03-29T07:57:52.605337",
     "exception": false,
     "start_time": "2024-03-29T07:57:52.571604",
     "status": "completed"
    },
    "tags": []
   },
   "outputs": [],
   "source": [
    "ds = Dataset.from_dict({\n",
    "    \"full_text\": [x[\"full_text\"] for x in test_data],\n",
    "    \"document\": [x[\"document\"] for x in test_data],\n",
    "    \"tokens\": [x[\"tokens\"] for x in test_data],\n",
    "    \"trailing_whitespace\": [x[\"trailing_whitespace\"] for x in test_data],\n",
    "})"
   ]
  },
  {
   "cell_type": "code",
   "execution_count": 6,
   "id": "09361bda",
   "metadata": {
    "execution": {
     "iopub.execute_input": "2024-03-29T07:57:52.620547Z",
     "iopub.status.busy": "2024-03-29T07:57:52.620305Z",
     "iopub.status.idle": "2024-03-29T07:57:52.949697Z",
     "shell.execute_reply": "2024-03-29T07:57:52.948859Z"
    },
    "papermill": {
     "duration": 0.339786,
     "end_time": "2024-03-29T07:57:52.952068",
     "exception": false,
     "start_time": "2024-03-29T07:57:52.612282",
     "status": "completed"
    },
    "tags": []
   },
   "outputs": [],
   "source": [
    "tokenizer = AutoTokenizer.from_pretrained(model_path)"
   ]
  },
  {
   "cell_type": "code",
   "execution_count": 7,
   "id": "de8629f5",
   "metadata": {
    "execution": {
     "iopub.execute_input": "2024-03-29T07:57:52.967789Z",
     "iopub.status.busy": "2024-03-29T07:57:52.967499Z",
     "iopub.status.idle": "2024-03-29T07:57:53.719126Z",
     "shell.execute_reply": "2024-03-29T07:57:53.718006Z"
    },
    "papermill": {
     "duration": 0.762199,
     "end_time": "2024-03-29T07:57:53.721567",
     "exception": false,
     "start_time": "2024-03-29T07:57:52.959368",
     "status": "completed"
    },
    "tags": []
   },
   "outputs": [
    {
     "name": "stdout",
     "output_type": "stream",
     "text": [
      "   "
     ]
    },
    {
     "data": {
      "application/vnd.jupyter.widget-view+json": {
       "model_id": "16c4cfe00be243308419806920971e5b",
       "version_major": 2,
       "version_minor": 0
      },
      "text/plain": [
       "#0:   0%|          | 0/5 [00:00<?, ?ex/s]"
      ]
     },
     "metadata": {},
     "output_type": "display_data"
    },
    {
     "name": "stdout",
     "output_type": "stream",
     "text": [
      " "
     ]
    },
    {
     "data": {
      "application/vnd.jupyter.widget-view+json": {
       "model_id": "97e46b486d3e4e85809b4587071d724c",
       "version_major": 2,
       "version_minor": 0
      },
      "text/plain": [
       "#1:   0%|          | 0/5 [00:00<?, ?ex/s]"
      ]
     },
     "metadata": {},
     "output_type": "display_data"
    }
   ],
   "source": [
    "ds = ds.map(tokenize, fn_kwargs={\"tokenizer\": tokenizer}, num_proc=2)"
   ]
  },
  {
   "cell_type": "markdown",
   "id": "9ff9cdba",
   "metadata": {
    "papermill": {
     "duration": 0.007538,
     "end_time": "2024-03-29T07:57:53.737301",
     "exception": false,
     "start_time": "2024-03-29T07:57:53.729763",
     "status": "completed"
    },
    "tags": []
   },
   "source": [
    "# Modeling (based on trained model)"
   ]
  },
  {
   "cell_type": "markdown",
   "id": "a32f73c9",
   "metadata": {
    "papermill": {
     "duration": 0.00734,
     "end_time": "2024-03-29T07:57:53.752188",
     "exception": false,
     "start_time": "2024-03-29T07:57:53.744848",
     "status": "completed"
    },
    "tags": []
   },
   "source": [
    "## Trainer class"
   ]
  },
  {
   "cell_type": "code",
   "execution_count": 8,
   "id": "e56b7f40",
   "metadata": {
    "execution": {
     "iopub.execute_input": "2024-03-29T07:57:53.769274Z",
     "iopub.status.busy": "2024-03-29T07:57:53.768928Z",
     "iopub.status.idle": "2024-03-29T07:57:58.633755Z",
     "shell.execute_reply": "2024-03-29T07:57:58.632893Z"
    },
    "papermill": {
     "duration": 4.876013,
     "end_time": "2024-03-29T07:57:58.636059",
     "exception": false,
     "start_time": "2024-03-29T07:57:53.760046",
     "status": "completed"
    },
    "tags": []
   },
   "outputs": [],
   "source": [
    "model = AutoModelForTokenClassification.from_pretrained(model_path)"
   ]
  },
  {
   "cell_type": "code",
   "execution_count": 9,
   "id": "be3f43a4",
   "metadata": {
    "execution": {
     "iopub.execute_input": "2024-03-29T07:57:58.653198Z",
     "iopub.status.busy": "2024-03-29T07:57:58.652882Z",
     "iopub.status.idle": "2024-03-29T07:57:58.656911Z",
     "shell.execute_reply": "2024-03-29T07:57:58.656171Z"
    },
    "papermill": {
     "duration": 0.014707,
     "end_time": "2024-03-29T07:57:58.658882",
     "exception": false,
     "start_time": "2024-03-29T07:57:58.644175",
     "status": "completed"
    },
    "tags": []
   },
   "outputs": [],
   "source": [
    "collator = DataCollatorForTokenClassification(tokenizer, pad_to_multiple_of=16)"
   ]
  },
  {
   "cell_type": "code",
   "execution_count": 10,
   "id": "50c0712b",
   "metadata": {
    "execution": {
     "iopub.execute_input": "2024-03-29T07:57:58.675461Z",
     "iopub.status.busy": "2024-03-29T07:57:58.675207Z",
     "iopub.status.idle": "2024-03-29T07:57:58.757712Z",
     "shell.execute_reply": "2024-03-29T07:57:58.756977Z"
    },
    "papermill": {
     "duration": 0.093107,
     "end_time": "2024-03-29T07:57:58.759792",
     "exception": false,
     "start_time": "2024-03-29T07:57:58.666685",
     "status": "completed"
    },
    "tags": []
   },
   "outputs": [],
   "source": [
    "args = TrainingArguments(\n",
    "    \".\", \n",
    "    per_device_eval_batch_size=1, \n",
    "    report_to=\"none\",\n",
    ")"
   ]
  },
  {
   "cell_type": "code",
   "execution_count": 11,
   "id": "1041d53b",
   "metadata": {
    "execution": {
     "iopub.execute_input": "2024-03-29T07:57:58.776369Z",
     "iopub.status.busy": "2024-03-29T07:57:58.776090Z",
     "iopub.status.idle": "2024-03-29T07:57:59.117054Z",
     "shell.execute_reply": "2024-03-29T07:57:59.115870Z"
    },
    "papermill": {
     "duration": 0.352152,
     "end_time": "2024-03-29T07:57:59.119861",
     "exception": false,
     "start_time": "2024-03-29T07:57:58.767709",
     "status": "completed"
    },
    "tags": []
   },
   "outputs": [
    {
     "name": "stderr",
     "output_type": "stream",
     "text": [
      "/opt/conda/lib/python3.10/site-packages/accelerate/accelerator.py:432: FutureWarning: Passing the following arguments to `Accelerator` is deprecated and will be removed in version 1.0 of Accelerate: dict_keys(['dispatch_batches', 'split_batches', 'even_batches', 'use_seedable_sampler']). Please pass an `accelerate.DataLoaderConfiguration` instead: \n",
      "dataloader_config = DataLoaderConfiguration(dispatch_batches=None, split_batches=False, even_batches=True, use_seedable_sampler=True)\n",
      "  warnings.warn(\n"
     ]
    }
   ],
   "source": [
    "trainer = Trainer(\n",
    "    model=model, \n",
    "    args=args, \n",
    "    data_collator=collator, \n",
    "    tokenizer=tokenizer,\n",
    ")"
   ]
  },
  {
   "cell_type": "markdown",
   "id": "701e4e96",
   "metadata": {
    "papermill": {
     "duration": 0.009412,
     "end_time": "2024-03-29T07:57:59.140749",
     "exception": false,
     "start_time": "2024-03-29T07:57:59.131337",
     "status": "completed"
    },
    "tags": []
   },
   "source": [
    "## Prediction post processing"
   ]
  },
  {
   "cell_type": "code",
   "execution_count": 12,
   "id": "455ac0bc",
   "metadata": {
    "execution": {
     "iopub.execute_input": "2024-03-29T07:57:59.160766Z",
     "iopub.status.busy": "2024-03-29T07:57:59.160323Z",
     "iopub.status.idle": "2024-03-29T07:58:00.624234Z",
     "shell.execute_reply": "2024-03-29T07:58:00.623361Z"
    },
    "papermill": {
     "duration": 1.476769,
     "end_time": "2024-03-29T07:58:00.626352",
     "exception": false,
     "start_time": "2024-03-29T07:57:59.149583",
     "status": "completed"
    },
    "tags": []
   },
   "outputs": [
    {
     "data": {
      "text/html": [],
      "text/plain": [
       "<IPython.core.display.HTML object>"
      ]
     },
     "metadata": {},
     "output_type": "display_data"
    }
   ],
   "source": [
    "predictions = trainer.predict(ds).predictions\n",
    "pred_softmax = np.exp(predictions) / np.sum(np.exp(predictions), axis = 2).reshape(predictions.shape[0],predictions.shape[1],1)"
   ]
  },
  {
   "cell_type": "code",
   "execution_count": 13,
   "id": "81943a6b",
   "metadata": {
    "execution": {
     "iopub.execute_input": "2024-03-29T07:58:00.643848Z",
     "iopub.status.busy": "2024-03-29T07:58:00.643555Z",
     "iopub.status.idle": "2024-03-29T07:58:00.648368Z",
     "shell.execute_reply": "2024-03-29T07:58:00.647597Z"
    },
    "papermill": {
     "duration": 0.015551,
     "end_time": "2024-03-29T07:58:00.650296",
     "exception": false,
     "start_time": "2024-03-29T07:58:00.634745",
     "status": "completed"
    },
    "tags": []
   },
   "outputs": [],
   "source": [
    "config = json.load(open(Path(model_path) / \"config.json\"))\n",
    "id2label = config[\"id2label\"]"
   ]
  },
  {
   "cell_type": "code",
   "execution_count": 14,
   "id": "d18bf97b",
   "metadata": {
    "execution": {
     "iopub.execute_input": "2024-03-29T07:58:00.666801Z",
     "iopub.status.busy": "2024-03-29T07:58:00.666533Z",
     "iopub.status.idle": "2024-03-29T07:58:00.672827Z",
     "shell.execute_reply": "2024-03-29T07:58:00.671954Z"
    },
    "papermill": {
     "duration": 0.01667,
     "end_time": "2024-03-29T07:58:00.674757",
     "exception": false,
     "start_time": "2024-03-29T07:58:00.658087",
     "status": "completed"
    },
    "tags": []
   },
   "outputs": [],
   "source": [
    "preds = predictions.argmax(-1)\n",
    "preds_without_O = pred_softmax[:,:,:12].argmax(-1)\n",
    "O_preds = pred_softmax[:,:,12]"
   ]
  },
  {
   "cell_type": "code",
   "execution_count": 15,
   "id": "45c240a3",
   "metadata": {
    "execution": {
     "iopub.execute_input": "2024-03-29T07:58:00.699346Z",
     "iopub.status.busy": "2024-03-29T07:58:00.699067Z",
     "iopub.status.idle": "2024-03-29T07:58:00.703258Z",
     "shell.execute_reply": "2024-03-29T07:58:00.702431Z"
    },
    "papermill": {
     "duration": 0.022101,
     "end_time": "2024-03-29T07:58:00.705193",
     "exception": false,
     "start_time": "2024-03-29T07:58:00.683092",
     "status": "completed"
    },
    "tags": []
   },
   "outputs": [],
   "source": [
    "threshold = 0.9\n",
    "preds_final = np.where(O_preds < threshold, preds_without_O, preds)"
   ]
  },
  {
   "cell_type": "code",
   "execution_count": 16,
   "id": "e52ab1fd",
   "metadata": {
    "execution": {
     "iopub.execute_input": "2024-03-29T07:58:00.721996Z",
     "iopub.status.busy": "2024-03-29T07:58:00.721711Z",
     "iopub.status.idle": "2024-03-29T07:58:00.725543Z",
     "shell.execute_reply": "2024-03-29T07:58:00.724779Z"
    },
    "papermill": {
     "duration": 0.014204,
     "end_time": "2024-03-29T07:58:00.727373",
     "exception": false,
     "start_time": "2024-03-29T07:58:00.713169",
     "status": "completed"
    },
    "tags": []
   },
   "outputs": [],
   "source": [
    "triplets = []\n",
    "document, token, label, token_str = [], [], [], []"
   ]
  },
  {
   "cell_type": "code",
   "execution_count": 17,
   "id": "a085a0a5",
   "metadata": {
    "execution": {
     "iopub.execute_input": "2024-03-29T07:58:00.744515Z",
     "iopub.status.busy": "2024-03-29T07:58:00.744279Z",
     "iopub.status.idle": "2024-03-29T07:58:00.837824Z",
     "shell.execute_reply": "2024-03-29T07:58:00.837096Z"
    },
    "papermill": {
     "duration": 0.104246,
     "end_time": "2024-03-29T07:58:00.839735",
     "exception": false,
     "start_time": "2024-03-29T07:58:00.735489",
     "status": "completed"
    },
    "tags": []
   },
   "outputs": [],
   "source": [
    "for p, token_map, offsets, tokens, doc in zip(preds_final, ds[\"token_map\"], ds[\"offset_mapping\"], ds[\"tokens\"], ds[\"document\"]):\n",
    "\n",
    "    for token_pred, (start_idx, end_idx) in zip(p, offsets):\n",
    "        label_pred = id2label[str(token_pred)]\n",
    "\n",
    "        if start_idx + end_idx == 0: continue\n",
    "\n",
    "        if token_map[start_idx] == -1:\n",
    "            start_idx += 1\n",
    "\n",
    "        # ignore \"\\n\\n\"\n",
    "        while start_idx < len(token_map) and tokens[token_map[start_idx]].isspace():\n",
    "            start_idx += 1\n",
    "\n",
    "        if start_idx >= len(token_map): break\n",
    "\n",
    "        token_id = token_map[start_idx]\n",
    "\n",
    "        # ignore \"O\" predictions and whitespace preds\n",
    "        if label_pred != \"O\" and token_id != -1:\n",
    "            triplet = (label_pred, token_id, tokens[token_id])\n",
    "\n",
    "            if triplet not in triplets:\n",
    "                document.append(doc)\n",
    "                token.append(token_id)\n",
    "                label.append(label_pred)\n",
    "                token_str.append(tokens[token_id])\n",
    "                triplets.append(triplet)"
   ]
  },
  {
   "cell_type": "markdown",
   "id": "9433643a",
   "metadata": {
    "papermill": {
     "duration": 0.00772,
     "end_time": "2024-03-29T07:58:00.855471",
     "exception": false,
     "start_time": "2024-03-29T07:58:00.847751",
     "status": "completed"
    },
    "tags": []
   },
   "source": [
    "# Submission"
   ]
  },
  {
   "cell_type": "code",
   "execution_count": null,
   "id": "a642656e",
   "metadata": {
    "execution": {
     "iopub.execute_input": "2024-03-29T07:58:00.872401Z",
     "iopub.status.busy": "2024-03-29T07:58:00.872153Z",
     "iopub.status.idle": "2024-03-29T07:58:00.896306Z",
     "shell.execute_reply": "2024-03-29T07:58:00.895455Z"
    },
    "papermill": {
     "duration": 0.034624,
     "end_time": "2024-03-29T07:58:00.898214",
     "exception": false,
     "start_time": "2024-03-29T07:58:00.863590",
     "status": "completed"
    },
    "tags": []
   },
   "outputs": [],
   "source": [
    "df = pd.DataFrame({\n",
    "    \"document\": document,\n",
    "    \"token\": token,\n",
    "    \"label\": label,\n",
    "    \"token_str\": token_str\n",
    "})\n",
    "df[\"row_id\"] = list(range(len(df)))\n",
    "display(df.head(100))"
   ]
  },
  {
   "cell_type": "code",
   "execution_count": 19,
   "id": "2f0c5a5c",
   "metadata": {
    "execution": {
     "iopub.execute_input": "2024-03-29T07:58:00.916055Z",
     "iopub.status.busy": "2024-03-29T07:58:00.915322Z",
     "iopub.status.idle": "2024-03-29T07:58:00.928026Z",
     "shell.execute_reply": "2024-03-29T07:58:00.927384Z"
    },
    "papermill": {
     "duration": 0.023446,
     "end_time": "2024-03-29T07:58:00.929847",
     "exception": false,
     "start_time": "2024-03-29T07:58:00.906401",
     "status": "completed"
    },
    "tags": []
   },
   "outputs": [],
   "source": [
    "df[[\"row_id\", \"document\", \"token\", \"label\"]].to_csv(\"submission.csv\", index=False)"
   ]
  }
 ],
 "metadata": {
  "kaggle": {
   "accelerator": "gpu",
   "dataSources": [
    {
     "databundleVersionId": 7500999,
     "sourceId": 66653,
     "sourceType": "competition"
    },
    {
     "datasetId": 4352433,
     "sourceId": 7477327,
     "sourceType": "datasetVersion"
    },
    {
     "sourceId": 169168888,
     "sourceType": "kernelVersion"
    }
   ],
   "dockerImageVersionId": 30674,
   "isGpuEnabled": true,
   "isInternetEnabled": false,
   "language": "python",
   "sourceType": "notebook"
  },
  "kernelspec": {
   "display_name": "Python 3",
   "language": "python",
   "name": "python3"
  },
  "language_info": {
   "codemirror_mode": {
    "name": "ipython",
    "version": 3
   },
   "file_extension": ".py",
   "mimetype": "text/x-python",
   "name": "python",
   "nbconvert_exporter": "python",
   "pygments_lexer": "ipython3",
   "version": "3.10.13"
  },
  "papermill": {
   "default_parameters": {},
   "duration": 33.144504,
   "end_time": "2024-03-29T07:58:04.396399",
   "environment_variables": {},
   "exception": null,
   "input_path": "__notebook__.ipynb",
   "output_path": "__notebook__.ipynb",
   "parameters": {},
   "start_time": "2024-03-29T07:57:31.251895",
   "version": "2.5.0"
  },
  "widgets": {
   "application/vnd.jupyter.widget-state+json": {
    "state": {
     "0459ab89c9c44eb8af37601a9e7c4b3f": {
      "model_module": "@jupyter-widgets/controls",
      "model_module_version": "1.5.0",
      "model_name": "HTMLModel",
      "state": {
       "_dom_classes": [],
       "_model_module": "@jupyter-widgets/controls",
       "_model_module_version": "1.5.0",
       "_model_name": "HTMLModel",
       "_view_count": null,
       "_view_module": "@jupyter-widgets/controls",
       "_view_module_version": "1.5.0",
       "_view_name": "HTMLView",
       "description": "",
       "description_tooltip": null,
       "layout": "IPY_MODEL_c1c90bf68d7a4599914b2e183d6d51a6",
       "placeholder": "​",
       "style": "IPY_MODEL_482a3ac3473b4be38b7073f096a2ce92",
       "value": " 5/5 [00:00&lt;00:00, 74.13ex/s]"
      }
     },
     "0d500c1a571647f68da031a4a13b5d3d": {
      "model_module": "@jupyter-widgets/controls",
      "model_module_version": "1.5.0",
      "model_name": "HTMLModel",
      "state": {
       "_dom_classes": [],
       "_model_module": "@jupyter-widgets/controls",
       "_model_module_version": "1.5.0",
       "_model_name": "HTMLModel",
       "_view_count": null,
       "_view_module": "@jupyter-widgets/controls",
       "_view_module_version": "1.5.0",
       "_view_name": "HTMLView",
       "description": "",
       "description_tooltip": null,
       "layout": "IPY_MODEL_eb733b56f76b4a778573fb1074c17524",
       "placeholder": "​",
       "style": "IPY_MODEL_fb5da460e7084faf988c5e49fec971da",
       "value": "#1: 100%"
      }
     },
     "0e647a3fed4c444ea851104edd197123": {
      "model_module": "@jupyter-widgets/controls",
      "model_module_version": "1.5.0",
      "model_name": "FloatProgressModel",
      "state": {
       "_dom_classes": [],
       "_model_module": "@jupyter-widgets/controls",
       "_model_module_version": "1.5.0",
       "_model_name": "FloatProgressModel",
       "_view_count": null,
       "_view_module": "@jupyter-widgets/controls",
       "_view_module_version": "1.5.0",
       "_view_name": "ProgressView",
       "bar_style": "success",
       "description": "",
       "description_tooltip": null,
       "layout": "IPY_MODEL_b906d1092ae3485783039dd3d0c6ab6f",
       "max": 5,
       "min": 0,
       "orientation": "horizontal",
       "style": "IPY_MODEL_e01b28a5b0e649a1afea2f9b990cb200",
       "value": 5
      }
     },
     "0e837588f8c24ce9a01a4877fb502b73": {
      "model_module": "@jupyter-widgets/controls",
      "model_module_version": "1.5.0",
      "model_name": "DescriptionStyleModel",
      "state": {
       "_model_module": "@jupyter-widgets/controls",
       "_model_module_version": "1.5.0",
       "_model_name": "DescriptionStyleModel",
       "_view_count": null,
       "_view_module": "@jupyter-widgets/base",
       "_view_module_version": "1.2.0",
       "_view_name": "StyleView",
       "description_width": ""
      }
     },
     "16c4cfe00be243308419806920971e5b": {
      "model_module": "@jupyter-widgets/controls",
      "model_module_version": "1.5.0",
      "model_name": "HBoxModel",
      "state": {
       "_dom_classes": [],
       "_model_module": "@jupyter-widgets/controls",
       "_model_module_version": "1.5.0",
       "_model_name": "HBoxModel",
       "_view_count": null,
       "_view_module": "@jupyter-widgets/controls",
       "_view_module_version": "1.5.0",
       "_view_name": "HBoxView",
       "box_style": "",
       "children": [
        "IPY_MODEL_a0b22ade5ef54673857349887a5d3a33",
        "IPY_MODEL_0e647a3fed4c444ea851104edd197123",
        "IPY_MODEL_a66783613e3d49ff8c4375ec8bb13bb1"
       ],
       "layout": "IPY_MODEL_f5ca84199fb84b8abedd16904da56458"
      }
     },
     "39a357f580a54f6781b9f90d53052fc0": {
      "model_module": "@jupyter-widgets/controls",
      "model_module_version": "1.5.0",
      "model_name": "ProgressStyleModel",
      "state": {
       "_model_module": "@jupyter-widgets/controls",
       "_model_module_version": "1.5.0",
       "_model_name": "ProgressStyleModel",
       "_view_count": null,
       "_view_module": "@jupyter-widgets/base",
       "_view_module_version": "1.2.0",
       "_view_name": "StyleView",
       "bar_color": null,
       "description_width": ""
      }
     },
     "482a3ac3473b4be38b7073f096a2ce92": {
      "model_module": "@jupyter-widgets/controls",
      "model_module_version": "1.5.0",
      "model_name": "DescriptionStyleModel",
      "state": {
       "_model_module": "@jupyter-widgets/controls",
       "_model_module_version": "1.5.0",
       "_model_name": "DescriptionStyleModel",
       "_view_count": null,
       "_view_module": "@jupyter-widgets/base",
       "_view_module_version": "1.2.0",
       "_view_name": "StyleView",
       "description_width": ""
      }
     },
     "97e46b486d3e4e85809b4587071d724c": {
      "model_module": "@jupyter-widgets/controls",
      "model_module_version": "1.5.0",
      "model_name": "HBoxModel",
      "state": {
       "_dom_classes": [],
       "_model_module": "@jupyter-widgets/controls",
       "_model_module_version": "1.5.0",
       "_model_name": "HBoxModel",
       "_view_count": null,
       "_view_module": "@jupyter-widgets/controls",
       "_view_module_version": "1.5.0",
       "_view_name": "HBoxView",
       "box_style": "",
       "children": [
        "IPY_MODEL_0d500c1a571647f68da031a4a13b5d3d",
        "IPY_MODEL_b09b7abc65ed407d91fb9dd172d6bf3f",
        "IPY_MODEL_0459ab89c9c44eb8af37601a9e7c4b3f"
       ],
       "layout": "IPY_MODEL_a3d230085cb64978974614ac417af5f6"
      }
     },
     "a0b22ade5ef54673857349887a5d3a33": {
      "model_module": "@jupyter-widgets/controls",
      "model_module_version": "1.5.0",
      "model_name": "HTMLModel",
      "state": {
       "_dom_classes": [],
       "_model_module": "@jupyter-widgets/controls",
       "_model_module_version": "1.5.0",
       "_model_name": "HTMLModel",
       "_view_count": null,
       "_view_module": "@jupyter-widgets/controls",
       "_view_module_version": "1.5.0",
       "_view_name": "HTMLView",
       "description": "",
       "description_tooltip": null,
       "layout": "IPY_MODEL_d3c4c9a6d88c47d8905ed43342b57e19",
       "placeholder": "​",
       "style": "IPY_MODEL_cd48e5c3793b41c590589550323d94fb",
       "value": "#0: 100%"
      }
     },
     "a3d230085cb64978974614ac417af5f6": {
      "model_module": "@jupyter-widgets/base",
      "model_module_version": "1.2.0",
      "model_name": "LayoutModel",
      "state": {
       "_model_module": "@jupyter-widgets/base",
       "_model_module_version": "1.2.0",
       "_model_name": "LayoutModel",
       "_view_count": null,
       "_view_module": "@jupyter-widgets/base",
       "_view_module_version": "1.2.0",
       "_view_name": "LayoutView",
       "align_content": null,
       "align_items": null,
       "align_self": null,
       "border": null,
       "bottom": null,
       "display": null,
       "flex": null,
       "flex_flow": null,
       "grid_area": null,
       "grid_auto_columns": null,
       "grid_auto_flow": null,
       "grid_auto_rows": null,
       "grid_column": null,
       "grid_gap": null,
       "grid_row": null,
       "grid_template_areas": null,
       "grid_template_columns": null,
       "grid_template_rows": null,
       "height": null,
       "justify_content": null,
       "justify_items": null,
       "left": null,
       "margin": null,
       "max_height": null,
       "max_width": null,
       "min_height": null,
       "min_width": null,
       "object_fit": null,
       "object_position": null,
       "order": null,
       "overflow": null,
       "overflow_x": null,
       "overflow_y": null,
       "padding": null,
       "right": null,
       "top": null,
       "visibility": null,
       "width": null
      }
     },
     "a66783613e3d49ff8c4375ec8bb13bb1": {
      "model_module": "@jupyter-widgets/controls",
      "model_module_version": "1.5.0",
      "model_name": "HTMLModel",
      "state": {
       "_dom_classes": [],
       "_model_module": "@jupyter-widgets/controls",
       "_model_module_version": "1.5.0",
       "_model_name": "HTMLModel",
       "_view_count": null,
       "_view_module": "@jupyter-widgets/controls",
       "_view_module_version": "1.5.0",
       "_view_name": "HTMLView",
       "description": "",
       "description_tooltip": null,
       "layout": "IPY_MODEL_d96a6bb546344d419888383da4cabb11",
       "placeholder": "​",
       "style": "IPY_MODEL_0e837588f8c24ce9a01a4877fb502b73",
       "value": " 5/5 [00:00&lt;00:00, 58.51ex/s]"
      }
     },
     "b09b7abc65ed407d91fb9dd172d6bf3f": {
      "model_module": "@jupyter-widgets/controls",
      "model_module_version": "1.5.0",
      "model_name": "FloatProgressModel",
      "state": {
       "_dom_classes": [],
       "_model_module": "@jupyter-widgets/controls",
       "_model_module_version": "1.5.0",
       "_model_name": "FloatProgressModel",
       "_view_count": null,
       "_view_module": "@jupyter-widgets/controls",
       "_view_module_version": "1.5.0",
       "_view_name": "ProgressView",
       "bar_style": "success",
       "description": "",
       "description_tooltip": null,
       "layout": "IPY_MODEL_df0e860b6a0f44bbb57ac5d8a0a3222c",
       "max": 5,
       "min": 0,
       "orientation": "horizontal",
       "style": "IPY_MODEL_39a357f580a54f6781b9f90d53052fc0",
       "value": 5
      }
     },
     "b906d1092ae3485783039dd3d0c6ab6f": {
      "model_module": "@jupyter-widgets/base",
      "model_module_version": "1.2.0",
      "model_name": "LayoutModel",
      "state": {
       "_model_module": "@jupyter-widgets/base",
       "_model_module_version": "1.2.0",
       "_model_name": "LayoutModel",
       "_view_count": null,
       "_view_module": "@jupyter-widgets/base",
       "_view_module_version": "1.2.0",
       "_view_name": "LayoutView",
       "align_content": null,
       "align_items": null,
       "align_self": null,
       "border": null,
       "bottom": null,
       "display": null,
       "flex": null,
       "flex_flow": null,
       "grid_area": null,
       "grid_auto_columns": null,
       "grid_auto_flow": null,
       "grid_auto_rows": null,
       "grid_column": null,
       "grid_gap": null,
       "grid_row": null,
       "grid_template_areas": null,
       "grid_template_columns": null,
       "grid_template_rows": null,
       "height": null,
       "justify_content": null,
       "justify_items": null,
       "left": null,
       "margin": null,
       "max_height": null,
       "max_width": null,
       "min_height": null,
       "min_width": null,
       "object_fit": null,
       "object_position": null,
       "order": null,
       "overflow": null,
       "overflow_x": null,
       "overflow_y": null,
       "padding": null,
       "right": null,
       "top": null,
       "visibility": null,
       "width": null
      }
     },
     "c1c90bf68d7a4599914b2e183d6d51a6": {
      "model_module": "@jupyter-widgets/base",
      "model_module_version": "1.2.0",
      "model_name": "LayoutModel",
      "state": {
       "_model_module": "@jupyter-widgets/base",
       "_model_module_version": "1.2.0",
       "_model_name": "LayoutModel",
       "_view_count": null,
       "_view_module": "@jupyter-widgets/base",
       "_view_module_version": "1.2.0",
       "_view_name": "LayoutView",
       "align_content": null,
       "align_items": null,
       "align_self": null,
       "border": null,
       "bottom": null,
       "display": null,
       "flex": null,
       "flex_flow": null,
       "grid_area": null,
       "grid_auto_columns": null,
       "grid_auto_flow": null,
       "grid_auto_rows": null,
       "grid_column": null,
       "grid_gap": null,
       "grid_row": null,
       "grid_template_areas": null,
       "grid_template_columns": null,
       "grid_template_rows": null,
       "height": null,
       "justify_content": null,
       "justify_items": null,
       "left": null,
       "margin": null,
       "max_height": null,
       "max_width": null,
       "min_height": null,
       "min_width": null,
       "object_fit": null,
       "object_position": null,
       "order": null,
       "overflow": null,
       "overflow_x": null,
       "overflow_y": null,
       "padding": null,
       "right": null,
       "top": null,
       "visibility": null,
       "width": null
      }
     },
     "cd48e5c3793b41c590589550323d94fb": {
      "model_module": "@jupyter-widgets/controls",
      "model_module_version": "1.5.0",
      "model_name": "DescriptionStyleModel",
      "state": {
       "_model_module": "@jupyter-widgets/controls",
       "_model_module_version": "1.5.0",
       "_model_name": "DescriptionStyleModel",
       "_view_count": null,
       "_view_module": "@jupyter-widgets/base",
       "_view_module_version": "1.2.0",
       "_view_name": "StyleView",
       "description_width": ""
      }
     },
     "d3c4c9a6d88c47d8905ed43342b57e19": {
      "model_module": "@jupyter-widgets/base",
      "model_module_version": "1.2.0",
      "model_name": "LayoutModel",
      "state": {
       "_model_module": "@jupyter-widgets/base",
       "_model_module_version": "1.2.0",
       "_model_name": "LayoutModel",
       "_view_count": null,
       "_view_module": "@jupyter-widgets/base",
       "_view_module_version": "1.2.0",
       "_view_name": "LayoutView",
       "align_content": null,
       "align_items": null,
       "align_self": null,
       "border": null,
       "bottom": null,
       "display": null,
       "flex": null,
       "flex_flow": null,
       "grid_area": null,
       "grid_auto_columns": null,
       "grid_auto_flow": null,
       "grid_auto_rows": null,
       "grid_column": null,
       "grid_gap": null,
       "grid_row": null,
       "grid_template_areas": null,
       "grid_template_columns": null,
       "grid_template_rows": null,
       "height": null,
       "justify_content": null,
       "justify_items": null,
       "left": null,
       "margin": null,
       "max_height": null,
       "max_width": null,
       "min_height": null,
       "min_width": null,
       "object_fit": null,
       "object_position": null,
       "order": null,
       "overflow": null,
       "overflow_x": null,
       "overflow_y": null,
       "padding": null,
       "right": null,
       "top": null,
       "visibility": null,
       "width": null
      }
     },
     "d96a6bb546344d419888383da4cabb11": {
      "model_module": "@jupyter-widgets/base",
      "model_module_version": "1.2.0",
      "model_name": "LayoutModel",
      "state": {
       "_model_module": "@jupyter-widgets/base",
       "_model_module_version": "1.2.0",
       "_model_name": "LayoutModel",
       "_view_count": null,
       "_view_module": "@jupyter-widgets/base",
       "_view_module_version": "1.2.0",
       "_view_name": "LayoutView",
       "align_content": null,
       "align_items": null,
       "align_self": null,
       "border": null,
       "bottom": null,
       "display": null,
       "flex": null,
       "flex_flow": null,
       "grid_area": null,
       "grid_auto_columns": null,
       "grid_auto_flow": null,
       "grid_auto_rows": null,
       "grid_column": null,
       "grid_gap": null,
       "grid_row": null,
       "grid_template_areas": null,
       "grid_template_columns": null,
       "grid_template_rows": null,
       "height": null,
       "justify_content": null,
       "justify_items": null,
       "left": null,
       "margin": null,
       "max_height": null,
       "max_width": null,
       "min_height": null,
       "min_width": null,
       "object_fit": null,
       "object_position": null,
       "order": null,
       "overflow": null,
       "overflow_x": null,
       "overflow_y": null,
       "padding": null,
       "right": null,
       "top": null,
       "visibility": null,
       "width": null
      }
     },
     "df0e860b6a0f44bbb57ac5d8a0a3222c": {
      "model_module": "@jupyter-widgets/base",
      "model_module_version": "1.2.0",
      "model_name": "LayoutModel",
      "state": {
       "_model_module": "@jupyter-widgets/base",
       "_model_module_version": "1.2.0",
       "_model_name": "LayoutModel",
       "_view_count": null,
       "_view_module": "@jupyter-widgets/base",
       "_view_module_version": "1.2.0",
       "_view_name": "LayoutView",
       "align_content": null,
       "align_items": null,
       "align_self": null,
       "border": null,
       "bottom": null,
       "display": null,
       "flex": null,
       "flex_flow": null,
       "grid_area": null,
       "grid_auto_columns": null,
       "grid_auto_flow": null,
       "grid_auto_rows": null,
       "grid_column": null,
       "grid_gap": null,
       "grid_row": null,
       "grid_template_areas": null,
       "grid_template_columns": null,
       "grid_template_rows": null,
       "height": null,
       "justify_content": null,
       "justify_items": null,
       "left": null,
       "margin": null,
       "max_height": null,
       "max_width": null,
       "min_height": null,
       "min_width": null,
       "object_fit": null,
       "object_position": null,
       "order": null,
       "overflow": null,
       "overflow_x": null,
       "overflow_y": null,
       "padding": null,
       "right": null,
       "top": null,
       "visibility": null,
       "width": null
      }
     },
     "e01b28a5b0e649a1afea2f9b990cb200": {
      "model_module": "@jupyter-widgets/controls",
      "model_module_version": "1.5.0",
      "model_name": "ProgressStyleModel",
      "state": {
       "_model_module": "@jupyter-widgets/controls",
       "_model_module_version": "1.5.0",
       "_model_name": "ProgressStyleModel",
       "_view_count": null,
       "_view_module": "@jupyter-widgets/base",
       "_view_module_version": "1.2.0",
       "_view_name": "StyleView",
       "bar_color": null,
       "description_width": ""
      }
     },
     "eb733b56f76b4a778573fb1074c17524": {
      "model_module": "@jupyter-widgets/base",
      "model_module_version": "1.2.0",
      "model_name": "LayoutModel",
      "state": {
       "_model_module": "@jupyter-widgets/base",
       "_model_module_version": "1.2.0",
       "_model_name": "LayoutModel",
       "_view_count": null,
       "_view_module": "@jupyter-widgets/base",
       "_view_module_version": "1.2.0",
       "_view_name": "LayoutView",
       "align_content": null,
       "align_items": null,
       "align_self": null,
       "border": null,
       "bottom": null,
       "display": null,
       "flex": null,
       "flex_flow": null,
       "grid_area": null,
       "grid_auto_columns": null,
       "grid_auto_flow": null,
       "grid_auto_rows": null,
       "grid_column": null,
       "grid_gap": null,
       "grid_row": null,
       "grid_template_areas": null,
       "grid_template_columns": null,
       "grid_template_rows": null,
       "height": null,
       "justify_content": null,
       "justify_items": null,
       "left": null,
       "margin": null,
       "max_height": null,
       "max_width": null,
       "min_height": null,
       "min_width": null,
       "object_fit": null,
       "object_position": null,
       "order": null,
       "overflow": null,
       "overflow_x": null,
       "overflow_y": null,
       "padding": null,
       "right": null,
       "top": null,
       "visibility": null,
       "width": null
      }
     },
     "f5ca84199fb84b8abedd16904da56458": {
      "model_module": "@jupyter-widgets/base",
      "model_module_version": "1.2.0",
      "model_name": "LayoutModel",
      "state": {
       "_model_module": "@jupyter-widgets/base",
       "_model_module_version": "1.2.0",
       "_model_name": "LayoutModel",
       "_view_count": null,
       "_view_module": "@jupyter-widgets/base",
       "_view_module_version": "1.2.0",
       "_view_name": "LayoutView",
       "align_content": null,
       "align_items": null,
       "align_self": null,
       "border": null,
       "bottom": null,
       "display": null,
       "flex": null,
       "flex_flow": null,
       "grid_area": null,
       "grid_auto_columns": null,
       "grid_auto_flow": null,
       "grid_auto_rows": null,
       "grid_column": null,
       "grid_gap": null,
       "grid_row": null,
       "grid_template_areas": null,
       "grid_template_columns": null,
       "grid_template_rows": null,
       "height": null,
       "justify_content": null,
       "justify_items": null,
       "left": null,
       "margin": null,
       "max_height": null,
       "max_width": null,
       "min_height": null,
       "min_width": null,
       "object_fit": null,
       "object_position": null,
       "order": null,
       "overflow": null,
       "overflow_x": null,
       "overflow_y": null,
       "padding": null,
       "right": null,
       "top": null,
       "visibility": null,
       "width": null
      }
     },
     "fb5da460e7084faf988c5e49fec971da": {
      "model_module": "@jupyter-widgets/controls",
      "model_module_version": "1.5.0",
      "model_name": "DescriptionStyleModel",
      "state": {
       "_model_module": "@jupyter-widgets/controls",
       "_model_module_version": "1.5.0",
       "_model_name": "DescriptionStyleModel",
       "_view_count": null,
       "_view_module": "@jupyter-widgets/base",
       "_view_module_version": "1.2.0",
       "_view_name": "StyleView",
       "description_width": ""
      }
     }
    },
    "version_major": 2,
    "version_minor": 0
   }
  }
 },
 "nbformat": 4,
 "nbformat_minor": 5
}
