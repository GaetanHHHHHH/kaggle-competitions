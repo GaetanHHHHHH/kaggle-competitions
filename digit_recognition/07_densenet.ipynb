{
 "cells": [
  {
   "cell_type": "code",
   "execution_count": 1,
   "id": "b75e6b85",
   "metadata": {
    "_cell_guid": "b1076dfc-b9ad-4769-8c92-a6c4dae69d19",
    "_uuid": "8f2839f25d086af736a60e9eeb907d3b93b6e0e5",
    "execution": {
     "iopub.execute_input": "2024-08-28T16:29:02.699818Z",
     "iopub.status.busy": "2024-08-28T16:29:02.699284Z",
     "iopub.status.idle": "2024-08-28T16:29:10.220371Z",
     "shell.execute_reply": "2024-08-28T16:29:10.219030Z"
    },
    "papermill": {
     "duration": 7.537319,
     "end_time": "2024-08-28T16:29:10.223090",
     "exception": false,
     "start_time": "2024-08-28T16:29:02.685771",
     "status": "completed"
    },
    "tags": []
   },
   "outputs": [],
   "source": [
    "import torch\n",
    "import torch.nn as nn\n",
    "import torch.optim as optim\n",
    "from torch.utils.data import DataLoader, Dataset, TensorDataset\n",
    "import torchvision.transforms as transforms\n",
    "import torchvision.models as models\n",
    "\n",
    "import pandas as pd\n",
    "import numpy as np\n",
    "import matplotlib.pyplot as plt\n",
    "from sklearn.metrics import accuracy_score\n",
    "from sklearn.model_selection import train_test_split"
   ]
  },
  {
   "cell_type": "code",
   "execution_count": 2,
   "id": "fc7be16f",
   "metadata": {
    "execution": {
     "iopub.execute_input": "2024-08-28T16:29:10.246305Z",
     "iopub.status.busy": "2024-08-28T16:29:10.245441Z",
     "iopub.status.idle": "2024-08-28T16:29:16.405154Z",
     "shell.execute_reply": "2024-08-28T16:29:16.403686Z"
    },
    "papermill": {
     "duration": 6.173935,
     "end_time": "2024-08-28T16:29:16.407846",
     "exception": false,
     "start_time": "2024-08-28T16:29:10.233911",
     "status": "completed"
    },
    "tags": []
   },
   "outputs": [],
   "source": [
    "train_df = pd.read_csv('/kaggle/input/digit-recognizer/train.csv')\n",
    "test_df = pd.read_csv('/kaggle/input/digit-recognizer/test.csv')"
   ]
  },
  {
   "cell_type": "code",
   "execution_count": 3,
   "id": "2ef0eacf",
   "metadata": {
    "execution": {
     "iopub.execute_input": "2024-08-28T16:29:16.432349Z",
     "iopub.status.busy": "2024-08-28T16:29:16.431908Z",
     "iopub.status.idle": "2024-08-28T16:29:16.524417Z",
     "shell.execute_reply": "2024-08-28T16:29:16.523202Z"
    },
    "papermill": {
     "duration": 0.107584,
     "end_time": "2024-08-28T16:29:16.527143",
     "exception": false,
     "start_time": "2024-08-28T16:29:16.419559",
     "status": "completed"
    },
    "tags": []
   },
   "outputs": [],
   "source": [
    "y = train_df['label'].values\n",
    "X = train_df.drop('label', axis=1).values"
   ]
  },
  {
   "cell_type": "markdown",
   "id": "489e8690",
   "metadata": {
    "papermill": {
     "duration": 0.011191,
     "end_time": "2024-08-28T16:29:16.549804",
     "exception": false,
     "start_time": "2024-08-28T16:29:16.538613",
     "status": "completed"
    },
    "tags": []
   },
   "source": [
    "## Prepare dataset"
   ]
  },
  {
   "cell_type": "code",
   "execution_count": 4,
   "id": "7a485cd1",
   "metadata": {
    "execution": {
     "iopub.execute_input": "2024-08-28T16:29:16.574214Z",
     "iopub.status.busy": "2024-08-28T16:29:16.573779Z",
     "iopub.status.idle": "2024-08-28T16:29:16.980994Z",
     "shell.execute_reply": "2024-08-28T16:29:16.979824Z"
    },
    "papermill": {
     "duration": 0.422567,
     "end_time": "2024-08-28T16:29:16.983706",
     "exception": false,
     "start_time": "2024-08-28T16:29:16.561139",
     "status": "completed"
    },
    "tags": []
   },
   "outputs": [],
   "source": [
    "X_train, X_val, y_train, y_val = train_test_split(X, y, test_size=0.2, random_state=42)"
   ]
  },
  {
   "cell_type": "code",
   "execution_count": 5,
   "id": "db805f28",
   "metadata": {
    "execution": {
     "iopub.execute_input": "2024-08-28T16:29:17.008503Z",
     "iopub.status.busy": "2024-08-28T16:29:17.007523Z",
     "iopub.status.idle": "2024-08-28T16:29:17.241990Z",
     "shell.execute_reply": "2024-08-28T16:29:17.240783Z"
    },
    "papermill": {
     "duration": 0.24961,
     "end_time": "2024-08-28T16:29:17.244789",
     "exception": false,
     "start_time": "2024-08-28T16:29:16.995179",
     "status": "completed"
    },
    "tags": []
   },
   "outputs": [],
   "source": [
    "X_train = torch.tensor(X_train, dtype=torch.float32) / 255.0\n",
    "X_val = torch.tensor(X_val, dtype=torch.float32) / 255.0\n",
    "X_test = torch.tensor(test_df.values, dtype=torch.float32) / 255.0"
   ]
  },
  {
   "cell_type": "code",
   "execution_count": 6,
   "id": "3feae6ff",
   "metadata": {
    "execution": {
     "iopub.execute_input": "2024-08-28T16:29:17.270125Z",
     "iopub.status.busy": "2024-08-28T16:29:17.269637Z",
     "iopub.status.idle": "2024-08-28T16:29:17.281350Z",
     "shell.execute_reply": "2024-08-28T16:29:17.280361Z"
    },
    "papermill": {
     "duration": 0.027056,
     "end_time": "2024-08-28T16:29:17.283779",
     "exception": false,
     "start_time": "2024-08-28T16:29:17.256723",
     "status": "completed"
    },
    "tags": []
   },
   "outputs": [],
   "source": [
    "X_train = X_train.view(-1, 1, 28, 28)\n",
    "X_val = X_val.view(-1, 1, 28, 28)\n",
    "X_test = X_test.view(-1, 1, 28, 28)"
   ]
  },
  {
   "cell_type": "code",
   "execution_count": 7,
   "id": "35ee73e9",
   "metadata": {
    "execution": {
     "iopub.execute_input": "2024-08-28T16:29:17.309274Z",
     "iopub.status.busy": "2024-08-28T16:29:17.308777Z",
     "iopub.status.idle": "2024-08-28T16:29:17.314927Z",
     "shell.execute_reply": "2024-08-28T16:29:17.313968Z"
    },
    "papermill": {
     "duration": 0.021508,
     "end_time": "2024-08-28T16:29:17.317257",
     "exception": false,
     "start_time": "2024-08-28T16:29:17.295749",
     "status": "completed"
    },
    "tags": []
   },
   "outputs": [],
   "source": [
    "y_train = torch.tensor(y_train, dtype=torch.long)\n",
    "y_val = torch.tensor(y_val, dtype=torch.long)"
   ]
  },
  {
   "cell_type": "code",
   "execution_count": 8,
   "id": "13fe5a6b",
   "metadata": {
    "execution": {
     "iopub.execute_input": "2024-08-28T16:29:17.342634Z",
     "iopub.status.busy": "2024-08-28T16:29:17.342220Z",
     "iopub.status.idle": "2024-08-28T16:29:17.349483Z",
     "shell.execute_reply": "2024-08-28T16:29:17.348434Z"
    },
    "papermill": {
     "duration": 0.022724,
     "end_time": "2024-08-28T16:29:17.351812",
     "exception": false,
     "start_time": "2024-08-28T16:29:17.329088",
     "status": "completed"
    },
    "tags": []
   },
   "outputs": [],
   "source": [
    "# Needed for PyTorch, would've been easier to use PyTorch's own MNIST dataset in other circumstances\n",
    "class MNISTDataset(Dataset):\n",
    "    def __init__(self, images, labels, transform=None):\n",
    "        self.images = images\n",
    "        self.labels = labels\n",
    "        self.transform = transform\n",
    "\n",
    "    def __len__(self):\n",
    "        return len(self.images)\n",
    "\n",
    "    def __getitem__(self, idx):\n",
    "        image = self.images[idx]\n",
    "        label = self.labels[idx]\n",
    "\n",
    "        if self.transform:\n",
    "            image = self.transform(image)\n",
    "\n",
    "        return image, label"
   ]
  },
  {
   "cell_type": "code",
   "execution_count": 9,
   "id": "9bde3c2b",
   "metadata": {
    "execution": {
     "iopub.execute_input": "2024-08-28T16:29:17.377681Z",
     "iopub.status.busy": "2024-08-28T16:29:17.376627Z",
     "iopub.status.idle": "2024-08-28T16:29:17.383971Z",
     "shell.execute_reply": "2024-08-28T16:29:17.382880Z"
    },
    "papermill": {
     "duration": 0.022584,
     "end_time": "2024-08-28T16:29:17.386236",
     "exception": false,
     "start_time": "2024-08-28T16:29:17.363652",
     "status": "completed"
    },
    "tags": []
   },
   "outputs": [],
   "source": [
    "transform = transforms.Compose([\n",
    "    transforms.RandomHorizontalFlip(p=0.5),\n",
    "    transforms.RandomVerticalFlip(p=0.5),\n",
    "    transforms.RandomRotation(degrees=30),\n",
    "    transforms.ColorJitter(brightness=0.2, contrast=0.2, saturation=0.2),\n",
    "    transforms.RandomResizedCrop(size=(224, 224), scale=(0.8, 1.0)),\n",
    "    transforms.Resize((224, 224)),\n",
    "    transforms.ToTensor()\n",
    "])\n"
   ]
  },
  {
   "cell_type": "code",
   "execution_count": 10,
   "id": "b2292006",
   "metadata": {
    "execution": {
     "iopub.execute_input": "2024-08-28T16:29:17.410512Z",
     "iopub.status.busy": "2024-08-28T16:29:17.410080Z",
     "iopub.status.idle": "2024-08-28T16:29:17.415007Z",
     "shell.execute_reply": "2024-08-28T16:29:17.413962Z"
    },
    "papermill": {
     "duration": 0.019691,
     "end_time": "2024-08-28T16:29:17.417232",
     "exception": false,
     "start_time": "2024-08-28T16:29:17.397541",
     "status": "completed"
    },
    "tags": []
   },
   "outputs": [],
   "source": [
    "train_dataset = MNISTDataset(X_train, y_train)\n",
    "val_dataset = MNISTDataset(X_val, y_val)"
   ]
  },
  {
   "cell_type": "code",
   "execution_count": 11,
   "id": "56fe5a74",
   "metadata": {
    "execution": {
     "iopub.execute_input": "2024-08-28T16:29:17.442410Z",
     "iopub.status.busy": "2024-08-28T16:29:17.441982Z",
     "iopub.status.idle": "2024-08-28T16:29:17.447601Z",
     "shell.execute_reply": "2024-08-28T16:29:17.446515Z"
    },
    "papermill": {
     "duration": 0.020645,
     "end_time": "2024-08-28T16:29:17.449900",
     "exception": false,
     "start_time": "2024-08-28T16:29:17.429255",
     "status": "completed"
    },
    "tags": []
   },
   "outputs": [],
   "source": [
    "train_loader = DataLoader(train_dataset, batch_size=64, shuffle=True)\n",
    "val_loader = DataLoader(val_dataset, batch_size=64, shuffle=False)"
   ]
  },
  {
   "cell_type": "markdown",
   "id": "281eb62d",
   "metadata": {
    "papermill": {
     "duration": 0.011175,
     "end_time": "2024-08-28T16:29:17.472839",
     "exception": false,
     "start_time": "2024-08-28T16:29:17.461664",
     "status": "completed"
    },
    "tags": []
   },
   "source": [
    "## Models"
   ]
  },
  {
   "cell_type": "markdown",
   "id": "f75c6642",
   "metadata": {
    "papermill": {
     "duration": 0.011244,
     "end_time": "2024-08-28T16:29:17.495674",
     "exception": false,
     "start_time": "2024-08-28T16:29:17.484430",
     "status": "completed"
    },
    "tags": []
   },
   "source": [
    "### Functions"
   ]
  },
  {
   "cell_type": "code",
   "execution_count": 12,
   "id": "4063d59e",
   "metadata": {
    "execution": {
     "iopub.execute_input": "2024-08-28T16:29:17.520501Z",
     "iopub.status.busy": "2024-08-28T16:29:17.519632Z",
     "iopub.status.idle": "2024-08-28T16:29:17.526589Z",
     "shell.execute_reply": "2024-08-28T16:29:17.525558Z"
    },
    "papermill": {
     "duration": 0.021621,
     "end_time": "2024-08-28T16:29:17.528876",
     "exception": false,
     "start_time": "2024-08-28T16:29:17.507255",
     "status": "completed"
    },
    "tags": []
   },
   "outputs": [],
   "source": [
    "def prepare_densenet(densenet, num_classes=10):\n",
    "    densenet.features.conv0 = nn.Conv2d(1, 64, kernel_size=3, stride=1, padding=1, bias=False)\n",
    "    densenet.features.pool0 = nn.Identity()\n",
    "\n",
    "    num_features = densenet.classifier.in_features\n",
    "    densenet.classifier = nn.Linear(num_features, num_classes)\n",
    "        \n",
    "    densenet.to(device)\n",
    "    \n",
    "    return densenet"
   ]
  },
  {
   "cell_type": "code",
   "execution_count": 13,
   "id": "b8711bbd",
   "metadata": {
    "execution": {
     "iopub.execute_input": "2024-08-28T16:29:17.553875Z",
     "iopub.status.busy": "2024-08-28T16:29:17.553463Z",
     "iopub.status.idle": "2024-08-28T16:29:17.559605Z",
     "shell.execute_reply": "2024-08-28T16:29:17.558663Z"
    },
    "papermill": {
     "duration": 0.021302,
     "end_time": "2024-08-28T16:29:17.561864",
     "exception": false,
     "start_time": "2024-08-28T16:29:17.540562",
     "status": "completed"
    },
    "tags": []
   },
   "outputs": [],
   "source": [
    "def define_hyperparameters(model):\n",
    "    criterion = nn.CrossEntropyLoss()\n",
    "    optimizer = optim.Adam(model.parameters(), lr=0.00025, weight_decay=1e-4)\n",
    "    scheduler = torch.optim.lr_scheduler.ReduceLROnPlateau(optimizer, mode='min', factor=0.1, patience=5)\n",
    "    \n",
    "    return criterion, optimizer, scheduler"
   ]
  },
  {
   "cell_type": "code",
   "execution_count": 14,
   "id": "a86d977d",
   "metadata": {
    "execution": {
     "iopub.execute_input": "2024-08-28T16:29:17.586834Z",
     "iopub.status.busy": "2024-08-28T16:29:17.585846Z",
     "iopub.status.idle": "2024-08-28T16:29:17.600603Z",
     "shell.execute_reply": "2024-08-28T16:29:17.599546Z"
    },
    "papermill": {
     "duration": 0.029806,
     "end_time": "2024-08-28T16:29:17.603080",
     "exception": false,
     "start_time": "2024-08-28T16:29:17.573274",
     "status": "completed"
    },
    "tags": []
   },
   "outputs": [],
   "source": [
    "def train_model(model_name: str, model, num_epochs = 20):\n",
    "    best_val_acc = 0.0\n",
    "    best_model_path = f'best_{model_name}.pth'\n",
    "    \n",
    "    train_losses = []\n",
    "    val_losses = []\n",
    "    train_accuracies = []\n",
    "    val_accuracies = []\n",
    "\n",
    "    for epoch in range(num_epochs):\n",
    "        model.train()\n",
    "        running_loss = 0.0\n",
    "        correct_train = 0\n",
    "        total_train = 0\n",
    "\n",
    "        for images, labels in train_loader:\n",
    "            images, labels = images.to(device), labels.to(device)\n",
    "            optimizer.zero_grad()\n",
    "            outputs = model(images)\n",
    "            loss = criterion(outputs, labels)\n",
    "            loss.backward()\n",
    "            optimizer.step()\n",
    "\n",
    "            running_loss += loss.item()\n",
    "            _, predicted = torch.max(outputs, 1)\n",
    "            correct_train += (predicted == labels).sum().item()\n",
    "            total_train += labels.size(0)\n",
    "\n",
    "        train_acc = correct_train / total_train\n",
    "\n",
    "        model.eval()\n",
    "        correct_val = 0\n",
    "        total_val = 0\n",
    "        val_loss = 0.0\n",
    "\n",
    "        with torch.no_grad():\n",
    "            for images, labels in val_loader:\n",
    "                images, labels = images.to(device), labels.to(device)\n",
    "                outputs = model(images)\n",
    "                loss = criterion(outputs, labels)\n",
    "                val_loss += loss.item()\n",
    "\n",
    "                _, predicted = torch.max(outputs, 1)\n",
    "                correct_val += (predicted == labels).sum().item()\n",
    "                total_val += labels.size(0)\n",
    "\n",
    "        val_acc = correct_val / total_val\n",
    "        val_loss /= len(val_loader)\n",
    "\n",
    "        print(f\"Epoch {epoch+1}/{num_epochs}, \"\n",
    "              f\"Train Loss: {running_loss/len(train_loader):.4f}, \"\n",
    "              f\"Train Acc: {train_acc:.4f}, \"\n",
    "              f\"Val Loss: {val_loss:.4f}, \"\n",
    "              f\"Val Acc: {val_acc:.4f}\")\n",
    "\n",
    "        train_losses.append(loss)\n",
    "        val_losses.append(val_loss)\n",
    "        train_accuracies.append(train_acc)\n",
    "        val_accuracies.append(val_acc)\n",
    "\n",
    "        if val_acc > best_val_acc:\n",
    "            best_val_acc = val_acc\n",
    "            torch.save(model.state_dict(), best_model_path) \n",
    "            print(f\"New best {model_name} saved at epoch {epoch+1} with validation accuracy: {val_acc:.4f}\")\n",
    "\n",
    "        scheduler.step(val_loss)"
   ]
  },
  {
   "cell_type": "markdown",
   "id": "85e19009",
   "metadata": {
    "papermill": {
     "duration": 0.011128,
     "end_time": "2024-08-28T16:29:17.625746",
     "exception": false,
     "start_time": "2024-08-28T16:29:17.614618",
     "status": "completed"
    },
    "tags": []
   },
   "source": [
    "### Parameters"
   ]
  },
  {
   "cell_type": "code",
   "execution_count": 15,
   "id": "8c322230",
   "metadata": {
    "execution": {
     "iopub.execute_input": "2024-08-28T16:29:17.649892Z",
     "iopub.status.busy": "2024-08-28T16:29:17.649490Z",
     "iopub.status.idle": "2024-08-28T16:29:17.712717Z",
     "shell.execute_reply": "2024-08-28T16:29:17.711707Z"
    },
    "papermill": {
     "duration": 0.078041,
     "end_time": "2024-08-28T16:29:17.715198",
     "exception": false,
     "start_time": "2024-08-28T16:29:17.637157",
     "status": "completed"
    },
    "tags": []
   },
   "outputs": [],
   "source": [
    "device = torch.device('cuda' if torch.cuda.is_available() else 'cpu')\n",
    "num_classes = 10"
   ]
  },
  {
   "cell_type": "markdown",
   "id": "77576619",
   "metadata": {
    "papermill": {
     "duration": 0.010859,
     "end_time": "2024-08-28T16:29:17.737381",
     "exception": false,
     "start_time": "2024-08-28T16:29:17.726522",
     "status": "completed"
    },
    "tags": []
   },
   "source": [
    "### DenseNet"
   ]
  },
  {
   "cell_type": "markdown",
   "id": "7d612fab",
   "metadata": {
    "papermill": {
     "duration": 0.010747,
     "end_time": "2024-08-28T16:29:17.759113",
     "exception": false,
     "start_time": "2024-08-28T16:29:17.748366",
     "status": "completed"
    },
    "tags": []
   },
   "source": [
    "#### Prepare model"
   ]
  },
  {
   "cell_type": "code",
   "execution_count": 16,
   "id": "c637620a",
   "metadata": {
    "execution": {
     "iopub.execute_input": "2024-08-28T16:29:17.783084Z",
     "iopub.status.busy": "2024-08-28T16:29:17.782654Z",
     "iopub.status.idle": "2024-08-28T16:29:18.709098Z",
     "shell.execute_reply": "2024-08-28T16:29:18.707927Z"
    },
    "papermill": {
     "duration": 0.942022,
     "end_time": "2024-08-28T16:29:18.712246",
     "exception": false,
     "start_time": "2024-08-28T16:29:17.770224",
     "status": "completed"
    },
    "tags": []
   },
   "outputs": [
    {
     "name": "stderr",
     "output_type": "stream",
     "text": [
      "/opt/conda/lib/python3.10/site-packages/torchvision/models/_utils.py:208: UserWarning: The parameter 'pretrained' is deprecated since 0.13 and may be removed in the future, please use 'weights' instead.\n",
      "  warnings.warn(\n",
      "/opt/conda/lib/python3.10/site-packages/torchvision/models/_utils.py:223: UserWarning: Arguments other than a weight enum or `None` for 'weights' are deprecated since 0.13 and may be removed in the future. The current behavior is equivalent to passing `weights=DenseNet121_Weights.IMAGENET1K_V1`. You can also use `weights=DenseNet121_Weights.DEFAULT` to get the most up-to-date weights.\n",
      "  warnings.warn(msg)\n",
      "Downloading: \"https://download.pytorch.org/models/densenet121-a639ec97.pth\" to /root/.cache/torch/hub/checkpoints/densenet121-a639ec97.pth\n",
      "100%|██████████| 30.8M/30.8M [00:00<00:00, 81.4MB/s]\n"
     ]
    }
   ],
   "source": [
    "densenet = models.densenet121(pretrained=True)"
   ]
  },
  {
   "cell_type": "code",
   "execution_count": 17,
   "id": "1b415e40",
   "metadata": {
    "execution": {
     "iopub.execute_input": "2024-08-28T16:29:18.741566Z",
     "iopub.status.busy": "2024-08-28T16:29:18.741119Z",
     "iopub.status.idle": "2024-08-28T16:29:18.938762Z",
     "shell.execute_reply": "2024-08-28T16:29:18.937784Z"
    },
    "papermill": {
     "duration": 0.214037,
     "end_time": "2024-08-28T16:29:18.941429",
     "exception": false,
     "start_time": "2024-08-28T16:29:18.727392",
     "status": "completed"
    },
    "tags": []
   },
   "outputs": [],
   "source": [
    "densenet = prepare_densenet(densenet)"
   ]
  },
  {
   "cell_type": "markdown",
   "id": "17266b68",
   "metadata": {
    "papermill": {
     "duration": 0.011531,
     "end_time": "2024-08-28T16:29:18.965199",
     "exception": false,
     "start_time": "2024-08-28T16:29:18.953668",
     "status": "completed"
    },
    "tags": []
   },
   "source": [
    "#### Train model"
   ]
  },
  {
   "cell_type": "code",
   "execution_count": 18,
   "id": "c0725874",
   "metadata": {
    "execution": {
     "iopub.execute_input": "2024-08-28T16:29:18.989669Z",
     "iopub.status.busy": "2024-08-28T16:29:18.988787Z",
     "iopub.status.idle": "2024-08-28T16:29:18.996379Z",
     "shell.execute_reply": "2024-08-28T16:29:18.995321Z"
    },
    "papermill": {
     "duration": 0.022161,
     "end_time": "2024-08-28T16:29:18.998539",
     "exception": false,
     "start_time": "2024-08-28T16:29:18.976378",
     "status": "completed"
    },
    "tags": []
   },
   "outputs": [],
   "source": [
    "criterion, optimizer, scheduler = define_hyperparameters(densenet)"
   ]
  },
  {
   "cell_type": "code",
   "execution_count": 19,
   "id": "8d2227f4",
   "metadata": {
    "execution": {
     "iopub.execute_input": "2024-08-28T16:29:19.023125Z",
     "iopub.status.busy": "2024-08-28T16:29:19.022737Z",
     "iopub.status.idle": "2024-08-28T16:53:00.321700Z",
     "shell.execute_reply": "2024-08-28T16:53:00.320595Z"
    },
    "papermill": {
     "duration": 1421.327218,
     "end_time": "2024-08-28T16:53:00.337503",
     "exception": false,
     "start_time": "2024-08-28T16:29:19.010285",
     "status": "completed"
    },
    "tags": []
   },
   "outputs": [
    {
     "name": "stdout",
     "output_type": "stream",
     "text": [
      "Epoch 1/25, Train Loss: 0.0839, Train Acc: 0.9760, Val Loss: 0.0294, Val Acc: 0.9912\n",
      "New best densenet saved at epoch 1 with validation accuracy: 0.9912\n",
      "Epoch 2/25, Train Loss: 0.0301, Train Acc: 0.9911, Val Loss: 0.0257, Val Acc: 0.9923\n",
      "New best densenet saved at epoch 2 with validation accuracy: 0.9923\n",
      "Epoch 3/25, Train Loss: 0.0228, Train Acc: 0.9937, Val Loss: 0.0181, Val Acc: 0.9949\n",
      "New best densenet saved at epoch 3 with validation accuracy: 0.9949\n",
      "Epoch 4/25, Train Loss: 0.0228, Train Acc: 0.9928, Val Loss: 0.0251, Val Acc: 0.9931\n",
      "Epoch 5/25, Train Loss: 0.0163, Train Acc: 0.9948, Val Loss: 0.0196, Val Acc: 0.9940\n",
      "Epoch 6/25, Train Loss: 0.0178, Train Acc: 0.9946, Val Loss: 0.0214, Val Acc: 0.9933\n",
      "Epoch 7/25, Train Loss: 0.0157, Train Acc: 0.9953, Val Loss: 0.0194, Val Acc: 0.9937\n",
      "Epoch 8/25, Train Loss: 0.0146, Train Acc: 0.9958, Val Loss: 0.0347, Val Acc: 0.9886\n",
      "Epoch 9/25, Train Loss: 0.0143, Train Acc: 0.9958, Val Loss: 0.0235, Val Acc: 0.9927\n",
      "Epoch 10/25, Train Loss: 0.0059, Train Acc: 0.9984, Val Loss: 0.0125, Val Acc: 0.9963\n",
      "New best densenet saved at epoch 10 with validation accuracy: 0.9963\n",
      "Epoch 11/25, Train Loss: 0.0025, Train Acc: 0.9996, Val Loss: 0.0123, Val Acc: 0.9962\n",
      "Epoch 12/25, Train Loss: 0.0017, Train Acc: 0.9997, Val Loss: 0.0118, Val Acc: 0.9968\n",
      "New best densenet saved at epoch 12 with validation accuracy: 0.9968\n",
      "Epoch 13/25, Train Loss: 0.0013, Train Acc: 0.9997, Val Loss: 0.0133, Val Acc: 0.9964\n",
      "Epoch 14/25, Train Loss: 0.0010, Train Acc: 0.9999, Val Loss: 0.0126, Val Acc: 0.9968\n",
      "Epoch 15/25, Train Loss: 0.0007, Train Acc: 0.9999, Val Loss: 0.0130, Val Acc: 0.9968\n",
      "Epoch 16/25, Train Loss: 0.0005, Train Acc: 1.0000, Val Loss: 0.0140, Val Acc: 0.9967\n",
      "Epoch 17/25, Train Loss: 0.0004, Train Acc: 0.9999, Val Loss: 0.0156, Val Acc: 0.9962\n",
      "Epoch 18/25, Train Loss: 0.0009, Train Acc: 0.9997, Val Loss: 0.0152, Val Acc: 0.9965\n",
      "Epoch 19/25, Train Loss: 0.0006, Train Acc: 0.9999, Val Loss: 0.0147, Val Acc: 0.9965\n",
      "Epoch 20/25, Train Loss: 0.0003, Train Acc: 0.9999, Val Loss: 0.0146, Val Acc: 0.9965\n",
      "Epoch 21/25, Train Loss: 0.0003, Train Acc: 0.9999, Val Loss: 0.0146, Val Acc: 0.9965\n",
      "Epoch 22/25, Train Loss: 0.0003, Train Acc: 1.0000, Val Loss: 0.0151, Val Acc: 0.9963\n",
      "Epoch 23/25, Train Loss: 0.0003, Train Acc: 1.0000, Val Loss: 0.0149, Val Acc: 0.9965\n",
      "Epoch 24/25, Train Loss: 0.0002, Train Acc: 1.0000, Val Loss: 0.0150, Val Acc: 0.9969\n",
      "New best densenet saved at epoch 24 with validation accuracy: 0.9969\n",
      "Epoch 25/25, Train Loss: 0.0002, Train Acc: 1.0000, Val Loss: 0.0155, Val Acc: 0.9967\n"
     ]
    }
   ],
   "source": [
    "train_model('densenet', densenet, 25)"
   ]
  },
  {
   "cell_type": "markdown",
   "id": "149b1ad0",
   "metadata": {
    "papermill": {
     "duration": 0.01424,
     "end_time": "2024-08-28T16:53:00.365569",
     "exception": false,
     "start_time": "2024-08-28T16:53:00.351329",
     "status": "completed"
    },
    "tags": []
   },
   "source": [
    "### Evaluate"
   ]
  },
  {
   "cell_type": "markdown",
   "id": "ea029971",
   "metadata": {
    "papermill": {
     "duration": 0.013892,
     "end_time": "2024-08-28T16:53:00.393213",
     "exception": false,
     "start_time": "2024-08-28T16:53:00.379321",
     "status": "completed"
    },
    "tags": []
   },
   "source": [
    "#### Evaluate DenseNet"
   ]
  },
  {
   "cell_type": "code",
   "execution_count": 20,
   "id": "73520759",
   "metadata": {
    "execution": {
     "iopub.execute_input": "2024-08-28T16:53:00.422276Z",
     "iopub.status.busy": "2024-08-28T16:53:00.421834Z",
     "iopub.status.idle": "2024-08-28T16:53:00.820560Z",
     "shell.execute_reply": "2024-08-28T16:53:00.819359Z"
    },
    "papermill": {
     "duration": 0.416349,
     "end_time": "2024-08-28T16:53:00.823332",
     "exception": false,
     "start_time": "2024-08-28T16:53:00.406983",
     "status": "completed"
    },
    "tags": []
   },
   "outputs": [
    {
     "name": "stderr",
     "output_type": "stream",
     "text": [
      "/opt/conda/lib/python3.10/site-packages/torchvision/models/_utils.py:223: UserWarning: Arguments other than a weight enum or `None` for 'weights' are deprecated since 0.13 and may be removed in the future. The current behavior is equivalent to passing `weights=None`.\n",
      "  warnings.warn(msg)\n",
      "/tmp/ipykernel_23/4273497253.py:3: FutureWarning: You are using `torch.load` with `weights_only=False` (the current default value), which uses the default pickle module implicitly. It is possible to construct malicious pickle data which will execute arbitrary code during unpickling (See https://github.com/pytorch/pytorch/blob/main/SECURITY.md#untrusted-models for more details). In a future release, the default value for `weights_only` will be flipped to `True`. This limits the functions that could be executed during unpickling. Arbitrary objects will no longer be allowed to be loaded via this mode unless they are explicitly allowlisted by the user via `torch.serialization.add_safe_globals`. We recommend you start setting `weights_only=True` for any use case where you don't have full control of the loaded file. Please open an issue on GitHub for any issues related to this experimental feature.\n",
      "  best_densenet.load_state_dict(torch.load('best_densenet.pth'))\n"
     ]
    },
    {
     "data": {
      "text/plain": [
       "<All keys matched successfully>"
      ]
     },
     "execution_count": 20,
     "metadata": {},
     "output_type": "execute_result"
    }
   ],
   "source": [
    "best_densenet = models.densenet121(pretrained=False)\n",
    "best_densenet = prepare_densenet(best_densenet)\n",
    "best_densenet.load_state_dict(torch.load('best_densenet.pth'))"
   ]
  },
  {
   "cell_type": "code",
   "execution_count": 21,
   "id": "0ea443c6",
   "metadata": {
    "execution": {
     "iopub.execute_input": "2024-08-28T16:53:00.852550Z",
     "iopub.status.busy": "2024-08-28T16:53:00.852161Z",
     "iopub.status.idle": "2024-08-28T16:53:04.968037Z",
     "shell.execute_reply": "2024-08-28T16:53:04.966921Z"
    },
    "papermill": {
     "duration": 4.133413,
     "end_time": "2024-08-28T16:53:04.970653",
     "exception": false,
     "start_time": "2024-08-28T16:53:00.837240",
     "status": "completed"
    },
    "tags": []
   },
   "outputs": [],
   "source": [
    "densenet_predictions = []\n",
    "\n",
    "with torch.no_grad():\n",
    "    for images, _ in val_loader:\n",
    "        images = images.to(device)\n",
    "        outputs = best_densenet(images)\n",
    "        _, predictions = torch.max(outputs, 1)\n",
    "        densenet_predictions.append(predictions.cpu())"
   ]
  },
  {
   "cell_type": "code",
   "execution_count": 22,
   "id": "59584899",
   "metadata": {
    "execution": {
     "iopub.execute_input": "2024-08-28T16:53:05.001338Z",
     "iopub.status.busy": "2024-08-28T16:53:05.000898Z",
     "iopub.status.idle": "2024-08-28T16:53:05.008039Z",
     "shell.execute_reply": "2024-08-28T16:53:05.007026Z"
    },
    "papermill": {
     "duration": 0.025526,
     "end_time": "2024-08-28T16:53:05.010339",
     "exception": false,
     "start_time": "2024-08-28T16:53:04.984813",
     "status": "completed"
    },
    "tags": []
   },
   "outputs": [],
   "source": [
    "densenet_predictions = np.concatenate(densenet_predictions)\n",
    "\n",
    "densenet_predictions_list = densenet_predictions.tolist()"
   ]
  },
  {
   "cell_type": "code",
   "execution_count": 23,
   "id": "421ade12",
   "metadata": {
    "execution": {
     "iopub.execute_input": "2024-08-28T16:53:05.041469Z",
     "iopub.status.busy": "2024-08-28T16:53:05.041015Z",
     "iopub.status.idle": "2024-08-28T16:53:05.051516Z",
     "shell.execute_reply": "2024-08-28T16:53:05.050426Z"
    },
    "papermill": {
     "duration": 0.028797,
     "end_time": "2024-08-28T16:53:05.053846",
     "exception": false,
     "start_time": "2024-08-28T16:53:05.025049",
     "status": "completed"
    },
    "tags": []
   },
   "outputs": [
    {
     "name": "stdout",
     "output_type": "stream",
     "text": [
      "Ensemble Accuracy: 0.9960\n"
     ]
    }
   ],
   "source": [
    "accuracy = accuracy_score(y_val, densenet_predictions_list)\n",
    "print(f'Ensemble Accuracy: {accuracy:.4f}')"
   ]
  },
  {
   "cell_type": "markdown",
   "id": "c252efa1",
   "metadata": {
    "papermill": {
     "duration": 0.013454,
     "end_time": "2024-08-28T16:53:05.082844",
     "exception": false,
     "start_time": "2024-08-28T16:53:05.069390",
     "status": "completed"
    },
    "tags": []
   },
   "source": [
    "## Get submission"
   ]
  },
  {
   "cell_type": "code",
   "execution_count": 24,
   "id": "8da87b30",
   "metadata": {
    "execution": {
     "iopub.execute_input": "2024-08-28T16:53:05.113334Z",
     "iopub.status.busy": "2024-08-28T16:53:05.112370Z",
     "iopub.status.idle": "2024-08-28T16:53:05.117846Z",
     "shell.execute_reply": "2024-08-28T16:53:05.116773Z"
    },
    "papermill": {
     "duration": 0.023243,
     "end_time": "2024-08-28T16:53:05.120270",
     "exception": false,
     "start_time": "2024-08-28T16:53:05.097027",
     "status": "completed"
    },
    "tags": []
   },
   "outputs": [],
   "source": [
    "test_dataset = TensorDataset(X_test)\n",
    "test_loader = DataLoader(test_dataset, batch_size=64, shuffle=False)"
   ]
  },
  {
   "cell_type": "code",
   "execution_count": 25,
   "id": "24978d52",
   "metadata": {
    "execution": {
     "iopub.execute_input": "2024-08-28T16:53:05.150576Z",
     "iopub.status.busy": "2024-08-28T16:53:05.150179Z",
     "iopub.status.idle": "2024-08-28T16:53:05.167140Z",
     "shell.execute_reply": "2024-08-28T16:53:05.166179Z"
    },
    "papermill": {
     "duration": 0.036325,
     "end_time": "2024-08-28T16:53:05.170615",
     "exception": false,
     "start_time": "2024-08-28T16:53:05.134290",
     "status": "completed"
    },
    "tags": []
   },
   "outputs": [
    {
     "data": {
      "text/plain": [
       "DenseNet(\n",
       "  (features): Sequential(\n",
       "    (conv0): Conv2d(1, 64, kernel_size=(3, 3), stride=(1, 1), padding=(1, 1), bias=False)\n",
       "    (norm0): BatchNorm2d(64, eps=1e-05, momentum=0.1, affine=True, track_running_stats=True)\n",
       "    (relu0): ReLU(inplace=True)\n",
       "    (pool0): Identity()\n",
       "    (denseblock1): _DenseBlock(\n",
       "      (denselayer1): _DenseLayer(\n",
       "        (norm1): BatchNorm2d(64, eps=1e-05, momentum=0.1, affine=True, track_running_stats=True)\n",
       "        (relu1): ReLU(inplace=True)\n",
       "        (conv1): Conv2d(64, 128, kernel_size=(1, 1), stride=(1, 1), bias=False)\n",
       "        (norm2): BatchNorm2d(128, eps=1e-05, momentum=0.1, affine=True, track_running_stats=True)\n",
       "        (relu2): ReLU(inplace=True)\n",
       "        (conv2): Conv2d(128, 32, kernel_size=(3, 3), stride=(1, 1), padding=(1, 1), bias=False)\n",
       "      )\n",
       "      (denselayer2): _DenseLayer(\n",
       "        (norm1): BatchNorm2d(96, eps=1e-05, momentum=0.1, affine=True, track_running_stats=True)\n",
       "        (relu1): ReLU(inplace=True)\n",
       "        (conv1): Conv2d(96, 128, kernel_size=(1, 1), stride=(1, 1), bias=False)\n",
       "        (norm2): BatchNorm2d(128, eps=1e-05, momentum=0.1, affine=True, track_running_stats=True)\n",
       "        (relu2): ReLU(inplace=True)\n",
       "        (conv2): Conv2d(128, 32, kernel_size=(3, 3), stride=(1, 1), padding=(1, 1), bias=False)\n",
       "      )\n",
       "      (denselayer3): _DenseLayer(\n",
       "        (norm1): BatchNorm2d(128, eps=1e-05, momentum=0.1, affine=True, track_running_stats=True)\n",
       "        (relu1): ReLU(inplace=True)\n",
       "        (conv1): Conv2d(128, 128, kernel_size=(1, 1), stride=(1, 1), bias=False)\n",
       "        (norm2): BatchNorm2d(128, eps=1e-05, momentum=0.1, affine=True, track_running_stats=True)\n",
       "        (relu2): ReLU(inplace=True)\n",
       "        (conv2): Conv2d(128, 32, kernel_size=(3, 3), stride=(1, 1), padding=(1, 1), bias=False)\n",
       "      )\n",
       "      (denselayer4): _DenseLayer(\n",
       "        (norm1): BatchNorm2d(160, eps=1e-05, momentum=0.1, affine=True, track_running_stats=True)\n",
       "        (relu1): ReLU(inplace=True)\n",
       "        (conv1): Conv2d(160, 128, kernel_size=(1, 1), stride=(1, 1), bias=False)\n",
       "        (norm2): BatchNorm2d(128, eps=1e-05, momentum=0.1, affine=True, track_running_stats=True)\n",
       "        (relu2): ReLU(inplace=True)\n",
       "        (conv2): Conv2d(128, 32, kernel_size=(3, 3), stride=(1, 1), padding=(1, 1), bias=False)\n",
       "      )\n",
       "      (denselayer5): _DenseLayer(\n",
       "        (norm1): BatchNorm2d(192, eps=1e-05, momentum=0.1, affine=True, track_running_stats=True)\n",
       "        (relu1): ReLU(inplace=True)\n",
       "        (conv1): Conv2d(192, 128, kernel_size=(1, 1), stride=(1, 1), bias=False)\n",
       "        (norm2): BatchNorm2d(128, eps=1e-05, momentum=0.1, affine=True, track_running_stats=True)\n",
       "        (relu2): ReLU(inplace=True)\n",
       "        (conv2): Conv2d(128, 32, kernel_size=(3, 3), stride=(1, 1), padding=(1, 1), bias=False)\n",
       "      )\n",
       "      (denselayer6): _DenseLayer(\n",
       "        (norm1): BatchNorm2d(224, eps=1e-05, momentum=0.1, affine=True, track_running_stats=True)\n",
       "        (relu1): ReLU(inplace=True)\n",
       "        (conv1): Conv2d(224, 128, kernel_size=(1, 1), stride=(1, 1), bias=False)\n",
       "        (norm2): BatchNorm2d(128, eps=1e-05, momentum=0.1, affine=True, track_running_stats=True)\n",
       "        (relu2): ReLU(inplace=True)\n",
       "        (conv2): Conv2d(128, 32, kernel_size=(3, 3), stride=(1, 1), padding=(1, 1), bias=False)\n",
       "      )\n",
       "    )\n",
       "    (transition1): _Transition(\n",
       "      (norm): BatchNorm2d(256, eps=1e-05, momentum=0.1, affine=True, track_running_stats=True)\n",
       "      (relu): ReLU(inplace=True)\n",
       "      (conv): Conv2d(256, 128, kernel_size=(1, 1), stride=(1, 1), bias=False)\n",
       "      (pool): AvgPool2d(kernel_size=2, stride=2, padding=0)\n",
       "    )\n",
       "    (denseblock2): _DenseBlock(\n",
       "      (denselayer1): _DenseLayer(\n",
       "        (norm1): BatchNorm2d(128, eps=1e-05, momentum=0.1, affine=True, track_running_stats=True)\n",
       "        (relu1): ReLU(inplace=True)\n",
       "        (conv1): Conv2d(128, 128, kernel_size=(1, 1), stride=(1, 1), bias=False)\n",
       "        (norm2): BatchNorm2d(128, eps=1e-05, momentum=0.1, affine=True, track_running_stats=True)\n",
       "        (relu2): ReLU(inplace=True)\n",
       "        (conv2): Conv2d(128, 32, kernel_size=(3, 3), stride=(1, 1), padding=(1, 1), bias=False)\n",
       "      )\n",
       "      (denselayer2): _DenseLayer(\n",
       "        (norm1): BatchNorm2d(160, eps=1e-05, momentum=0.1, affine=True, track_running_stats=True)\n",
       "        (relu1): ReLU(inplace=True)\n",
       "        (conv1): Conv2d(160, 128, kernel_size=(1, 1), stride=(1, 1), bias=False)\n",
       "        (norm2): BatchNorm2d(128, eps=1e-05, momentum=0.1, affine=True, track_running_stats=True)\n",
       "        (relu2): ReLU(inplace=True)\n",
       "        (conv2): Conv2d(128, 32, kernel_size=(3, 3), stride=(1, 1), padding=(1, 1), bias=False)\n",
       "      )\n",
       "      (denselayer3): _DenseLayer(\n",
       "        (norm1): BatchNorm2d(192, eps=1e-05, momentum=0.1, affine=True, track_running_stats=True)\n",
       "        (relu1): ReLU(inplace=True)\n",
       "        (conv1): Conv2d(192, 128, kernel_size=(1, 1), stride=(1, 1), bias=False)\n",
       "        (norm2): BatchNorm2d(128, eps=1e-05, momentum=0.1, affine=True, track_running_stats=True)\n",
       "        (relu2): ReLU(inplace=True)\n",
       "        (conv2): Conv2d(128, 32, kernel_size=(3, 3), stride=(1, 1), padding=(1, 1), bias=False)\n",
       "      )\n",
       "      (denselayer4): _DenseLayer(\n",
       "        (norm1): BatchNorm2d(224, eps=1e-05, momentum=0.1, affine=True, track_running_stats=True)\n",
       "        (relu1): ReLU(inplace=True)\n",
       "        (conv1): Conv2d(224, 128, kernel_size=(1, 1), stride=(1, 1), bias=False)\n",
       "        (norm2): BatchNorm2d(128, eps=1e-05, momentum=0.1, affine=True, track_running_stats=True)\n",
       "        (relu2): ReLU(inplace=True)\n",
       "        (conv2): Conv2d(128, 32, kernel_size=(3, 3), stride=(1, 1), padding=(1, 1), bias=False)\n",
       "      )\n",
       "      (denselayer5): _DenseLayer(\n",
       "        (norm1): BatchNorm2d(256, eps=1e-05, momentum=0.1, affine=True, track_running_stats=True)\n",
       "        (relu1): ReLU(inplace=True)\n",
       "        (conv1): Conv2d(256, 128, kernel_size=(1, 1), stride=(1, 1), bias=False)\n",
       "        (norm2): BatchNorm2d(128, eps=1e-05, momentum=0.1, affine=True, track_running_stats=True)\n",
       "        (relu2): ReLU(inplace=True)\n",
       "        (conv2): Conv2d(128, 32, kernel_size=(3, 3), stride=(1, 1), padding=(1, 1), bias=False)\n",
       "      )\n",
       "      (denselayer6): _DenseLayer(\n",
       "        (norm1): BatchNorm2d(288, eps=1e-05, momentum=0.1, affine=True, track_running_stats=True)\n",
       "        (relu1): ReLU(inplace=True)\n",
       "        (conv1): Conv2d(288, 128, kernel_size=(1, 1), stride=(1, 1), bias=False)\n",
       "        (norm2): BatchNorm2d(128, eps=1e-05, momentum=0.1, affine=True, track_running_stats=True)\n",
       "        (relu2): ReLU(inplace=True)\n",
       "        (conv2): Conv2d(128, 32, kernel_size=(3, 3), stride=(1, 1), padding=(1, 1), bias=False)\n",
       "      )\n",
       "      (denselayer7): _DenseLayer(\n",
       "        (norm1): BatchNorm2d(320, eps=1e-05, momentum=0.1, affine=True, track_running_stats=True)\n",
       "        (relu1): ReLU(inplace=True)\n",
       "        (conv1): Conv2d(320, 128, kernel_size=(1, 1), stride=(1, 1), bias=False)\n",
       "        (norm2): BatchNorm2d(128, eps=1e-05, momentum=0.1, affine=True, track_running_stats=True)\n",
       "        (relu2): ReLU(inplace=True)\n",
       "        (conv2): Conv2d(128, 32, kernel_size=(3, 3), stride=(1, 1), padding=(1, 1), bias=False)\n",
       "      )\n",
       "      (denselayer8): _DenseLayer(\n",
       "        (norm1): BatchNorm2d(352, eps=1e-05, momentum=0.1, affine=True, track_running_stats=True)\n",
       "        (relu1): ReLU(inplace=True)\n",
       "        (conv1): Conv2d(352, 128, kernel_size=(1, 1), stride=(1, 1), bias=False)\n",
       "        (norm2): BatchNorm2d(128, eps=1e-05, momentum=0.1, affine=True, track_running_stats=True)\n",
       "        (relu2): ReLU(inplace=True)\n",
       "        (conv2): Conv2d(128, 32, kernel_size=(3, 3), stride=(1, 1), padding=(1, 1), bias=False)\n",
       "      )\n",
       "      (denselayer9): _DenseLayer(\n",
       "        (norm1): BatchNorm2d(384, eps=1e-05, momentum=0.1, affine=True, track_running_stats=True)\n",
       "        (relu1): ReLU(inplace=True)\n",
       "        (conv1): Conv2d(384, 128, kernel_size=(1, 1), stride=(1, 1), bias=False)\n",
       "        (norm2): BatchNorm2d(128, eps=1e-05, momentum=0.1, affine=True, track_running_stats=True)\n",
       "        (relu2): ReLU(inplace=True)\n",
       "        (conv2): Conv2d(128, 32, kernel_size=(3, 3), stride=(1, 1), padding=(1, 1), bias=False)\n",
       "      )\n",
       "      (denselayer10): _DenseLayer(\n",
       "        (norm1): BatchNorm2d(416, eps=1e-05, momentum=0.1, affine=True, track_running_stats=True)\n",
       "        (relu1): ReLU(inplace=True)\n",
       "        (conv1): Conv2d(416, 128, kernel_size=(1, 1), stride=(1, 1), bias=False)\n",
       "        (norm2): BatchNorm2d(128, eps=1e-05, momentum=0.1, affine=True, track_running_stats=True)\n",
       "        (relu2): ReLU(inplace=True)\n",
       "        (conv2): Conv2d(128, 32, kernel_size=(3, 3), stride=(1, 1), padding=(1, 1), bias=False)\n",
       "      )\n",
       "      (denselayer11): _DenseLayer(\n",
       "        (norm1): BatchNorm2d(448, eps=1e-05, momentum=0.1, affine=True, track_running_stats=True)\n",
       "        (relu1): ReLU(inplace=True)\n",
       "        (conv1): Conv2d(448, 128, kernel_size=(1, 1), stride=(1, 1), bias=False)\n",
       "        (norm2): BatchNorm2d(128, eps=1e-05, momentum=0.1, affine=True, track_running_stats=True)\n",
       "        (relu2): ReLU(inplace=True)\n",
       "        (conv2): Conv2d(128, 32, kernel_size=(3, 3), stride=(1, 1), padding=(1, 1), bias=False)\n",
       "      )\n",
       "      (denselayer12): _DenseLayer(\n",
       "        (norm1): BatchNorm2d(480, eps=1e-05, momentum=0.1, affine=True, track_running_stats=True)\n",
       "        (relu1): ReLU(inplace=True)\n",
       "        (conv1): Conv2d(480, 128, kernel_size=(1, 1), stride=(1, 1), bias=False)\n",
       "        (norm2): BatchNorm2d(128, eps=1e-05, momentum=0.1, affine=True, track_running_stats=True)\n",
       "        (relu2): ReLU(inplace=True)\n",
       "        (conv2): Conv2d(128, 32, kernel_size=(3, 3), stride=(1, 1), padding=(1, 1), bias=False)\n",
       "      )\n",
       "    )\n",
       "    (transition2): _Transition(\n",
       "      (norm): BatchNorm2d(512, eps=1e-05, momentum=0.1, affine=True, track_running_stats=True)\n",
       "      (relu): ReLU(inplace=True)\n",
       "      (conv): Conv2d(512, 256, kernel_size=(1, 1), stride=(1, 1), bias=False)\n",
       "      (pool): AvgPool2d(kernel_size=2, stride=2, padding=0)\n",
       "    )\n",
       "    (denseblock3): _DenseBlock(\n",
       "      (denselayer1): _DenseLayer(\n",
       "        (norm1): BatchNorm2d(256, eps=1e-05, momentum=0.1, affine=True, track_running_stats=True)\n",
       "        (relu1): ReLU(inplace=True)\n",
       "        (conv1): Conv2d(256, 128, kernel_size=(1, 1), stride=(1, 1), bias=False)\n",
       "        (norm2): BatchNorm2d(128, eps=1e-05, momentum=0.1, affine=True, track_running_stats=True)\n",
       "        (relu2): ReLU(inplace=True)\n",
       "        (conv2): Conv2d(128, 32, kernel_size=(3, 3), stride=(1, 1), padding=(1, 1), bias=False)\n",
       "      )\n",
       "      (denselayer2): _DenseLayer(\n",
       "        (norm1): BatchNorm2d(288, eps=1e-05, momentum=0.1, affine=True, track_running_stats=True)\n",
       "        (relu1): ReLU(inplace=True)\n",
       "        (conv1): Conv2d(288, 128, kernel_size=(1, 1), stride=(1, 1), bias=False)\n",
       "        (norm2): BatchNorm2d(128, eps=1e-05, momentum=0.1, affine=True, track_running_stats=True)\n",
       "        (relu2): ReLU(inplace=True)\n",
       "        (conv2): Conv2d(128, 32, kernel_size=(3, 3), stride=(1, 1), padding=(1, 1), bias=False)\n",
       "      )\n",
       "      (denselayer3): _DenseLayer(\n",
       "        (norm1): BatchNorm2d(320, eps=1e-05, momentum=0.1, affine=True, track_running_stats=True)\n",
       "        (relu1): ReLU(inplace=True)\n",
       "        (conv1): Conv2d(320, 128, kernel_size=(1, 1), stride=(1, 1), bias=False)\n",
       "        (norm2): BatchNorm2d(128, eps=1e-05, momentum=0.1, affine=True, track_running_stats=True)\n",
       "        (relu2): ReLU(inplace=True)\n",
       "        (conv2): Conv2d(128, 32, kernel_size=(3, 3), stride=(1, 1), padding=(1, 1), bias=False)\n",
       "      )\n",
       "      (denselayer4): _DenseLayer(\n",
       "        (norm1): BatchNorm2d(352, eps=1e-05, momentum=0.1, affine=True, track_running_stats=True)\n",
       "        (relu1): ReLU(inplace=True)\n",
       "        (conv1): Conv2d(352, 128, kernel_size=(1, 1), stride=(1, 1), bias=False)\n",
       "        (norm2): BatchNorm2d(128, eps=1e-05, momentum=0.1, affine=True, track_running_stats=True)\n",
       "        (relu2): ReLU(inplace=True)\n",
       "        (conv2): Conv2d(128, 32, kernel_size=(3, 3), stride=(1, 1), padding=(1, 1), bias=False)\n",
       "      )\n",
       "      (denselayer5): _DenseLayer(\n",
       "        (norm1): BatchNorm2d(384, eps=1e-05, momentum=0.1, affine=True, track_running_stats=True)\n",
       "        (relu1): ReLU(inplace=True)\n",
       "        (conv1): Conv2d(384, 128, kernel_size=(1, 1), stride=(1, 1), bias=False)\n",
       "        (norm2): BatchNorm2d(128, eps=1e-05, momentum=0.1, affine=True, track_running_stats=True)\n",
       "        (relu2): ReLU(inplace=True)\n",
       "        (conv2): Conv2d(128, 32, kernel_size=(3, 3), stride=(1, 1), padding=(1, 1), bias=False)\n",
       "      )\n",
       "      (denselayer6): _DenseLayer(\n",
       "        (norm1): BatchNorm2d(416, eps=1e-05, momentum=0.1, affine=True, track_running_stats=True)\n",
       "        (relu1): ReLU(inplace=True)\n",
       "        (conv1): Conv2d(416, 128, kernel_size=(1, 1), stride=(1, 1), bias=False)\n",
       "        (norm2): BatchNorm2d(128, eps=1e-05, momentum=0.1, affine=True, track_running_stats=True)\n",
       "        (relu2): ReLU(inplace=True)\n",
       "        (conv2): Conv2d(128, 32, kernel_size=(3, 3), stride=(1, 1), padding=(1, 1), bias=False)\n",
       "      )\n",
       "      (denselayer7): _DenseLayer(\n",
       "        (norm1): BatchNorm2d(448, eps=1e-05, momentum=0.1, affine=True, track_running_stats=True)\n",
       "        (relu1): ReLU(inplace=True)\n",
       "        (conv1): Conv2d(448, 128, kernel_size=(1, 1), stride=(1, 1), bias=False)\n",
       "        (norm2): BatchNorm2d(128, eps=1e-05, momentum=0.1, affine=True, track_running_stats=True)\n",
       "        (relu2): ReLU(inplace=True)\n",
       "        (conv2): Conv2d(128, 32, kernel_size=(3, 3), stride=(1, 1), padding=(1, 1), bias=False)\n",
       "      )\n",
       "      (denselayer8): _DenseLayer(\n",
       "        (norm1): BatchNorm2d(480, eps=1e-05, momentum=0.1, affine=True, track_running_stats=True)\n",
       "        (relu1): ReLU(inplace=True)\n",
       "        (conv1): Conv2d(480, 128, kernel_size=(1, 1), stride=(1, 1), bias=False)\n",
       "        (norm2): BatchNorm2d(128, eps=1e-05, momentum=0.1, affine=True, track_running_stats=True)\n",
       "        (relu2): ReLU(inplace=True)\n",
       "        (conv2): Conv2d(128, 32, kernel_size=(3, 3), stride=(1, 1), padding=(1, 1), bias=False)\n",
       "      )\n",
       "      (denselayer9): _DenseLayer(\n",
       "        (norm1): BatchNorm2d(512, eps=1e-05, momentum=0.1, affine=True, track_running_stats=True)\n",
       "        (relu1): ReLU(inplace=True)\n",
       "        (conv1): Conv2d(512, 128, kernel_size=(1, 1), stride=(1, 1), bias=False)\n",
       "        (norm2): BatchNorm2d(128, eps=1e-05, momentum=0.1, affine=True, track_running_stats=True)\n",
       "        (relu2): ReLU(inplace=True)\n",
       "        (conv2): Conv2d(128, 32, kernel_size=(3, 3), stride=(1, 1), padding=(1, 1), bias=False)\n",
       "      )\n",
       "      (denselayer10): _DenseLayer(\n",
       "        (norm1): BatchNorm2d(544, eps=1e-05, momentum=0.1, affine=True, track_running_stats=True)\n",
       "        (relu1): ReLU(inplace=True)\n",
       "        (conv1): Conv2d(544, 128, kernel_size=(1, 1), stride=(1, 1), bias=False)\n",
       "        (norm2): BatchNorm2d(128, eps=1e-05, momentum=0.1, affine=True, track_running_stats=True)\n",
       "        (relu2): ReLU(inplace=True)\n",
       "        (conv2): Conv2d(128, 32, kernel_size=(3, 3), stride=(1, 1), padding=(1, 1), bias=False)\n",
       "      )\n",
       "      (denselayer11): _DenseLayer(\n",
       "        (norm1): BatchNorm2d(576, eps=1e-05, momentum=0.1, affine=True, track_running_stats=True)\n",
       "        (relu1): ReLU(inplace=True)\n",
       "        (conv1): Conv2d(576, 128, kernel_size=(1, 1), stride=(1, 1), bias=False)\n",
       "        (norm2): BatchNorm2d(128, eps=1e-05, momentum=0.1, affine=True, track_running_stats=True)\n",
       "        (relu2): ReLU(inplace=True)\n",
       "        (conv2): Conv2d(128, 32, kernel_size=(3, 3), stride=(1, 1), padding=(1, 1), bias=False)\n",
       "      )\n",
       "      (denselayer12): _DenseLayer(\n",
       "        (norm1): BatchNorm2d(608, eps=1e-05, momentum=0.1, affine=True, track_running_stats=True)\n",
       "        (relu1): ReLU(inplace=True)\n",
       "        (conv1): Conv2d(608, 128, kernel_size=(1, 1), stride=(1, 1), bias=False)\n",
       "        (norm2): BatchNorm2d(128, eps=1e-05, momentum=0.1, affine=True, track_running_stats=True)\n",
       "        (relu2): ReLU(inplace=True)\n",
       "        (conv2): Conv2d(128, 32, kernel_size=(3, 3), stride=(1, 1), padding=(1, 1), bias=False)\n",
       "      )\n",
       "      (denselayer13): _DenseLayer(\n",
       "        (norm1): BatchNorm2d(640, eps=1e-05, momentum=0.1, affine=True, track_running_stats=True)\n",
       "        (relu1): ReLU(inplace=True)\n",
       "        (conv1): Conv2d(640, 128, kernel_size=(1, 1), stride=(1, 1), bias=False)\n",
       "        (norm2): BatchNorm2d(128, eps=1e-05, momentum=0.1, affine=True, track_running_stats=True)\n",
       "        (relu2): ReLU(inplace=True)\n",
       "        (conv2): Conv2d(128, 32, kernel_size=(3, 3), stride=(1, 1), padding=(1, 1), bias=False)\n",
       "      )\n",
       "      (denselayer14): _DenseLayer(\n",
       "        (norm1): BatchNorm2d(672, eps=1e-05, momentum=0.1, affine=True, track_running_stats=True)\n",
       "        (relu1): ReLU(inplace=True)\n",
       "        (conv1): Conv2d(672, 128, kernel_size=(1, 1), stride=(1, 1), bias=False)\n",
       "        (norm2): BatchNorm2d(128, eps=1e-05, momentum=0.1, affine=True, track_running_stats=True)\n",
       "        (relu2): ReLU(inplace=True)\n",
       "        (conv2): Conv2d(128, 32, kernel_size=(3, 3), stride=(1, 1), padding=(1, 1), bias=False)\n",
       "      )\n",
       "      (denselayer15): _DenseLayer(\n",
       "        (norm1): BatchNorm2d(704, eps=1e-05, momentum=0.1, affine=True, track_running_stats=True)\n",
       "        (relu1): ReLU(inplace=True)\n",
       "        (conv1): Conv2d(704, 128, kernel_size=(1, 1), stride=(1, 1), bias=False)\n",
       "        (norm2): BatchNorm2d(128, eps=1e-05, momentum=0.1, affine=True, track_running_stats=True)\n",
       "        (relu2): ReLU(inplace=True)\n",
       "        (conv2): Conv2d(128, 32, kernel_size=(3, 3), stride=(1, 1), padding=(1, 1), bias=False)\n",
       "      )\n",
       "      (denselayer16): _DenseLayer(\n",
       "        (norm1): BatchNorm2d(736, eps=1e-05, momentum=0.1, affine=True, track_running_stats=True)\n",
       "        (relu1): ReLU(inplace=True)\n",
       "        (conv1): Conv2d(736, 128, kernel_size=(1, 1), stride=(1, 1), bias=False)\n",
       "        (norm2): BatchNorm2d(128, eps=1e-05, momentum=0.1, affine=True, track_running_stats=True)\n",
       "        (relu2): ReLU(inplace=True)\n",
       "        (conv2): Conv2d(128, 32, kernel_size=(3, 3), stride=(1, 1), padding=(1, 1), bias=False)\n",
       "      )\n",
       "      (denselayer17): _DenseLayer(\n",
       "        (norm1): BatchNorm2d(768, eps=1e-05, momentum=0.1, affine=True, track_running_stats=True)\n",
       "        (relu1): ReLU(inplace=True)\n",
       "        (conv1): Conv2d(768, 128, kernel_size=(1, 1), stride=(1, 1), bias=False)\n",
       "        (norm2): BatchNorm2d(128, eps=1e-05, momentum=0.1, affine=True, track_running_stats=True)\n",
       "        (relu2): ReLU(inplace=True)\n",
       "        (conv2): Conv2d(128, 32, kernel_size=(3, 3), stride=(1, 1), padding=(1, 1), bias=False)\n",
       "      )\n",
       "      (denselayer18): _DenseLayer(\n",
       "        (norm1): BatchNorm2d(800, eps=1e-05, momentum=0.1, affine=True, track_running_stats=True)\n",
       "        (relu1): ReLU(inplace=True)\n",
       "        (conv1): Conv2d(800, 128, kernel_size=(1, 1), stride=(1, 1), bias=False)\n",
       "        (norm2): BatchNorm2d(128, eps=1e-05, momentum=0.1, affine=True, track_running_stats=True)\n",
       "        (relu2): ReLU(inplace=True)\n",
       "        (conv2): Conv2d(128, 32, kernel_size=(3, 3), stride=(1, 1), padding=(1, 1), bias=False)\n",
       "      )\n",
       "      (denselayer19): _DenseLayer(\n",
       "        (norm1): BatchNorm2d(832, eps=1e-05, momentum=0.1, affine=True, track_running_stats=True)\n",
       "        (relu1): ReLU(inplace=True)\n",
       "        (conv1): Conv2d(832, 128, kernel_size=(1, 1), stride=(1, 1), bias=False)\n",
       "        (norm2): BatchNorm2d(128, eps=1e-05, momentum=0.1, affine=True, track_running_stats=True)\n",
       "        (relu2): ReLU(inplace=True)\n",
       "        (conv2): Conv2d(128, 32, kernel_size=(3, 3), stride=(1, 1), padding=(1, 1), bias=False)\n",
       "      )\n",
       "      (denselayer20): _DenseLayer(\n",
       "        (norm1): BatchNorm2d(864, eps=1e-05, momentum=0.1, affine=True, track_running_stats=True)\n",
       "        (relu1): ReLU(inplace=True)\n",
       "        (conv1): Conv2d(864, 128, kernel_size=(1, 1), stride=(1, 1), bias=False)\n",
       "        (norm2): BatchNorm2d(128, eps=1e-05, momentum=0.1, affine=True, track_running_stats=True)\n",
       "        (relu2): ReLU(inplace=True)\n",
       "        (conv2): Conv2d(128, 32, kernel_size=(3, 3), stride=(1, 1), padding=(1, 1), bias=False)\n",
       "      )\n",
       "      (denselayer21): _DenseLayer(\n",
       "        (norm1): BatchNorm2d(896, eps=1e-05, momentum=0.1, affine=True, track_running_stats=True)\n",
       "        (relu1): ReLU(inplace=True)\n",
       "        (conv1): Conv2d(896, 128, kernel_size=(1, 1), stride=(1, 1), bias=False)\n",
       "        (norm2): BatchNorm2d(128, eps=1e-05, momentum=0.1, affine=True, track_running_stats=True)\n",
       "        (relu2): ReLU(inplace=True)\n",
       "        (conv2): Conv2d(128, 32, kernel_size=(3, 3), stride=(1, 1), padding=(1, 1), bias=False)\n",
       "      )\n",
       "      (denselayer22): _DenseLayer(\n",
       "        (norm1): BatchNorm2d(928, eps=1e-05, momentum=0.1, affine=True, track_running_stats=True)\n",
       "        (relu1): ReLU(inplace=True)\n",
       "        (conv1): Conv2d(928, 128, kernel_size=(1, 1), stride=(1, 1), bias=False)\n",
       "        (norm2): BatchNorm2d(128, eps=1e-05, momentum=0.1, affine=True, track_running_stats=True)\n",
       "        (relu2): ReLU(inplace=True)\n",
       "        (conv2): Conv2d(128, 32, kernel_size=(3, 3), stride=(1, 1), padding=(1, 1), bias=False)\n",
       "      )\n",
       "      (denselayer23): _DenseLayer(\n",
       "        (norm1): BatchNorm2d(960, eps=1e-05, momentum=0.1, affine=True, track_running_stats=True)\n",
       "        (relu1): ReLU(inplace=True)\n",
       "        (conv1): Conv2d(960, 128, kernel_size=(1, 1), stride=(1, 1), bias=False)\n",
       "        (norm2): BatchNorm2d(128, eps=1e-05, momentum=0.1, affine=True, track_running_stats=True)\n",
       "        (relu2): ReLU(inplace=True)\n",
       "        (conv2): Conv2d(128, 32, kernel_size=(3, 3), stride=(1, 1), padding=(1, 1), bias=False)\n",
       "      )\n",
       "      (denselayer24): _DenseLayer(\n",
       "        (norm1): BatchNorm2d(992, eps=1e-05, momentum=0.1, affine=True, track_running_stats=True)\n",
       "        (relu1): ReLU(inplace=True)\n",
       "        (conv1): Conv2d(992, 128, kernel_size=(1, 1), stride=(1, 1), bias=False)\n",
       "        (norm2): BatchNorm2d(128, eps=1e-05, momentum=0.1, affine=True, track_running_stats=True)\n",
       "        (relu2): ReLU(inplace=True)\n",
       "        (conv2): Conv2d(128, 32, kernel_size=(3, 3), stride=(1, 1), padding=(1, 1), bias=False)\n",
       "      )\n",
       "    )\n",
       "    (transition3): _Transition(\n",
       "      (norm): BatchNorm2d(1024, eps=1e-05, momentum=0.1, affine=True, track_running_stats=True)\n",
       "      (relu): ReLU(inplace=True)\n",
       "      (conv): Conv2d(1024, 512, kernel_size=(1, 1), stride=(1, 1), bias=False)\n",
       "      (pool): AvgPool2d(kernel_size=2, stride=2, padding=0)\n",
       "    )\n",
       "    (denseblock4): _DenseBlock(\n",
       "      (denselayer1): _DenseLayer(\n",
       "        (norm1): BatchNorm2d(512, eps=1e-05, momentum=0.1, affine=True, track_running_stats=True)\n",
       "        (relu1): ReLU(inplace=True)\n",
       "        (conv1): Conv2d(512, 128, kernel_size=(1, 1), stride=(1, 1), bias=False)\n",
       "        (norm2): BatchNorm2d(128, eps=1e-05, momentum=0.1, affine=True, track_running_stats=True)\n",
       "        (relu2): ReLU(inplace=True)\n",
       "        (conv2): Conv2d(128, 32, kernel_size=(3, 3), stride=(1, 1), padding=(1, 1), bias=False)\n",
       "      )\n",
       "      (denselayer2): _DenseLayer(\n",
       "        (norm1): BatchNorm2d(544, eps=1e-05, momentum=0.1, affine=True, track_running_stats=True)\n",
       "        (relu1): ReLU(inplace=True)\n",
       "        (conv1): Conv2d(544, 128, kernel_size=(1, 1), stride=(1, 1), bias=False)\n",
       "        (norm2): BatchNorm2d(128, eps=1e-05, momentum=0.1, affine=True, track_running_stats=True)\n",
       "        (relu2): ReLU(inplace=True)\n",
       "        (conv2): Conv2d(128, 32, kernel_size=(3, 3), stride=(1, 1), padding=(1, 1), bias=False)\n",
       "      )\n",
       "      (denselayer3): _DenseLayer(\n",
       "        (norm1): BatchNorm2d(576, eps=1e-05, momentum=0.1, affine=True, track_running_stats=True)\n",
       "        (relu1): ReLU(inplace=True)\n",
       "        (conv1): Conv2d(576, 128, kernel_size=(1, 1), stride=(1, 1), bias=False)\n",
       "        (norm2): BatchNorm2d(128, eps=1e-05, momentum=0.1, affine=True, track_running_stats=True)\n",
       "        (relu2): ReLU(inplace=True)\n",
       "        (conv2): Conv2d(128, 32, kernel_size=(3, 3), stride=(1, 1), padding=(1, 1), bias=False)\n",
       "      )\n",
       "      (denselayer4): _DenseLayer(\n",
       "        (norm1): BatchNorm2d(608, eps=1e-05, momentum=0.1, affine=True, track_running_stats=True)\n",
       "        (relu1): ReLU(inplace=True)\n",
       "        (conv1): Conv2d(608, 128, kernel_size=(1, 1), stride=(1, 1), bias=False)\n",
       "        (norm2): BatchNorm2d(128, eps=1e-05, momentum=0.1, affine=True, track_running_stats=True)\n",
       "        (relu2): ReLU(inplace=True)\n",
       "        (conv2): Conv2d(128, 32, kernel_size=(3, 3), stride=(1, 1), padding=(1, 1), bias=False)\n",
       "      )\n",
       "      (denselayer5): _DenseLayer(\n",
       "        (norm1): BatchNorm2d(640, eps=1e-05, momentum=0.1, affine=True, track_running_stats=True)\n",
       "        (relu1): ReLU(inplace=True)\n",
       "        (conv1): Conv2d(640, 128, kernel_size=(1, 1), stride=(1, 1), bias=False)\n",
       "        (norm2): BatchNorm2d(128, eps=1e-05, momentum=0.1, affine=True, track_running_stats=True)\n",
       "        (relu2): ReLU(inplace=True)\n",
       "        (conv2): Conv2d(128, 32, kernel_size=(3, 3), stride=(1, 1), padding=(1, 1), bias=False)\n",
       "      )\n",
       "      (denselayer6): _DenseLayer(\n",
       "        (norm1): BatchNorm2d(672, eps=1e-05, momentum=0.1, affine=True, track_running_stats=True)\n",
       "        (relu1): ReLU(inplace=True)\n",
       "        (conv1): Conv2d(672, 128, kernel_size=(1, 1), stride=(1, 1), bias=False)\n",
       "        (norm2): BatchNorm2d(128, eps=1e-05, momentum=0.1, affine=True, track_running_stats=True)\n",
       "        (relu2): ReLU(inplace=True)\n",
       "        (conv2): Conv2d(128, 32, kernel_size=(3, 3), stride=(1, 1), padding=(1, 1), bias=False)\n",
       "      )\n",
       "      (denselayer7): _DenseLayer(\n",
       "        (norm1): BatchNorm2d(704, eps=1e-05, momentum=0.1, affine=True, track_running_stats=True)\n",
       "        (relu1): ReLU(inplace=True)\n",
       "        (conv1): Conv2d(704, 128, kernel_size=(1, 1), stride=(1, 1), bias=False)\n",
       "        (norm2): BatchNorm2d(128, eps=1e-05, momentum=0.1, affine=True, track_running_stats=True)\n",
       "        (relu2): ReLU(inplace=True)\n",
       "        (conv2): Conv2d(128, 32, kernel_size=(3, 3), stride=(1, 1), padding=(1, 1), bias=False)\n",
       "      )\n",
       "      (denselayer8): _DenseLayer(\n",
       "        (norm1): BatchNorm2d(736, eps=1e-05, momentum=0.1, affine=True, track_running_stats=True)\n",
       "        (relu1): ReLU(inplace=True)\n",
       "        (conv1): Conv2d(736, 128, kernel_size=(1, 1), stride=(1, 1), bias=False)\n",
       "        (norm2): BatchNorm2d(128, eps=1e-05, momentum=0.1, affine=True, track_running_stats=True)\n",
       "        (relu2): ReLU(inplace=True)\n",
       "        (conv2): Conv2d(128, 32, kernel_size=(3, 3), stride=(1, 1), padding=(1, 1), bias=False)\n",
       "      )\n",
       "      (denselayer9): _DenseLayer(\n",
       "        (norm1): BatchNorm2d(768, eps=1e-05, momentum=0.1, affine=True, track_running_stats=True)\n",
       "        (relu1): ReLU(inplace=True)\n",
       "        (conv1): Conv2d(768, 128, kernel_size=(1, 1), stride=(1, 1), bias=False)\n",
       "        (norm2): BatchNorm2d(128, eps=1e-05, momentum=0.1, affine=True, track_running_stats=True)\n",
       "        (relu2): ReLU(inplace=True)\n",
       "        (conv2): Conv2d(128, 32, kernel_size=(3, 3), stride=(1, 1), padding=(1, 1), bias=False)\n",
       "      )\n",
       "      (denselayer10): _DenseLayer(\n",
       "        (norm1): BatchNorm2d(800, eps=1e-05, momentum=0.1, affine=True, track_running_stats=True)\n",
       "        (relu1): ReLU(inplace=True)\n",
       "        (conv1): Conv2d(800, 128, kernel_size=(1, 1), stride=(1, 1), bias=False)\n",
       "        (norm2): BatchNorm2d(128, eps=1e-05, momentum=0.1, affine=True, track_running_stats=True)\n",
       "        (relu2): ReLU(inplace=True)\n",
       "        (conv2): Conv2d(128, 32, kernel_size=(3, 3), stride=(1, 1), padding=(1, 1), bias=False)\n",
       "      )\n",
       "      (denselayer11): _DenseLayer(\n",
       "        (norm1): BatchNorm2d(832, eps=1e-05, momentum=0.1, affine=True, track_running_stats=True)\n",
       "        (relu1): ReLU(inplace=True)\n",
       "        (conv1): Conv2d(832, 128, kernel_size=(1, 1), stride=(1, 1), bias=False)\n",
       "        (norm2): BatchNorm2d(128, eps=1e-05, momentum=0.1, affine=True, track_running_stats=True)\n",
       "        (relu2): ReLU(inplace=True)\n",
       "        (conv2): Conv2d(128, 32, kernel_size=(3, 3), stride=(1, 1), padding=(1, 1), bias=False)\n",
       "      )\n",
       "      (denselayer12): _DenseLayer(\n",
       "        (norm1): BatchNorm2d(864, eps=1e-05, momentum=0.1, affine=True, track_running_stats=True)\n",
       "        (relu1): ReLU(inplace=True)\n",
       "        (conv1): Conv2d(864, 128, kernel_size=(1, 1), stride=(1, 1), bias=False)\n",
       "        (norm2): BatchNorm2d(128, eps=1e-05, momentum=0.1, affine=True, track_running_stats=True)\n",
       "        (relu2): ReLU(inplace=True)\n",
       "        (conv2): Conv2d(128, 32, kernel_size=(3, 3), stride=(1, 1), padding=(1, 1), bias=False)\n",
       "      )\n",
       "      (denselayer13): _DenseLayer(\n",
       "        (norm1): BatchNorm2d(896, eps=1e-05, momentum=0.1, affine=True, track_running_stats=True)\n",
       "        (relu1): ReLU(inplace=True)\n",
       "        (conv1): Conv2d(896, 128, kernel_size=(1, 1), stride=(1, 1), bias=False)\n",
       "        (norm2): BatchNorm2d(128, eps=1e-05, momentum=0.1, affine=True, track_running_stats=True)\n",
       "        (relu2): ReLU(inplace=True)\n",
       "        (conv2): Conv2d(128, 32, kernel_size=(3, 3), stride=(1, 1), padding=(1, 1), bias=False)\n",
       "      )\n",
       "      (denselayer14): _DenseLayer(\n",
       "        (norm1): BatchNorm2d(928, eps=1e-05, momentum=0.1, affine=True, track_running_stats=True)\n",
       "        (relu1): ReLU(inplace=True)\n",
       "        (conv1): Conv2d(928, 128, kernel_size=(1, 1), stride=(1, 1), bias=False)\n",
       "        (norm2): BatchNorm2d(128, eps=1e-05, momentum=0.1, affine=True, track_running_stats=True)\n",
       "        (relu2): ReLU(inplace=True)\n",
       "        (conv2): Conv2d(128, 32, kernel_size=(3, 3), stride=(1, 1), padding=(1, 1), bias=False)\n",
       "      )\n",
       "      (denselayer15): _DenseLayer(\n",
       "        (norm1): BatchNorm2d(960, eps=1e-05, momentum=0.1, affine=True, track_running_stats=True)\n",
       "        (relu1): ReLU(inplace=True)\n",
       "        (conv1): Conv2d(960, 128, kernel_size=(1, 1), stride=(1, 1), bias=False)\n",
       "        (norm2): BatchNorm2d(128, eps=1e-05, momentum=0.1, affine=True, track_running_stats=True)\n",
       "        (relu2): ReLU(inplace=True)\n",
       "        (conv2): Conv2d(128, 32, kernel_size=(3, 3), stride=(1, 1), padding=(1, 1), bias=False)\n",
       "      )\n",
       "      (denselayer16): _DenseLayer(\n",
       "        (norm1): BatchNorm2d(992, eps=1e-05, momentum=0.1, affine=True, track_running_stats=True)\n",
       "        (relu1): ReLU(inplace=True)\n",
       "        (conv1): Conv2d(992, 128, kernel_size=(1, 1), stride=(1, 1), bias=False)\n",
       "        (norm2): BatchNorm2d(128, eps=1e-05, momentum=0.1, affine=True, track_running_stats=True)\n",
       "        (relu2): ReLU(inplace=True)\n",
       "        (conv2): Conv2d(128, 32, kernel_size=(3, 3), stride=(1, 1), padding=(1, 1), bias=False)\n",
       "      )\n",
       "    )\n",
       "    (norm5): BatchNorm2d(1024, eps=1e-05, momentum=0.1, affine=True, track_running_stats=True)\n",
       "  )\n",
       "  (classifier): Linear(in_features=1024, out_features=10, bias=True)\n",
       ")"
      ]
     },
     "execution_count": 25,
     "metadata": {},
     "output_type": "execute_result"
    }
   ],
   "source": [
    "best_densenet.eval()"
   ]
  },
  {
   "cell_type": "code",
   "execution_count": 26,
   "id": "b734a654",
   "metadata": {
    "execution": {
     "iopub.execute_input": "2024-08-28T16:53:05.204814Z",
     "iopub.status.busy": "2024-08-28T16:53:05.203786Z",
     "iopub.status.idle": "2024-08-28T16:53:18.778905Z",
     "shell.execute_reply": "2024-08-28T16:53:18.777815Z"
    },
    "papermill": {
     "duration": 13.595103,
     "end_time": "2024-08-28T16:53:18.781401",
     "exception": false,
     "start_time": "2024-08-28T16:53:05.186298",
     "status": "completed"
    },
    "tags": []
   },
   "outputs": [],
   "source": [
    "device = torch.device('cuda' if torch.cuda.is_available() else 'cpu')\n",
    "best_model = best_densenet.to(device)\n",
    "\n",
    "all_predictions = []\n",
    "\n",
    "with torch.no_grad():\n",
    "    for inputs in test_loader:\n",
    "        inputs = inputs[0].to(device)\n",
    "        outputs = best_densenet(inputs)\n",
    "        _, predictions = torch.max(outputs, 1)\n",
    "        all_predictions.append(predictions.cpu().numpy())"
   ]
  },
  {
   "cell_type": "code",
   "execution_count": 27,
   "id": "ffbe58bd",
   "metadata": {
    "execution": {
     "iopub.execute_input": "2024-08-28T16:53:18.813182Z",
     "iopub.status.busy": "2024-08-28T16:53:18.812757Z",
     "iopub.status.idle": "2024-08-28T16:53:18.819442Z",
     "shell.execute_reply": "2024-08-28T16:53:18.818483Z"
    },
    "papermill": {
     "duration": 0.024705,
     "end_time": "2024-08-28T16:53:18.821523",
     "exception": false,
     "start_time": "2024-08-28T16:53:18.796818",
     "status": "completed"
    },
    "tags": []
   },
   "outputs": [],
   "source": [
    "all_predictions = np.concatenate(all_predictions)\n",
    "predictions_list = all_predictions.tolist()"
   ]
  },
  {
   "cell_type": "code",
   "execution_count": 28,
   "id": "4ad06903",
   "metadata": {
    "execution": {
     "iopub.execute_input": "2024-08-28T16:53:18.852525Z",
     "iopub.status.busy": "2024-08-28T16:53:18.852129Z",
     "iopub.status.idle": "2024-08-28T16:53:18.871060Z",
     "shell.execute_reply": "2024-08-28T16:53:18.869997Z"
    },
    "papermill": {
     "duration": 0.036968,
     "end_time": "2024-08-28T16:53:18.873225",
     "exception": false,
     "start_time": "2024-08-28T16:53:18.836257",
     "status": "completed"
    },
    "tags": []
   },
   "outputs": [],
   "source": [
    "submission = pd.DataFrame(predictions_list)\n",
    "submission.index.name='ImageId'\n",
    "submission.index+=1\n",
    "submission.columns=['Label']"
   ]
  },
  {
   "cell_type": "code",
   "execution_count": 29,
   "id": "47cc5125",
   "metadata": {
    "execution": {
     "iopub.execute_input": "2024-08-28T16:53:18.904295Z",
     "iopub.status.busy": "2024-08-28T16:53:18.903843Z",
     "iopub.status.idle": "2024-08-28T16:53:18.945518Z",
     "shell.execute_reply": "2024-08-28T16:53:18.944410Z"
    },
    "papermill": {
     "duration": 0.060161,
     "end_time": "2024-08-28T16:53:18.948261",
     "exception": false,
     "start_time": "2024-08-28T16:53:18.888100",
     "status": "completed"
    },
    "tags": []
   },
   "outputs": [],
   "source": [
    "submission.to_csv('submission.csv', index=\"ImageId\")"
   ]
  },
  {
   "cell_type": "code",
   "execution_count": null,
   "id": "60c79cb8",
   "metadata": {
    "papermill": {
     "duration": 0.015205,
     "end_time": "2024-08-28T16:53:18.977740",
     "exception": false,
     "start_time": "2024-08-28T16:53:18.962535",
     "status": "completed"
    },
    "tags": []
   },
   "outputs": [],
   "source": []
  }
 ],
 "metadata": {
  "kaggle": {
   "accelerator": "gpu",
   "dataSources": [
    {
     "databundleVersionId": 861823,
     "sourceId": 3004,
     "sourceType": "competition"
    }
   ],
   "dockerImageVersionId": 30762,
   "isGpuEnabled": true,
   "isInternetEnabled": true,
   "language": "python",
   "sourceType": "notebook"
  },
  "kernelspec": {
   "display_name": "Python 3",
   "language": "python",
   "name": "python3"
  },
  "language_info": {
   "codemirror_mode": {
    "name": "ipython",
    "version": 3
   },
   "file_extension": ".py",
   "mimetype": "text/x-python",
   "name": "python",
   "nbconvert_exporter": "python",
   "pygments_lexer": "ipython3",
   "version": "3.10.14"
  },
  "papermill": {
   "default_parameters": {},
   "duration": 1461.174754,
   "end_time": "2024-08-28T16:53:20.717765",
   "environment_variables": {},
   "exception": null,
   "input_path": "__notebook__.ipynb",
   "output_path": "__notebook__.ipynb",
   "parameters": {},
   "start_time": "2024-08-28T16:28:59.543011",
   "version": "2.6.0"
  }
 },
 "nbformat": 4,
 "nbformat_minor": 5
}
