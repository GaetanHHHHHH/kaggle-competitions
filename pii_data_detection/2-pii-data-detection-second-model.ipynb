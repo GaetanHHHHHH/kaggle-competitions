{
 "cells": [
  {
   "cell_type": "markdown",
   "id": "84169486",
   "metadata": {
    "papermill": {
     "duration": 0.018458,
     "end_time": "2024-02-28T14:36:51.502654",
     "exception": false,
     "start_time": "2024-02-28T14:36:51.484196",
     "status": "completed"
    },
    "tags": []
   },
   "source": [
    "# Setup"
   ]
  },
  {
   "cell_type": "markdown",
   "id": "3d9b1385",
   "metadata": {
    "papermill": {
     "duration": 0.016304,
     "end_time": "2024-02-28T14:36:51.535094",
     "exception": false,
     "start_time": "2024-02-28T14:36:51.518790",
     "status": "completed"
    },
    "tags": []
   },
   "source": [
    "## Imports"
   ]
  },
  {
   "cell_type": "code",
   "execution_count": 1,
   "id": "567629bf",
   "metadata": {
    "execution": {
     "iopub.execute_input": "2024-02-28T14:36:51.571740Z",
     "iopub.status.busy": "2024-02-28T14:36:51.571275Z",
     "iopub.status.idle": "2024-02-28T14:37:22.494183Z",
     "shell.execute_reply": "2024-02-28T14:37:22.492571Z"
    },
    "papermill": {
     "duration": 30.945563,
     "end_time": "2024-02-28T14:37:22.498128",
     "exception": false,
     "start_time": "2024-02-28T14:36:51.552565",
     "status": "completed"
    },
    "tags": []
   },
   "outputs": [
    {
     "name": "stderr",
     "output_type": "stream",
     "text": [
      "2024-02-28 14:37:03.635907: E external/local_xla/xla/stream_executor/cuda/cuda_dnn.cc:9261] Unable to register cuDNN factory: Attempting to register factory for plugin cuDNN when one has already been registered\n",
      "2024-02-28 14:37:03.636057: E external/local_xla/xla/stream_executor/cuda/cuda_fft.cc:607] Unable to register cuFFT factory: Attempting to register factory for plugin cuFFT when one has already been registered\n",
      "2024-02-28 14:37:03.833826: E external/local_xla/xla/stream_executor/cuda/cuda_blas.cc:1515] Unable to register cuBLAS factory: Attempting to register factory for plugin cuBLAS when one has already been registered\n"
     ]
    }
   ],
   "source": [
    "import json\n",
    "import pandas as pd\n",
    "import numpy as np\n",
    "from transformers import AutoTokenizer, AutoModelForTokenClassification\n",
    "from transformers import pipeline\n",
    "from collections import Counter"
   ]
  },
  {
   "cell_type": "markdown",
   "id": "2e0895d9",
   "metadata": {
    "papermill": {
     "duration": 0.017684,
     "end_time": "2024-02-28T14:37:22.532525",
     "exception": false,
     "start_time": "2024-02-28T14:37:22.514841",
     "status": "completed"
    },
    "tags": []
   },
   "source": [
    "## Get data"
   ]
  },
  {
   "cell_type": "code",
   "execution_count": 2,
   "id": "eb696a32",
   "metadata": {
    "execution": {
     "iopub.execute_input": "2024-02-28T14:37:22.566746Z",
     "iopub.status.busy": "2024-02-28T14:37:22.565173Z",
     "iopub.status.idle": "2024-02-28T14:37:26.469257Z",
     "shell.execute_reply": "2024-02-28T14:37:26.467860Z"
    },
    "papermill": {
     "duration": 3.924468,
     "end_time": "2024-02-28T14:37:26.472431",
     "exception": false,
     "start_time": "2024-02-28T14:37:22.547963",
     "status": "completed"
    },
    "tags": []
   },
   "outputs": [],
   "source": [
    "# Get training data\n",
    "train_data = json.load(open('/kaggle/input/pii-detection-removal-from-educational-data/train.json'))\n",
    "test_data = json.load(open('/kaggle/input/pii-detection-removal-from-educational-data/test.json'))"
   ]
  },
  {
   "cell_type": "code",
   "execution_count": 3,
   "id": "0844fdc7",
   "metadata": {
    "execution": {
     "iopub.execute_input": "2024-02-28T14:37:26.508435Z",
     "iopub.status.busy": "2024-02-28T14:37:26.507942Z",
     "iopub.status.idle": "2024-02-28T14:37:26.612487Z",
     "shell.execute_reply": "2024-02-28T14:37:26.611168Z"
    },
    "papermill": {
     "duration": 0.126389,
     "end_time": "2024-02-28T14:37:26.615493",
     "exception": false,
     "start_time": "2024-02-28T14:37:26.489104",
     "status": "completed"
    },
    "tags": []
   },
   "outputs": [],
   "source": [
    "# Transform into pandas dataframe\n",
    "train_df = pd.json_normalize(train_data)\n",
    "test_df = pd.json_normalize(test_data)"
   ]
  },
  {
   "cell_type": "markdown",
   "id": "21bc939f",
   "metadata": {
    "papermill": {
     "duration": 0.015223,
     "end_time": "2024-02-28T14:37:26.646874",
     "exception": false,
     "start_time": "2024-02-28T14:37:26.631651",
     "status": "completed"
    },
    "tags": []
   },
   "source": [
    "# Modelling"
   ]
  },
  {
   "cell_type": "markdown",
   "id": "138d0b69",
   "metadata": {
    "papermill": {
     "duration": 0.017708,
     "end_time": "2024-02-28T14:37:26.680265",
     "exception": false,
     "start_time": "2024-02-28T14:37:26.662557",
     "status": "completed"
    },
    "tags": []
   },
   "source": [
    "## Helper functions"
   ]
  },
  {
   "cell_type": "code",
   "execution_count": 4,
   "id": "cd5ae109",
   "metadata": {
    "execution": {
     "iopub.execute_input": "2024-02-28T14:37:26.714102Z",
     "iopub.status.busy": "2024-02-28T14:37:26.713329Z",
     "iopub.status.idle": "2024-02-28T14:37:26.726023Z",
     "shell.execute_reply": "2024-02-28T14:37:26.724498Z"
    },
    "papermill": {
     "duration": 0.033357,
     "end_time": "2024-02-28T14:37:26.729263",
     "exception": false,
     "start_time": "2024-02-28T14:37:26.695906",
     "status": "completed"
    },
    "tags": []
   },
   "outputs": [],
   "source": [
    "# Function to get token index and predicted label\n",
    "def get_token_predictions(predictions: list, token_list: list, whitespace_list:list, label_list: list = []) -> dict:\n",
    "    tok_preds = {} # dict of token indexes and labels\n",
    "    id = 0 # keep our position in the full_text by token\n",
    "    valid = False\n",
    "\n",
    "    for i in range(len(token_list)):\n",
    "        for entity in predictions:\n",
    "\n",
    "            label = '' # format label from model output -> submission\n",
    "            if (entity['entity'] == \"B-PER\") or (entity['entity'] == \"I-PER\") : \n",
    "                label = \"NAME_STUDENT\"\n",
    "                valid = True\n",
    "                \n",
    "            if id == entity['start'] and i-1 not in tok_preds and valid == True: # add B or I prefix\n",
    "                    tok_preds[i] = [\"B-\" + label, label_list[i], token_list[i], id] if label_list else [\"B-\" + label, '', token_list[i], id]\n",
    "            elif id == entity['start'] and i-1 in tok_preds and valid == True: # add B or I prefix\n",
    "                    tok_preds[i] = [\"I-\" + label, label_list[i], token_list[i], id] if label_list else [\"I-\" + label, '', token_list[i], id]\n",
    "            elif id > entity['start'] and id < entity['end'] and valid == True:\n",
    "                    tok_preds[i] = [\"I-\" + label, label_list[i], token_list[i], id] if label_list else [\"I-\" + label, '', token_list[i], id]\n",
    "            \n",
    "            valid = False\n",
    "                                \n",
    "        id += len(token_list[i]) # increase by the length of the token\n",
    "        if whitespace_list[i] == True: # add whitespace if needed\n",
    "            id += 1\n",
    "        \n",
    "\n",
    "    return(tok_preds)"
   ]
  },
  {
   "cell_type": "code",
   "execution_count": 5,
   "id": "e1d8056f",
   "metadata": {
    "execution": {
     "iopub.execute_input": "2024-02-28T14:37:26.764388Z",
     "iopub.status.busy": "2024-02-28T14:37:26.763889Z",
     "iopub.status.idle": "2024-02-28T14:37:26.769514Z",
     "shell.execute_reply": "2024-02-28T14:37:26.768182Z"
    },
    "papermill": {
     "duration": 0.026596,
     "end_time": "2024-02-28T14:37:26.772291",
     "exception": false,
     "start_time": "2024-02-28T14:37:26.745695",
     "status": "completed"
    },
    "tags": []
   },
   "outputs": [],
   "source": [
    "#nlp(train_df[\"full_text\"][0].replace('\\n', \" \"))"
   ]
  },
  {
   "cell_type": "code",
   "execution_count": 6,
   "id": "4645b2fa",
   "metadata": {
    "execution": {
     "iopub.execute_input": "2024-02-28T14:37:26.806238Z",
     "iopub.status.busy": "2024-02-28T14:37:26.805721Z",
     "iopub.status.idle": "2024-02-28T14:37:26.814020Z",
     "shell.execute_reply": "2024-02-28T14:37:26.812536Z"
    },
    "papermill": {
     "duration": 0.02901,
     "end_time": "2024-02-28T14:37:26.817522",
     "exception": false,
     "start_time": "2024-02-28T14:37:26.788512",
     "status": "completed"
    },
    "tags": []
   },
   "outputs": [],
   "source": [
    "# Function to format submission\n",
    "def get_submission(token_predictions: dict) -> pd.DataFrame:\n",
    "    submission = []\n",
    "\n",
    "    i = 0\n",
    "    for key, value in token_predictions.items():\n",
    "        for keys, values in value.items():  \n",
    "            submission.append([i, key, keys, values[0], values[1]])\n",
    "            i += 1\n",
    "\n",
    "    submission = pd.DataFrame(submission)\n",
    "    submission.columns = ['row_id', 'document', 'token', 'label', 'true label']\n",
    "\n",
    "    return(submission)"
   ]
  },
  {
   "cell_type": "markdown",
   "id": "481a3311",
   "metadata": {
    "papermill": {
     "duration": 0.015606,
     "end_time": "2024-02-28T14:37:26.848964",
     "exception": false,
     "start_time": "2024-02-28T14:37:26.833358",
     "status": "completed"
    },
    "tags": []
   },
   "source": [
    "## Apply model on formatted text"
   ]
  },
  {
   "cell_type": "code",
   "execution_count": null,
   "id": "7093b13d",
   "metadata": {
    "execution": {
     "iopub.execute_input": "2024-02-28T14:37:26.882356Z",
     "iopub.status.busy": "2024-02-28T14:37:26.881844Z",
     "iopub.status.idle": "2024-02-28T14:38:09.916570Z",
     "shell.execute_reply": "2024-02-28T14:38:09.914218Z"
    },
    "papermill": {
     "duration": 43.072795,
     "end_time": "2024-02-28T14:38:09.937240",
     "exception": true,
     "start_time": "2024-02-28T14:37:26.864445",
     "status": "failed"
    },
    "tags": []
   },
   "outputs": [],
   "source": [
    "tokenizer = AutoTokenizer.from_pretrained(\"dslim/bert-base-NER\")\n",
    "model = AutoModelForTokenClassification.from_pretrained(\"dslim/bert-base-NER\")"
   ]
  },
  {
   "cell_type": "code",
   "execution_count": null,
   "id": "0c720092",
   "metadata": {
    "execution": {
     "iopub.execute_input": "2024-02-28T11:58:15.042814Z",
     "iopub.status.busy": "2024-02-28T11:58:15.042335Z",
     "iopub.status.idle": "2024-02-28T11:58:15.060148Z",
     "shell.execute_reply": "2024-02-28T11:58:15.058301Z",
     "shell.execute_reply.started": "2024-02-28T11:58:15.042779Z"
    },
    "papermill": {
     "duration": null,
     "end_time": null,
     "exception": null,
     "start_time": null,
     "status": "pending"
    },
    "tags": []
   },
   "outputs": [],
   "source": [
    "nlp = pipeline(\"ner\", model=model, tokenizer=tokenizer)"
   ]
  },
  {
   "cell_type": "code",
   "execution_count": null,
   "id": "a357cb32",
   "metadata": {
    "execution": {
     "iopub.execute_input": "2024-02-28T12:30:40.645567Z",
     "iopub.status.busy": "2024-02-28T12:30:40.645184Z",
     "iopub.status.idle": "2024-02-28T12:30:40.655720Z",
     "shell.execute_reply": "2024-02-28T12:30:40.654264Z",
     "shell.execute_reply.started": "2024-02-28T12:30:40.645533Z"
    },
    "papermill": {
     "duration": null,
     "end_time": null,
     "exception": null,
     "start_time": null,
     "status": "pending"
    },
    "tags": []
   },
   "outputs": [],
   "source": [
    "# Function to get predictions for each document\n",
    "def get_total_predictions(data: pd.DataFrame, type: str = \"test\") -> dict:\n",
    "    predictions = {}\n",
    "    \n",
    "    for line in data.index: # loop over every document to get all predictions\n",
    "        doc_id = data[\"document\"][line]\n",
    "        full_text = data['full_text'][line].replace('\\n', \" \")\n",
    "        tokens = data['tokens'][line]\n",
    "        trailing_whitespaces = data['trailing_whitespace'][line]\n",
    "        if type == \"train\":\n",
    "            labels = data['labels'][line]\n",
    "        \n",
    "        prediction = nlp(full_text)\n",
    "                \n",
    "        if type == \"train\":\n",
    "            token_preds = get_token_predictions(prediction, tokens, trailing_whitespaces, labels)\n",
    "        else:\n",
    "            token_preds = get_token_predictions(prediction, tokens, trailing_whitespaces)\n",
    "        \n",
    "        predictions[str(doc_id)] = token_preds\n",
    "        \n",
    "        #print(line)\n",
    "\n",
    "    return predictions"
   ]
  },
  {
   "cell_type": "markdown",
   "id": "e7958c89",
   "metadata": {
    "papermill": {
     "duration": null,
     "end_time": null,
     "exception": null,
     "start_time": null,
     "status": "pending"
    },
    "tags": []
   },
   "source": [
    "# Evaluation"
   ]
  },
  {
   "cell_type": "code",
   "execution_count": null,
   "id": "87dc9bd8",
   "metadata": {
    "execution": {
     "iopub.execute_input": "2024-02-28T14:13:32.766820Z",
     "iopub.status.busy": "2024-02-28T14:13:32.766350Z",
     "iopub.status.idle": "2024-02-28T14:13:32.782006Z",
     "shell.execute_reply": "2024-02-28T14:13:32.780544Z",
     "shell.execute_reply.started": "2024-02-28T14:13:32.766786Z"
    },
    "papermill": {
     "duration": null,
     "end_time": null,
     "exception": null,
     "start_time": null,
     "status": "pending"
    },
    "tags": []
   },
   "outputs": [],
   "source": [
    "#sample_df = train_df.sample(n=100, random_state=42).sort_values(\"document\", ignore_index=True)"
   ]
  },
  {
   "cell_type": "code",
   "execution_count": null,
   "id": "cbd33967",
   "metadata": {
    "execution": {
     "iopub.execute_input": "2024-02-28T14:13:33.913280Z",
     "iopub.status.busy": "2024-02-28T14:13:33.912590Z",
     "iopub.status.idle": "2024-02-28T14:13:33.965733Z",
     "shell.execute_reply": "2024-02-28T14:13:33.964605Z",
     "shell.execute_reply.started": "2024-02-28T14:13:33.913245Z"
    },
    "papermill": {
     "duration": null,
     "end_time": null,
     "exception": null,
     "start_time": null,
     "status": "pending"
    },
    "tags": []
   },
   "outputs": [],
   "source": [
    "#sample_df"
   ]
  },
  {
   "cell_type": "markdown",
   "id": "84f49cfd",
   "metadata": {
    "papermill": {
     "duration": null,
     "end_time": null,
     "exception": null,
     "start_time": null,
     "status": "pending"
    },
    "tags": []
   },
   "source": [
    "## Make predictions on sample training data"
   ]
  },
  {
   "cell_type": "code",
   "execution_count": null,
   "id": "7ae2059d",
   "metadata": {
    "execution": {
     "iopub.execute_input": "2024-02-28T14:14:05.093751Z",
     "iopub.status.busy": "2024-02-28T14:14:05.093327Z",
     "iopub.status.idle": "2024-02-28T14:15:45.914868Z",
     "shell.execute_reply": "2024-02-28T14:15:45.913574Z",
     "shell.execute_reply.started": "2024-02-28T14:14:05.093719Z"
    },
    "papermill": {
     "duration": null,
     "end_time": null,
     "exception": null,
     "start_time": null,
     "status": "pending"
    },
    "scrolled": true,
    "tags": []
   },
   "outputs": [],
   "source": [
    "#result_eval = get_total_predictions(sample_df, \"train\")"
   ]
  },
  {
   "cell_type": "code",
   "execution_count": null,
   "id": "11f6f1a7",
   "metadata": {
    "execution": {
     "iopub.execute_input": "2024-02-28T14:15:45.918548Z",
     "iopub.status.busy": "2024-02-28T14:15:45.918080Z",
     "iopub.status.idle": "2024-02-28T14:15:45.928754Z",
     "shell.execute_reply": "2024-02-28T14:15:45.927395Z",
     "shell.execute_reply.started": "2024-02-28T14:15:45.918507Z"
    },
    "papermill": {
     "duration": null,
     "end_time": null,
     "exception": null,
     "start_time": null,
     "status": "pending"
    },
    "tags": []
   },
   "outputs": [],
   "source": [
    "#eval_df = pd.DataFrame(get_submission(result_eval)).rename(columns={\"label\": \"pred\"})"
   ]
  },
  {
   "cell_type": "code",
   "execution_count": null,
   "id": "ff4e3d56",
   "metadata": {
    "execution": {
     "iopub.execute_input": "2024-02-28T14:15:45.930741Z",
     "iopub.status.busy": "2024-02-28T14:15:45.930420Z",
     "iopub.status.idle": "2024-02-28T14:15:45.943158Z",
     "shell.execute_reply": "2024-02-28T14:15:45.941877Z",
     "shell.execute_reply.started": "2024-02-28T14:15:45.930714Z"
    },
    "papermill": {
     "duration": null,
     "end_time": null,
     "exception": null,
     "start_time": null,
     "status": "pending"
    },
    "tags": []
   },
   "outputs": [],
   "source": [
    "#eval_df[\"document\"] = eval_df[\"document\"].astype(int)"
   ]
  },
  {
   "cell_type": "code",
   "execution_count": null,
   "id": "57902350",
   "metadata": {
    "execution": {
     "iopub.execute_input": "2024-02-28T14:15:45.946408Z",
     "iopub.status.busy": "2024-02-28T14:15:45.945945Z",
     "iopub.status.idle": "2024-02-28T14:15:45.965860Z",
     "shell.execute_reply": "2024-02-28T14:15:45.964983Z",
     "shell.execute_reply.started": "2024-02-28T14:15:45.946363Z"
    },
    "papermill": {
     "duration": null,
     "end_time": null,
     "exception": null,
     "start_time": null,
     "status": "pending"
    },
    "tags": []
   },
   "outputs": [],
   "source": [
    "#eval_df"
   ]
  },
  {
   "cell_type": "markdown",
   "id": "8d63f076",
   "metadata": {
    "papermill": {
     "duration": null,
     "end_time": null,
     "exception": null,
     "start_time": null,
     "status": "pending"
    },
    "tags": []
   },
   "source": [
    "## True labels"
   ]
  },
  {
   "cell_type": "code",
   "execution_count": null,
   "id": "afef15fa",
   "metadata": {
    "execution": {
     "iopub.execute_input": "2024-02-28T14:16:35.268414Z",
     "iopub.status.busy": "2024-02-28T14:16:35.267655Z",
     "iopub.status.idle": "2024-02-28T14:16:35.275265Z",
     "shell.execute_reply": "2024-02-28T14:16:35.274216Z",
     "shell.execute_reply.started": "2024-02-28T14:16:35.268377Z"
    },
    "papermill": {
     "duration": null,
     "end_time": null,
     "exception": null,
     "start_time": null,
     "status": "pending"
    },
    "tags": []
   },
   "outputs": [],
   "source": [
    "#true_labels = sample_df[['document','tokens', 'labels']]"
   ]
  },
  {
   "cell_type": "code",
   "execution_count": null,
   "id": "738829b8",
   "metadata": {
    "execution": {
     "iopub.execute_input": "2024-02-28T14:16:35.469499Z",
     "iopub.status.busy": "2024-02-28T14:16:35.469017Z",
     "iopub.status.idle": "2024-02-28T14:16:35.495658Z",
     "shell.execute_reply": "2024-02-28T14:16:35.494161Z",
     "shell.execute_reply.started": "2024-02-28T14:16:35.469464Z"
    },
    "papermill": {
     "duration": null,
     "end_time": null,
     "exception": null,
     "start_time": null,
     "status": "pending"
    },
    "tags": []
   },
   "outputs": [],
   "source": [
    "#true_labels.head()"
   ]
  },
  {
   "cell_type": "code",
   "execution_count": null,
   "id": "85e07f9d",
   "metadata": {
    "execution": {
     "iopub.execute_input": "2024-02-28T14:16:35.663550Z",
     "iopub.status.busy": "2024-02-28T14:16:35.663142Z",
     "iopub.status.idle": "2024-02-28T14:16:35.685406Z",
     "shell.execute_reply": "2024-02-28T14:16:35.683947Z",
     "shell.execute_reply.started": "2024-02-28T14:16:35.663517Z"
    },
    "papermill": {
     "duration": null,
     "end_time": null,
     "exception": null,
     "start_time": null,
     "status": "pending"
    },
    "tags": []
   },
   "outputs": [],
   "source": [
    "#labels_df = true_labels.apply(lambda x: x.explode()).reset_index(drop=True)"
   ]
  },
  {
   "cell_type": "code",
   "execution_count": null,
   "id": "b0515cff",
   "metadata": {
    "execution": {
     "iopub.execute_input": "2024-02-28T14:16:36.191787Z",
     "iopub.status.busy": "2024-02-28T14:16:36.191385Z",
     "iopub.status.idle": "2024-02-28T14:16:36.201623Z",
     "shell.execute_reply": "2024-02-28T14:16:36.200446Z",
     "shell.execute_reply.started": "2024-02-28T14:16:36.191756Z"
    },
    "papermill": {
     "duration": null,
     "end_time": null,
     "exception": null,
     "start_time": null,
     "status": "pending"
    },
    "tags": []
   },
   "outputs": [],
   "source": [
    "#labels_df['token_id'] = labels_df.groupby('document').cumcount()"
   ]
  },
  {
   "cell_type": "code",
   "execution_count": null,
   "id": "466d04a0",
   "metadata": {
    "execution": {
     "iopub.execute_input": "2024-02-28T14:16:36.824448Z",
     "iopub.status.busy": "2024-02-28T14:16:36.823965Z",
     "iopub.status.idle": "2024-02-28T14:16:36.838682Z",
     "shell.execute_reply": "2024-02-28T14:16:36.837801Z",
     "shell.execute_reply.started": "2024-02-28T14:16:36.824413Z"
    },
    "papermill": {
     "duration": null,
     "end_time": null,
     "exception": null,
     "start_time": null,
     "status": "pending"
    },
    "tags": []
   },
   "outputs": [],
   "source": [
    "#labels_df"
   ]
  },
  {
   "cell_type": "markdown",
   "id": "222b8992",
   "metadata": {
    "papermill": {
     "duration": null,
     "end_time": null,
     "exception": null,
     "start_time": null,
     "status": "pending"
    },
    "tags": []
   },
   "source": [
    "## Merge both"
   ]
  },
  {
   "cell_type": "code",
   "execution_count": null,
   "id": "7441296b",
   "metadata": {
    "execution": {
     "iopub.execute_input": "2024-02-28T14:16:38.261612Z",
     "iopub.status.busy": "2024-02-28T14:16:38.261133Z",
     "iopub.status.idle": "2024-02-28T14:16:38.302011Z",
     "shell.execute_reply": "2024-02-28T14:16:38.300768Z",
     "shell.execute_reply.started": "2024-02-28T14:16:38.261578Z"
    },
    "papermill": {
     "duration": null,
     "end_time": null,
     "exception": null,
     "start_time": null,
     "status": "pending"
    },
    "tags": []
   },
   "outputs": [],
   "source": [
    "#merged_df = pd.merge(labels_df, eval_df[['token', 'pred', 'document']], left_on=[\"document\", \"token_id\"], right_on=[\"document\", \"token\"], how='left').fillna({'pred': 'O'}).drop([\"token\", \"document\"], axis=1)"
   ]
  },
  {
   "cell_type": "code",
   "execution_count": null,
   "id": "f8b5f736",
   "metadata": {
    "execution": {
     "iopub.execute_input": "2024-02-28T14:16:38.685757Z",
     "iopub.status.busy": "2024-02-28T14:16:38.685297Z",
     "iopub.status.idle": "2024-02-28T14:16:38.701649Z",
     "shell.execute_reply": "2024-02-28T14:16:38.700370Z",
     "shell.execute_reply.started": "2024-02-28T14:16:38.685721Z"
    },
    "papermill": {
     "duration": null,
     "end_time": null,
     "exception": null,
     "start_time": null,
     "status": "pending"
    },
    "tags": []
   },
   "outputs": [],
   "source": [
    "#merged_df"
   ]
  },
  {
   "cell_type": "markdown",
   "id": "6ad8875e",
   "metadata": {
    "papermill": {
     "duration": null,
     "end_time": null,
     "exception": null,
     "start_time": null,
     "status": "pending"
    },
    "tags": []
   },
   "source": [
    "## Metrics time"
   ]
  },
  {
   "cell_type": "code",
   "execution_count": null,
   "id": "3058fdc5",
   "metadata": {
    "execution": {
     "iopub.execute_input": "2024-02-28T14:16:40.164511Z",
     "iopub.status.busy": "2024-02-28T14:16:40.163585Z",
     "iopub.status.idle": "2024-02-28T14:16:51.898970Z",
     "shell.execute_reply": "2024-02-28T14:16:51.897589Z",
     "shell.execute_reply.started": "2024-02-28T14:16:40.164474Z"
    },
    "papermill": {
     "duration": null,
     "end_time": null,
     "exception": null,
     "start_time": null,
     "status": "pending"
    },
    "tags": []
   },
   "outputs": [],
   "source": [
    "# Compute rate\n",
    "'''\n",
    "TP, FP, TN, FN = 0, 0, 0, 0\n",
    "tp, fp, fn, missclass = [],[],[],[]\n",
    "\n",
    "for index, row in merged_df.iterrows():\n",
    "    if (merged_df[\"labels\"][index] == 'O') & (merged_df[\"pred\"][index] == 'O'):\n",
    "        TN += 1\n",
    "    if (merged_df[\"labels\"][index] != 'O') & (merged_df[\"pred\"][index] == 'O'):\n",
    "        FN += 1\n",
    "        fn.append([merged_df[\"tokens\"][index], merged_df[\"labels\"][index], merged_df[\"pred\"][index]])\n",
    "    if (merged_df[\"labels\"][index] == 'O') & (merged_df[\"pred\"][index] != 'O'):\n",
    "        FP += 1\n",
    "        fp.append([merged_df[\"tokens\"][index], merged_df[\"labels\"][index], merged_df[\"pred\"][index]])\n",
    "    if (merged_df[\"labels\"][index] != 'O') & (merged_df[\"pred\"][index] != 'O'):\n",
    "        if merged_df[\"labels\"][index] == merged_df[\"pred\"][index]:\n",
    "            TP += 1\n",
    "            tp.append([merged_df[\"tokens\"][index], merged_df[\"labels\"][index], merged_df[\"pred\"][index]])\n",
    "        else:\n",
    "            FN, FP = FN + 1, FP + 1\n",
    "            missclass.append([merged_df[\"tokens\"][index], merged_df[\"labels\"][index], merged_df[\"pred\"][index]])\n",
    "\n",
    "print(TP, FP, TN, FN)\n",
    "'''"
   ]
  },
  {
   "cell_type": "code",
   "execution_count": null,
   "id": "a2e7e5cd",
   "metadata": {
    "execution": {
     "iopub.execute_input": "2024-02-28T12:49:17.233010Z",
     "iopub.status.busy": "2024-02-28T12:49:17.232651Z",
     "iopub.status.idle": "2024-02-28T12:49:17.240524Z",
     "shell.execute_reply": "2024-02-28T12:49:17.239204Z",
     "shell.execute_reply.started": "2024-02-28T12:49:17.232973Z"
    },
    "papermill": {
     "duration": null,
     "end_time": null,
     "exception": null,
     "start_time": null,
     "status": "pending"
    },
    "tags": []
   },
   "outputs": [],
   "source": [
    "# Pretty clear what this does\n",
    "def calculate_f_beta_score(TP, FP, FN, beta=5):\n",
    "    precision = TP / (TP + FP) if (TP + FP) != 0 else 0\n",
    "    recall = TP / (TP + FN) if (TP + FN) != 0 else 0\n",
    "\n",
    "    beta_squared = beta ** 2\n",
    "    f_beta_score = (1 + beta_squared) * (precision * recall) / ((beta_squared * precision) + recall) if (beta_squared * precision) + recall != 0 else 0\n",
    "\n",
    "    return f_beta_score"
   ]
  },
  {
   "cell_type": "code",
   "execution_count": null,
   "id": "cf3987b0",
   "metadata": {
    "execution": {
     "iopub.execute_input": "2024-02-28T14:16:51.914827Z",
     "iopub.status.busy": "2024-02-28T14:16:51.914356Z",
     "iopub.status.idle": "2024-02-28T14:16:51.925604Z",
     "shell.execute_reply": "2024-02-28T14:16:51.924360Z",
     "shell.execute_reply.started": "2024-02-28T14:16:51.914779Z"
    },
    "papermill": {
     "duration": null,
     "end_time": null,
     "exception": null,
     "start_time": null,
     "status": "pending"
    },
    "tags": []
   },
   "outputs": [],
   "source": [
    "#print(calculate_f_beta_score(TP, FP, FN))"
   ]
  },
  {
   "cell_type": "markdown",
   "id": "2f0f934b",
   "metadata": {
    "papermill": {
     "duration": null,
     "end_time": null,
     "exception": null,
     "start_time": null,
     "status": "pending"
    },
    "tags": []
   },
   "source": [
    "## Errors analysis"
   ]
  },
  {
   "cell_type": "markdown",
   "id": "75199377",
   "metadata": {
    "papermill": {
     "duration": null,
     "end_time": null,
     "exception": null,
     "start_time": null,
     "status": "pending"
    },
    "tags": []
   },
   "source": [
    "### Analyze errors for false negatives"
   ]
  },
  {
   "cell_type": "code",
   "execution_count": null,
   "id": "d9163854",
   "metadata": {
    "execution": {
     "iopub.execute_input": "2024-02-28T14:17:45.112679Z",
     "iopub.status.busy": "2024-02-28T14:17:45.112298Z",
     "iopub.status.idle": "2024-02-28T14:17:45.119864Z",
     "shell.execute_reply": "2024-02-28T14:17:45.118512Z",
     "shell.execute_reply.started": "2024-02-28T14:17:45.112652Z"
    },
    "papermill": {
     "duration": null,
     "end_time": null,
     "exception": null,
     "start_time": null,
     "status": "pending"
    },
    "tags": []
   },
   "outputs": [],
   "source": [
    "#fn_df = pd.DataFrame(fn, columns=[\"tokens\", \"labels\", \"preds\"])"
   ]
  },
  {
   "cell_type": "code",
   "execution_count": null,
   "id": "61424381",
   "metadata": {
    "execution": {
     "iopub.execute_input": "2024-02-28T14:22:48.592828Z",
     "iopub.status.busy": "2024-02-28T14:22:48.592371Z",
     "iopub.status.idle": "2024-02-28T14:22:48.602841Z",
     "shell.execute_reply": "2024-02-28T14:22:48.601716Z",
     "shell.execute_reply.started": "2024-02-28T14:22:48.592798Z"
    },
    "papermill": {
     "duration": null,
     "end_time": null,
     "exception": null,
     "start_time": null,
     "status": "pending"
    },
    "tags": []
   },
   "outputs": [],
   "source": [
    "#fn"
   ]
  },
  {
   "cell_type": "code",
   "execution_count": null,
   "id": "97ab1b31",
   "metadata": {
    "execution": {
     "iopub.execute_input": "2024-02-28T14:17:45.306735Z",
     "iopub.status.busy": "2024-02-28T14:17:45.306357Z",
     "iopub.status.idle": "2024-02-28T14:17:45.312578Z",
     "shell.execute_reply": "2024-02-28T14:17:45.311162Z",
     "shell.execute_reply.started": "2024-02-28T14:17:45.306705Z"
    },
    "papermill": {
     "duration": null,
     "end_time": null,
     "exception": null,
     "start_time": null,
     "status": "pending"
    },
    "tags": []
   },
   "outputs": [],
   "source": [
    "#fn_counts = Counter(fn_df[\"labels\"])"
   ]
  },
  {
   "cell_type": "code",
   "execution_count": null,
   "id": "093171e4",
   "metadata": {
    "execution": {
     "iopub.execute_input": "2024-02-28T14:17:45.571986Z",
     "iopub.status.busy": "2024-02-28T14:17:45.571611Z",
     "iopub.status.idle": "2024-02-28T14:17:45.579994Z",
     "shell.execute_reply": "2024-02-28T14:17:45.578722Z",
     "shell.execute_reply.started": "2024-02-28T14:17:45.571958Z"
    },
    "papermill": {
     "duration": null,
     "end_time": null,
     "exception": null,
     "start_time": null,
     "status": "pending"
    },
    "tags": []
   },
   "outputs": [],
   "source": [
    "#fn_counts.most_common()"
   ]
  },
  {
   "cell_type": "markdown",
   "id": "ca7f2382",
   "metadata": {
    "papermill": {
     "duration": null,
     "end_time": null,
     "exception": null,
     "start_time": null,
     "status": "pending"
    },
    "tags": []
   },
   "source": [
    "### Same for false positives"
   ]
  },
  {
   "cell_type": "code",
   "execution_count": null,
   "id": "faf62a90",
   "metadata": {
    "execution": {
     "iopub.execute_input": "2024-02-28T14:17:49.106186Z",
     "iopub.status.busy": "2024-02-28T14:17:49.105735Z",
     "iopub.status.idle": "2024-02-28T14:17:49.112952Z",
     "shell.execute_reply": "2024-02-28T14:17:49.111601Z",
     "shell.execute_reply.started": "2024-02-28T14:17:49.106153Z"
    },
    "papermill": {
     "duration": null,
     "end_time": null,
     "exception": null,
     "start_time": null,
     "status": "pending"
    },
    "tags": []
   },
   "outputs": [],
   "source": [
    "#fp_df = pd.DataFrame(fp, columns=[\"tokens\", \"labels\", \"preds\"])"
   ]
  },
  {
   "cell_type": "code",
   "execution_count": null,
   "id": "0c24a140",
   "metadata": {
    "execution": {
     "iopub.execute_input": "2024-02-28T14:17:49.288246Z",
     "iopub.status.busy": "2024-02-28T14:17:49.287759Z",
     "iopub.status.idle": "2024-02-28T14:17:49.293598Z",
     "shell.execute_reply": "2024-02-28T14:17:49.292660Z",
     "shell.execute_reply.started": "2024-02-28T14:17:49.288210Z"
    },
    "papermill": {
     "duration": null,
     "end_time": null,
     "exception": null,
     "start_time": null,
     "status": "pending"
    },
    "tags": []
   },
   "outputs": [],
   "source": [
    "#fp_counts = Counter(fp_df[\"preds\"])"
   ]
  },
  {
   "cell_type": "code",
   "execution_count": null,
   "id": "0751b46f",
   "metadata": {
    "execution": {
     "iopub.execute_input": "2024-02-28T14:17:49.466041Z",
     "iopub.status.busy": "2024-02-28T14:17:49.465575Z",
     "iopub.status.idle": "2024-02-28T14:17:49.474509Z",
     "shell.execute_reply": "2024-02-28T14:17:49.473241Z",
     "shell.execute_reply.started": "2024-02-28T14:17:49.466007Z"
    },
    "papermill": {
     "duration": null,
     "end_time": null,
     "exception": null,
     "start_time": null,
     "status": "pending"
    },
    "tags": []
   },
   "outputs": [],
   "source": [
    "#fp_counts.most_common()"
   ]
  },
  {
   "cell_type": "markdown",
   "id": "f40b3096",
   "metadata": {
    "papermill": {
     "duration": null,
     "end_time": null,
     "exception": null,
     "start_time": null,
     "status": "pending"
    },
    "tags": []
   },
   "source": [
    "# Submission"
   ]
  },
  {
   "cell_type": "code",
   "execution_count": null,
   "id": "7cf6051e",
   "metadata": {
    "execution": {
     "iopub.execute_input": "2024-02-28T14:35:31.057848Z",
     "iopub.status.busy": "2024-02-28T14:35:31.056523Z",
     "iopub.status.idle": "2024-02-28T14:35:40.536401Z",
     "shell.execute_reply": "2024-02-28T14:35:40.535210Z",
     "shell.execute_reply.started": "2024-02-28T14:35:31.057794Z"
    },
    "papermill": {
     "duration": null,
     "end_time": null,
     "exception": null,
     "start_time": null,
     "status": "pending"
    },
    "tags": []
   },
   "outputs": [],
   "source": [
    "results = get_total_predictions(test_df)"
   ]
  },
  {
   "cell_type": "code",
   "execution_count": null,
   "id": "ee697551",
   "metadata": {
    "execution": {
     "iopub.execute_input": "2024-02-28T14:35:40.538875Z",
     "iopub.status.busy": "2024-02-28T14:35:40.538518Z",
     "iopub.status.idle": "2024-02-28T14:35:40.546432Z",
     "shell.execute_reply": "2024-02-28T14:35:40.544694Z",
     "shell.execute_reply.started": "2024-02-28T14:35:40.538846Z"
    },
    "papermill": {
     "duration": null,
     "end_time": null,
     "exception": null,
     "start_time": null,
     "status": "pending"
    },
    "tags": []
   },
   "outputs": [],
   "source": [
    "# Get submission data\n",
    "submission = get_submission(results)"
   ]
  },
  {
   "cell_type": "code",
   "execution_count": null,
   "id": "21160e46",
   "metadata": {
    "execution": {
     "iopub.execute_input": "2024-02-28T14:35:53.051315Z",
     "iopub.status.busy": "2024-02-28T14:35:53.050839Z",
     "iopub.status.idle": "2024-02-28T14:35:53.072399Z",
     "shell.execute_reply": "2024-02-28T14:35:53.070450Z",
     "shell.execute_reply.started": "2024-02-28T14:35:53.051282Z"
    },
    "papermill": {
     "duration": null,
     "end_time": null,
     "exception": null,
     "start_time": null,
     "status": "pending"
    },
    "tags": []
   },
   "outputs": [],
   "source": [
    "pd.DataFrame(submission)"
   ]
  },
  {
   "cell_type": "code",
   "execution_count": null,
   "id": "18cf3e4e",
   "metadata": {
    "execution": {
     "iopub.execute_input": "2024-02-28T14:36:00.032455Z",
     "iopub.status.busy": "2024-02-28T14:36:00.032050Z",
     "iopub.status.idle": "2024-02-28T14:36:00.061171Z",
     "shell.execute_reply": "2024-02-28T14:36:00.059903Z",
     "shell.execute_reply.started": "2024-02-28T14:36:00.032425Z"
    },
    "papermill": {
     "duration": null,
     "end_time": null,
     "exception": null,
     "start_time": null,
     "status": "pending"
    },
    "tags": []
   },
   "outputs": [],
   "source": [
    "pd.read_csv('/kaggle/input/pii-detection-removal-from-educational-data/sample_submission.csv').head(10)"
   ]
  },
  {
   "cell_type": "code",
   "execution_count": null,
   "id": "58cb7e30",
   "metadata": {
    "execution": {
     "iopub.execute_input": "2024-02-28T14:36:07.183289Z",
     "iopub.status.busy": "2024-02-28T14:36:07.182825Z",
     "iopub.status.idle": "2024-02-28T14:36:07.193709Z",
     "shell.execute_reply": "2024-02-28T14:36:07.192311Z",
     "shell.execute_reply.started": "2024-02-28T14:36:07.183256Z"
    },
    "papermill": {
     "duration": null,
     "end_time": null,
     "exception": null,
     "start_time": null,
     "status": "pending"
    },
    "tags": []
   },
   "outputs": [],
   "source": [
    "submission.to_csv('submission.csv', index = False)"
   ]
  },
  {
   "cell_type": "code",
   "execution_count": null,
   "id": "c54c2222",
   "metadata": {
    "papermill": {
     "duration": null,
     "end_time": null,
     "exception": null,
     "start_time": null,
     "status": "pending"
    },
    "tags": []
   },
   "outputs": [],
   "source": []
  }
 ],
 "metadata": {
  "kaggle": {
   "accelerator": "none",
   "dataSources": [
    {
     "databundleVersionId": 7500999,
     "sourceId": 66653,
     "sourceType": "competition"
    }
   ],
   "dockerImageVersionId": 30646,
   "isGpuEnabled": false,
   "isInternetEnabled": false,
   "language": "python",
   "sourceType": "notebook"
  },
  "kernelspec": {
   "display_name": "Python 3",
   "language": "python",
   "name": "python3"
  },
  "language_info": {
   "codemirror_mode": {
    "name": "ipython",
    "version": 3
   },
   "file_extension": ".py",
   "mimetype": "text/x-python",
   "name": "python",
   "nbconvert_exporter": "python",
   "pygments_lexer": "ipython3",
   "version": "3.10.13"
  },
  "papermill": {
   "default_parameters": {},
   "duration": 85.560558,
   "end_time": "2024-02-28T14:38:13.241796",
   "environment_variables": {},
   "exception": true,
   "input_path": "__notebook__.ipynb",
   "output_path": "__notebook__.ipynb",
   "parameters": {},
   "start_time": "2024-02-28T14:36:47.681238",
   "version": "2.5.0"
  }
 },
 "nbformat": 4,
 "nbformat_minor": 5
}
